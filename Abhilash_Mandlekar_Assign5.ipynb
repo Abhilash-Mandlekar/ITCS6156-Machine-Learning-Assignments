{
 "cells": [
  {
   "cell_type": "markdown",
   "metadata": {},
   "source": [
    "# Assignment #5 - Deep Learning (Extra Credits)\n",
    "\n",
    "### <font color=\"red\"> DUE: Dec 6 (Friday) 11:00 pm </font>  "
   ]
  },
  {
   "cell_type": "markdown",
   "metadata": {},
   "source": [
    "<font color=\"blue\"> Abhilash Mandlekar</font>"
   ]
  },
  {
   "cell_type": "markdown",
   "metadata": {},
   "source": [
    "# I. Overview\n",
    "\n",
    "This deep learning assignment mainly focuses to build multi-layer neural network model. The three different deep learning models are created with differing number of hidden layers in each model. I am using the same KDD Cup dataset that I used in previous assignments. The dataset is of \"Rain in Australia\" which is taken from kaggle. The dataset has total 23 features and has over 1 lakh rows which is used to predict whether there will be rain tomorrow or not.<br>\n",
    "\n",
    "By changing the hidden layers in model we can compare the accuracies of these model and see the results. The best model is the model with high accuracy on training as well as on testing set.\n"
   ]
  },
  {
   "cell_type": "markdown",
   "metadata": {},
   "source": [
    "# II. Data\n",
    "\n",
    "### Reading the data\n",
    "\n",
    "Since the data is in csv file, I have used pandas function read_csv to read the csv file for the dataset. This creates the dataframe which can directly be treated as the table and maintains the data in structured format. Here I have created a class that can be used to read the dataset for rain."
   ]
  },
  {
   "cell_type": "code",
   "execution_count": 62,
   "metadata": {},
   "outputs": [],
   "source": [
    "import pandas as pd\n",
    "import seaborn as sb\n",
    "from sklearn import datasets, linear_model\n",
    "from sklearn.model_selection import train_test_split\n",
    "from matplotlib import pyplot as plt\n",
    "import numpy as np\n",
    "import pandas as pd\n",
    "import seaborn as sns\n",
    "import tensorflow as tf\n",
    "from sklearn.metrics import roc_curve, auc\n",
    "from sklearn.preprocessing import LabelEncoder"
   ]
  },
  {
   "cell_type": "code",
   "execution_count": 74,
   "metadata": {},
   "outputs": [],
   "source": [
    "class ReadWeatherData():\n",
    "    def weatherData(self, fname):\n",
    "        df = pd.read_csv(fname)\n",
    "        df = df.dropna()\n",
    "        return df"
   ]
  },
  {
   "cell_type": "markdown",
   "metadata": {},
   "source": [
    "rwd = ReadWeatherData()\n",
    "rain_df = rwd.weatherData(\"weatherAUS.csv\")"
   ]
  },
  {
   "cell_type": "code",
   "execution_count": 75,
   "metadata": {},
   "outputs": [
    {
     "data": {
      "text/html": [
       "<div>\n",
       "<style scoped>\n",
       "    .dataframe tbody tr th:only-of-type {\n",
       "        vertical-align: middle;\n",
       "    }\n",
       "\n",
       "    .dataframe tbody tr th {\n",
       "        vertical-align: top;\n",
       "    }\n",
       "\n",
       "    .dataframe thead th {\n",
       "        text-align: right;\n",
       "    }\n",
       "</style>\n",
       "<table border=\"1\" class=\"dataframe\">\n",
       "  <thead>\n",
       "    <tr style=\"text-align: right;\">\n",
       "      <th></th>\n",
       "      <th>MinTemp</th>\n",
       "      <th>MaxTemp</th>\n",
       "      <th>Rainfall</th>\n",
       "      <th>Evaporation</th>\n",
       "      <th>Sunshine</th>\n",
       "      <th>WindGustSpeed</th>\n",
       "      <th>WindSpeed9am</th>\n",
       "      <th>WindSpeed3pm</th>\n",
       "      <th>Humidity9am</th>\n",
       "      <th>Humidity3pm</th>\n",
       "      <th>Pressure9am</th>\n",
       "      <th>Pressure3pm</th>\n",
       "      <th>Cloud9am</th>\n",
       "      <th>Cloud3pm</th>\n",
       "      <th>Temp9am</th>\n",
       "      <th>Temp3pm</th>\n",
       "      <th>RISK_MM</th>\n",
       "    </tr>\n",
       "  </thead>\n",
       "  <tbody>\n",
       "    <tr>\n",
       "      <th>count</th>\n",
       "      <td>56420.000000</td>\n",
       "      <td>56420.000000</td>\n",
       "      <td>56420.000000</td>\n",
       "      <td>56420.000000</td>\n",
       "      <td>56420.000000</td>\n",
       "      <td>56420.000000</td>\n",
       "      <td>56420.000000</td>\n",
       "      <td>56420.000000</td>\n",
       "      <td>56420.000000</td>\n",
       "      <td>56420.000000</td>\n",
       "      <td>56420.000000</td>\n",
       "      <td>56420.000000</td>\n",
       "      <td>56420.000000</td>\n",
       "      <td>56420.000000</td>\n",
       "      <td>56420.000000</td>\n",
       "      <td>56420.000000</td>\n",
       "      <td>56420.000000</td>\n",
       "    </tr>\n",
       "    <tr>\n",
       "      <th>mean</th>\n",
       "      <td>13.464770</td>\n",
       "      <td>24.219206</td>\n",
       "      <td>2.130397</td>\n",
       "      <td>5.503135</td>\n",
       "      <td>7.735626</td>\n",
       "      <td>40.877366</td>\n",
       "      <td>15.667228</td>\n",
       "      <td>19.786778</td>\n",
       "      <td>65.874123</td>\n",
       "      <td>49.601985</td>\n",
       "      <td>1017.239505</td>\n",
       "      <td>1014.795580</td>\n",
       "      <td>4.241705</td>\n",
       "      <td>4.326515</td>\n",
       "      <td>18.204961</td>\n",
       "      <td>22.710333</td>\n",
       "      <td>2.346960</td>\n",
       "    </tr>\n",
       "    <tr>\n",
       "      <th>std</th>\n",
       "      <td>6.416689</td>\n",
       "      <td>6.970676</td>\n",
       "      <td>7.014822</td>\n",
       "      <td>3.696282</td>\n",
       "      <td>3.758153</td>\n",
       "      <td>13.335232</td>\n",
       "      <td>8.317005</td>\n",
       "      <td>8.510180</td>\n",
       "      <td>18.513289</td>\n",
       "      <td>20.197040</td>\n",
       "      <td>6.909357</td>\n",
       "      <td>6.870892</td>\n",
       "      <td>2.797162</td>\n",
       "      <td>2.647251</td>\n",
       "      <td>6.567991</td>\n",
       "      <td>6.836543</td>\n",
       "      <td>8.731885</td>\n",
       "    </tr>\n",
       "    <tr>\n",
       "      <th>min</th>\n",
       "      <td>-6.700000</td>\n",
       "      <td>4.100000</td>\n",
       "      <td>0.000000</td>\n",
       "      <td>0.000000</td>\n",
       "      <td>0.000000</td>\n",
       "      <td>9.000000</td>\n",
       "      <td>2.000000</td>\n",
       "      <td>2.000000</td>\n",
       "      <td>0.000000</td>\n",
       "      <td>0.000000</td>\n",
       "      <td>980.500000</td>\n",
       "      <td>977.100000</td>\n",
       "      <td>0.000000</td>\n",
       "      <td>0.000000</td>\n",
       "      <td>-0.700000</td>\n",
       "      <td>3.700000</td>\n",
       "      <td>0.000000</td>\n",
       "    </tr>\n",
       "    <tr>\n",
       "      <th>25%</th>\n",
       "      <td>8.600000</td>\n",
       "      <td>18.700000</td>\n",
       "      <td>0.000000</td>\n",
       "      <td>2.800000</td>\n",
       "      <td>5.000000</td>\n",
       "      <td>31.000000</td>\n",
       "      <td>9.000000</td>\n",
       "      <td>13.000000</td>\n",
       "      <td>55.000000</td>\n",
       "      <td>35.000000</td>\n",
       "      <td>1012.700000</td>\n",
       "      <td>1010.100000</td>\n",
       "      <td>1.000000</td>\n",
       "      <td>2.000000</td>\n",
       "      <td>13.100000</td>\n",
       "      <td>17.400000</td>\n",
       "      <td>0.000000</td>\n",
       "    </tr>\n",
       "    <tr>\n",
       "      <th>50%</th>\n",
       "      <td>13.200000</td>\n",
       "      <td>23.900000</td>\n",
       "      <td>0.000000</td>\n",
       "      <td>5.000000</td>\n",
       "      <td>8.600000</td>\n",
       "      <td>39.000000</td>\n",
       "      <td>15.000000</td>\n",
       "      <td>19.000000</td>\n",
       "      <td>67.000000</td>\n",
       "      <td>50.000000</td>\n",
       "      <td>1017.200000</td>\n",
       "      <td>1014.700000</td>\n",
       "      <td>5.000000</td>\n",
       "      <td>5.000000</td>\n",
       "      <td>17.800000</td>\n",
       "      <td>22.400000</td>\n",
       "      <td>0.000000</td>\n",
       "    </tr>\n",
       "    <tr>\n",
       "      <th>75%</th>\n",
       "      <td>18.400000</td>\n",
       "      <td>29.700000</td>\n",
       "      <td>0.600000</td>\n",
       "      <td>7.400000</td>\n",
       "      <td>10.700000</td>\n",
       "      <td>48.000000</td>\n",
       "      <td>20.000000</td>\n",
       "      <td>26.000000</td>\n",
       "      <td>79.000000</td>\n",
       "      <td>63.000000</td>\n",
       "      <td>1021.800000</td>\n",
       "      <td>1019.400000</td>\n",
       "      <td>7.000000</td>\n",
       "      <td>7.000000</td>\n",
       "      <td>23.300000</td>\n",
       "      <td>27.900000</td>\n",
       "      <td>0.600000</td>\n",
       "    </tr>\n",
       "    <tr>\n",
       "      <th>max</th>\n",
       "      <td>31.400000</td>\n",
       "      <td>48.100000</td>\n",
       "      <td>206.200000</td>\n",
       "      <td>81.200000</td>\n",
       "      <td>14.500000</td>\n",
       "      <td>124.000000</td>\n",
       "      <td>67.000000</td>\n",
       "      <td>76.000000</td>\n",
       "      <td>100.000000</td>\n",
       "      <td>100.000000</td>\n",
       "      <td>1040.400000</td>\n",
       "      <td>1038.900000</td>\n",
       "      <td>8.000000</td>\n",
       "      <td>9.000000</td>\n",
       "      <td>39.400000</td>\n",
       "      <td>46.100000</td>\n",
       "      <td>367.600000</td>\n",
       "    </tr>\n",
       "  </tbody>\n",
       "</table>\n",
       "</div>"
      ],
      "text/plain": [
       "            MinTemp       MaxTemp      Rainfall   Evaporation      Sunshine  \\\n",
       "count  56420.000000  56420.000000  56420.000000  56420.000000  56420.000000   \n",
       "mean      13.464770     24.219206      2.130397      5.503135      7.735626   \n",
       "std        6.416689      6.970676      7.014822      3.696282      3.758153   \n",
       "min       -6.700000      4.100000      0.000000      0.000000      0.000000   \n",
       "25%        8.600000     18.700000      0.000000      2.800000      5.000000   \n",
       "50%       13.200000     23.900000      0.000000      5.000000      8.600000   \n",
       "75%       18.400000     29.700000      0.600000      7.400000     10.700000   \n",
       "max       31.400000     48.100000    206.200000     81.200000     14.500000   \n",
       "\n",
       "       WindGustSpeed  WindSpeed9am  WindSpeed3pm   Humidity9am   Humidity3pm  \\\n",
       "count   56420.000000  56420.000000  56420.000000  56420.000000  56420.000000   \n",
       "mean       40.877366     15.667228     19.786778     65.874123     49.601985   \n",
       "std        13.335232      8.317005      8.510180     18.513289     20.197040   \n",
       "min         9.000000      2.000000      2.000000      0.000000      0.000000   \n",
       "25%        31.000000      9.000000     13.000000     55.000000     35.000000   \n",
       "50%        39.000000     15.000000     19.000000     67.000000     50.000000   \n",
       "75%        48.000000     20.000000     26.000000     79.000000     63.000000   \n",
       "max       124.000000     67.000000     76.000000    100.000000    100.000000   \n",
       "\n",
       "        Pressure9am   Pressure3pm      Cloud9am      Cloud3pm       Temp9am  \\\n",
       "count  56420.000000  56420.000000  56420.000000  56420.000000  56420.000000   \n",
       "mean    1017.239505   1014.795580      4.241705      4.326515     18.204961   \n",
       "std        6.909357      6.870892      2.797162      2.647251      6.567991   \n",
       "min      980.500000    977.100000      0.000000      0.000000     -0.700000   \n",
       "25%     1012.700000   1010.100000      1.000000      2.000000     13.100000   \n",
       "50%     1017.200000   1014.700000      5.000000      5.000000     17.800000   \n",
       "75%     1021.800000   1019.400000      7.000000      7.000000     23.300000   \n",
       "max     1040.400000   1038.900000      8.000000      9.000000     39.400000   \n",
       "\n",
       "            Temp3pm       RISK_MM  \n",
       "count  56420.000000  56420.000000  \n",
       "mean      22.710333      2.346960  \n",
       "std        6.836543      8.731885  \n",
       "min        3.700000      0.000000  \n",
       "25%       17.400000      0.000000  \n",
       "50%       22.400000      0.000000  \n",
       "75%       27.900000      0.600000  \n",
       "max       46.100000    367.600000  "
      ]
     },
     "execution_count": 75,
     "metadata": {},
     "output_type": "execute_result"
    }
   ],
   "source": [
    "rain_df.describe()"
   ]
  },
  {
   "cell_type": "markdown",
   "metadata": {},
   "source": [
    "### Visualization of data"
   ]
  },
  {
   "cell_type": "markdown",
   "metadata": {},
   "source": [
    "#### 1. Distribution plot (Windspeed distribution)\n",
    "\n",
    "We can see that the windspeed is normally distributed between the range of 0-120 km/hr. As we can see from the graph below, the mean of windspeed in this dataset is around 38 km/hr."
   ]
  },
  {
   "cell_type": "code",
   "execution_count": 63,
   "metadata": {},
   "outputs": [
    {
     "name": "stdout",
     "output_type": "stream",
     "text": [
      "Dataframe is matrix of:  (56420, 24)\n"
     ]
    },
    {
     "data": {
      "text/plain": [
       "Text(0.5, 0, 'Wind speed in km/hr')"
      ]
     },
     "execution_count": 63,
     "metadata": {},
     "output_type": "execute_result"
    },
    {
     "data": {
      "image/png": "[encoded data removed]",
      "text/plain": [
       "<Figure size 576x576 with 1 Axes>"
      ]
     },
     "metadata": {
      "needs_background": "light"
     },
     "output_type": "display_data"
    }
   ],
   "source": [
    "print(\"Dataframe is matrix of: \",rain_df.shape)\n",
    "fig, ax = plt.subplots(figsize=(8,8))\n",
    "sb.distplot(rain_df['WindGustSpeed'])\n",
    "plt.xlabel(\"Wind speed in km/hr\")"
   ]
  },
  {
   "cell_type": "markdown",
   "metadata": {},
   "source": [
    "#### 2. Scatter plot ( Humidity % vs Rainfall in mm)\n",
    "\n",
    "As the humidity percentage in air increases, it increases the rainfall. The same is shown in the scatter plot below.\n",
    "\n",
    "We can clearly see that there are more datapoints plotted when the humidity in air is higher."
   ]
  },
  {
   "cell_type": "code",
   "execution_count": 64,
   "metadata": {},
   "outputs": [
    {
     "data": {
      "image/png": "[encoded data removed]",
      "text/plain": [
       "<Figure size 576x576 with 1 Axes>"
      ]
     },
     "metadata": {
      "needs_background": "light"
     },
     "output_type": "display_data"
    }
   ],
   "source": [
    "rain_df = rain_df[:15000]\n",
    "fig, ax = plt.subplots(figsize=(8,8))\n",
    "plt.scatter(rain_df['Humidity9am'], rain_df['Rainfall'])\n",
    "plt.ylabel(\"Rainfall (in mm)\")\n",
    "plt.xlabel(\"Humidity Percentage\")\n",
    "plt.title(\"Humidity % vs Rainfall in mm \\n\\n\")\n",
    "plt.show()"
   ]
  },
  {
   "cell_type": "markdown",
   "metadata": {},
   "source": [
    "#### 3. Bar graph (Cities in Australia vs Rainfall in mm)\n",
    "\n",
    "The bar graph below, shows the cities with the respective rainfall in mm.\n",
    "\n",
    "The highest rainfall is recorded in city \"CoffsHarbour\" with more than 120 mm rainfall followed by city \"More\" having 110 mm of rainfall."
   ]
  },
  {
   "cell_type": "code",
   "execution_count": 65,
   "metadata": {},
   "outputs": [
    {
     "data": {
      "image/png": "[encoded data removed]",
      "text/plain": [
       "<Figure size 1080x576 with 1 Axes>"
      ]
     },
     "metadata": {
      "needs_background": "light"
     },
     "output_type": "display_data"
    }
   ],
   "source": [
    "fig, ax = plt.subplots(figsize=(15,8))\n",
    "plt.bar(rain_df['Location'], rain_df['Rainfall'], alpha=0.5)\n",
    "plt.ylabel(\"Rainfall (in mm)\")\n",
    "plt.xlabel(\"Location (Cities in Australia)\")\n",
    "plt.title(\"Cities in Australia with their respective Rainfall in mm\\n\\n\")\n",
    "plt.show()"
   ]
  },
  {
   "cell_type": "markdown",
   "metadata": {},
   "source": [
    "### Preliminary Observation\n",
    "\n",
    "By looking at the above graphs we can make some general observations such as,<br>\n",
    "1) the increase in humidity percentage in atmosphere increase the rainfall in mm (scatter plot 2)<br>\n",
    "2) Rainfall Trends in Australia - we can clearly see the regions that has higher rainfall than in other regions. (Bar graph 3)<br>\n",
    "3) The first distribution graph shows the wind speed in most of the dataset is near to 40 km/hr<br>"
   ]
  },
  {
   "cell_type": "markdown",
   "metadata": {},
   "source": [
    "### Data Preprocessing"
   ]
  },
  {
   "cell_type": "code",
   "execution_count": 66,
   "metadata": {},
   "outputs": [],
   "source": [
    "rwd = ReadWeatherData()\n",
    "rain_df = rwd.weatherData(\"weatherAUS_class.csv\")\n",
    "rain_df_temp = rain_df.dropna()\n",
    "df1_temp = rain_df_temp.iloc[:,2:7]\n",
    "df2_temp = rain_df_temp.iloc[:,8]\n",
    "df3_temp = rain_df_temp.iloc[:,11:21]\n",
    "df1_temp = df1_temp.join(df2_temp)\n",
    "df1_temp = df1_temp.join(df3_temp)\n",
    "rain_df_x = df1_temp\n",
    "rain_df_target = rain_df_temp.iloc[:,23:24]"
   ]
  },
  {
   "cell_type": "code",
   "execution_count": 67,
   "metadata": {},
   "outputs": [
    {
     "data": {
      "text/html": [
       "<div>\n",
       "<style scoped>\n",
       "    .dataframe tbody tr th:only-of-type {\n",
       "        vertical-align: middle;\n",
       "    }\n",
       "\n",
       "    .dataframe tbody tr th {\n",
       "        vertical-align: top;\n",
       "    }\n",
       "\n",
       "    .dataframe thead th {\n",
       "        text-align: right;\n",
       "    }\n",
       "</style>\n",
       "<table border=\"1\" class=\"dataframe\">\n",
       "  <thead>\n",
       "    <tr style=\"text-align: right;\">\n",
       "      <th></th>\n",
       "      <th>MinTemp</th>\n",
       "      <th>MaxTemp</th>\n",
       "      <th>Rainfall</th>\n",
       "      <th>Evaporation</th>\n",
       "      <th>Sunshine</th>\n",
       "      <th>WindGustSpeed</th>\n",
       "      <th>WindSpeed9am</th>\n",
       "      <th>WindSpeed3pm</th>\n",
       "      <th>Humidity9am</th>\n",
       "      <th>Humidity3pm</th>\n",
       "      <th>Pressure9am</th>\n",
       "      <th>Pressure3pm</th>\n",
       "      <th>Cloud9am</th>\n",
       "      <th>Cloud3pm</th>\n",
       "      <th>Temp9am</th>\n",
       "      <th>Temp3pm</th>\n",
       "    </tr>\n",
       "  </thead>\n",
       "  <tbody>\n",
       "    <tr>\n",
       "      <th>5939</th>\n",
       "      <td>17.9</td>\n",
       "      <td>35.2</td>\n",
       "      <td>0.0</td>\n",
       "      <td>12.0</td>\n",
       "      <td>12.3</td>\n",
       "      <td>48.0</td>\n",
       "      <td>6.0</td>\n",
       "      <td>20.0</td>\n",
       "      <td>20.0</td>\n",
       "      <td>13.0</td>\n",
       "      <td>1006.3</td>\n",
       "      <td>1004.4</td>\n",
       "      <td>2.0</td>\n",
       "      <td>5.0</td>\n",
       "      <td>26.6</td>\n",
       "      <td>33.4</td>\n",
       "    </tr>\n",
       "    <tr>\n",
       "      <th>5940</th>\n",
       "      <td>18.4</td>\n",
       "      <td>28.9</td>\n",
       "      <td>0.0</td>\n",
       "      <td>14.8</td>\n",
       "      <td>13.0</td>\n",
       "      <td>37.0</td>\n",
       "      <td>19.0</td>\n",
       "      <td>19.0</td>\n",
       "      <td>30.0</td>\n",
       "      <td>8.0</td>\n",
       "      <td>1012.9</td>\n",
       "      <td>1012.1</td>\n",
       "      <td>1.0</td>\n",
       "      <td>1.0</td>\n",
       "      <td>20.3</td>\n",
       "      <td>27.0</td>\n",
       "    </tr>\n",
       "    <tr>\n",
       "      <th>5942</th>\n",
       "      <td>19.4</td>\n",
       "      <td>37.6</td>\n",
       "      <td>0.0</td>\n",
       "      <td>10.8</td>\n",
       "      <td>10.6</td>\n",
       "      <td>46.0</td>\n",
       "      <td>30.0</td>\n",
       "      <td>15.0</td>\n",
       "      <td>42.0</td>\n",
       "      <td>22.0</td>\n",
       "      <td>1012.3</td>\n",
       "      <td>1009.2</td>\n",
       "      <td>1.0</td>\n",
       "      <td>6.0</td>\n",
       "      <td>28.7</td>\n",
       "      <td>34.9</td>\n",
       "    </tr>\n",
       "    <tr>\n",
       "      <th>5943</th>\n",
       "      <td>21.9</td>\n",
       "      <td>38.4</td>\n",
       "      <td>0.0</td>\n",
       "      <td>11.4</td>\n",
       "      <td>12.2</td>\n",
       "      <td>31.0</td>\n",
       "      <td>6.0</td>\n",
       "      <td>6.0</td>\n",
       "      <td>37.0</td>\n",
       "      <td>22.0</td>\n",
       "      <td>1012.7</td>\n",
       "      <td>1009.1</td>\n",
       "      <td>1.0</td>\n",
       "      <td>5.0</td>\n",
       "      <td>29.1</td>\n",
       "      <td>35.6</td>\n",
       "    </tr>\n",
       "    <tr>\n",
       "      <th>5944</th>\n",
       "      <td>24.2</td>\n",
       "      <td>41.0</td>\n",
       "      <td>0.0</td>\n",
       "      <td>11.2</td>\n",
       "      <td>8.4</td>\n",
       "      <td>35.0</td>\n",
       "      <td>17.0</td>\n",
       "      <td>13.0</td>\n",
       "      <td>19.0</td>\n",
       "      <td>15.0</td>\n",
       "      <td>1010.7</td>\n",
       "      <td>1007.4</td>\n",
       "      <td>1.0</td>\n",
       "      <td>6.0</td>\n",
       "      <td>33.6</td>\n",
       "      <td>37.6</td>\n",
       "    </tr>\n",
       "  </tbody>\n",
       "</table>\n",
       "</div>"
      ],
      "text/plain": [
       "      MinTemp  MaxTemp  Rainfall  Evaporation  Sunshine  WindGustSpeed  \\\n",
       "5939     17.9     35.2       0.0         12.0      12.3           48.0   \n",
       "5940     18.4     28.9       0.0         14.8      13.0           37.0   \n",
       "5942     19.4     37.6       0.0         10.8      10.6           46.0   \n",
       "5943     21.9     38.4       0.0         11.4      12.2           31.0   \n",
       "5944     24.2     41.0       0.0         11.2       8.4           35.0   \n",
       "\n",
       "      WindSpeed9am  WindSpeed3pm  Humidity9am  Humidity3pm  Pressure9am  \\\n",
       "5939           6.0          20.0         20.0         13.0       1006.3   \n",
       "5940          19.0          19.0         30.0          8.0       1012.9   \n",
       "5942          30.0          15.0         42.0         22.0       1012.3   \n",
       "5943           6.0           6.0         37.0         22.0       1012.7   \n",
       "5944          17.0          13.0         19.0         15.0       1010.7   \n",
       "\n",
       "      Pressure3pm  Cloud9am  Cloud3pm  Temp9am  Temp3pm  \n",
       "5939       1004.4       2.0       5.0     26.6     33.4  \n",
       "5940       1012.1       1.0       1.0     20.3     27.0  \n",
       "5942       1009.2       1.0       6.0     28.7     34.9  \n",
       "5943       1009.1       1.0       5.0     29.1     35.6  \n",
       "5944       1007.4       1.0       6.0     33.6     37.6  "
      ]
     },
     "execution_count": 67,
     "metadata": {},
     "output_type": "execute_result"
    }
   ],
   "source": [
    "rain_df_x.head()"
   ]
  },
  {
   "cell_type": "code",
   "execution_count": 68,
   "metadata": {},
   "outputs": [
    {
     "data": {
      "text/html": [
       "<div>\n",
       "<style scoped>\n",
       "    .dataframe tbody tr th:only-of-type {\n",
       "        vertical-align: middle;\n",
       "    }\n",
       "\n",
       "    .dataframe tbody tr th {\n",
       "        vertical-align: top;\n",
       "    }\n",
       "\n",
       "    .dataframe thead th {\n",
       "        text-align: right;\n",
       "    }\n",
       "</style>\n",
       "<table border=\"1\" class=\"dataframe\">\n",
       "  <thead>\n",
       "    <tr style=\"text-align: right;\">\n",
       "      <th></th>\n",
       "      <th>RainTomorrow</th>\n",
       "    </tr>\n",
       "  </thead>\n",
       "  <tbody>\n",
       "    <tr>\n",
       "      <th>5939</th>\n",
       "      <td>No</td>\n",
       "    </tr>\n",
       "    <tr>\n",
       "      <th>5940</th>\n",
       "      <td>No</td>\n",
       "    </tr>\n",
       "    <tr>\n",
       "      <th>5942</th>\n",
       "      <td>No</td>\n",
       "    </tr>\n",
       "    <tr>\n",
       "      <th>5943</th>\n",
       "      <td>No</td>\n",
       "    </tr>\n",
       "    <tr>\n",
       "      <th>5944</th>\n",
       "      <td>No</td>\n",
       "    </tr>\n",
       "  </tbody>\n",
       "</table>\n",
       "</div>"
      ],
      "text/plain": [
       "     RainTomorrow\n",
       "5939           No\n",
       "5940           No\n",
       "5942           No\n",
       "5943           No\n",
       "5944           No"
      ]
     },
     "execution_count": 68,
     "metadata": {},
     "output_type": "execute_result"
    }
   ],
   "source": [
    "rain_df_target.head()"
   ]
  },
  {
   "cell_type": "code",
   "execution_count": 69,
   "metadata": {},
   "outputs": [],
   "source": [
    "rain_df_target.loc[rain_df_target['RainTomorrow'] == 'No', 'RainTomorrow'] = 0\n",
    "rain_df_target.loc[rain_df_target['RainTomorrow'] == 'Yes', 'RainTomorrow'] = 1"
   ]
  },
  {
   "cell_type": "code",
   "execution_count": 70,
   "metadata": {},
   "outputs": [],
   "source": [
    "X_train, X_test, y_train, y_test = train_test_split(rain_df_x, rain_df_target, test_size=0.2)"
   ]
  },
  {
   "cell_type": "markdown",
   "metadata": {},
   "source": [
    "# III. Methods\n",
    "\n",
    "\n",
    "<img src=\"https://camo.githubusercontent.com/31e20172e3b7bc5530a6e7c7e7339e8e556d0acc/687474703a2f2f7777772e6173696d6f76696e737469747574652e6f72672f77702d636f6e74656e742f75706c6f6164732f323031362f30392f6e657572616c6e6574776f726b732e706e67\" width=700 />\n",
    "\n"
   ]
  },
  {
   "cell_type": "markdown",
   "metadata": {},
   "source": [
    "### Fully connected neural networks\n",
    "\n",
    "The model with fully connected neural network is built because the data is one-dimenesional. In such type of networks, output of one layer is given as an input to the next layer. Since each layer is connected with the previous layer, it is also called as Densely connected network.<br>\n",
    "\n",
    "ReLu which is a non-linear action function is used here. Droupout is added to every model in order to control the data to overfit the model.\n"
   ]
  },
  {
   "cell_type": "markdown",
   "metadata": {},
   "source": [
    "### Neural Network with  7 layers\n",
    "\n",
    "In the first model, I am implementing seven hidden layers wth different number of hidden nodes [280,256,128,64,32,16,8] and using ReLU as the activation function and the results are observed."
   ]
  },
  {
   "cell_type": "code",
   "execution_count": 71,
   "metadata": {},
   "outputs": [
    {
     "name": "stderr",
     "output_type": "stream",
     "text": [
      "W1206 17:38:35.910685  4712 training.py:504] Falling back from v2 loop because of error: Failed to find data adapter that can handle input: <class 'pandas.core.frame.DataFrame'>, <class 'NoneType'>\n"
     ]
    },
    {
     "name": "stdout",
     "output_type": "stream",
     "text": [
      "Training Accuracy 82.73% and Validation Accuracy 84.29%\n"
     ]
    },
    {
     "data": {
      "text/plain": [
       "<matplotlib.legend.Legend at 0x252cc2a1be0>"
      ]
     },
     "execution_count": 71,
     "metadata": {},
     "output_type": "execute_result"
    },
    {
     "data": {
      "image/png": "[encoded data removed]",
      "text/plain": [
       "<Figure size 432x288 with 1 Axes>"
      ]
     },
     "metadata": {
      "needs_background": "light"
     },
     "output_type": "display_data"
    }
   ],
   "source": [
    "h_layer1 = 280\n",
    "h_layer2 = 256\n",
    "h_layer3 = 128\n",
    "h_layer4 = 64\n",
    "h_layer5 = 32\n",
    "h_layer6 = 16\n",
    "h_layer7 = 8\n",
    "n_out = 2\n",
    "input_layer = tf.keras.layers.Input(shape=(16,))\n",
    "layer = tf.keras.layers.Dense(h_layer1, activation=\"relu\")(input_layer)\n",
    "layer = tf.keras.layers.Dense(h_layer2, activation=\"relu\")(layer)\n",
    "dropout=tf.keras.layers.Dropout(0.5)(layer)\n",
    "layer = tf.keras.layers.Dense(h_layer3, activation=\"relu\")(dropout)\n",
    "dropout=tf.keras.layers.Dropout(0.5)(layer)\n",
    "layer = tf.keras.layers.Dense(h_layer4, activation=\"relu\")(dropout)\n",
    "dropout=tf.keras.layers.Dropout(0.3)(layer)\n",
    "layer = tf.keras.layers.Dense(h_layer5, activation=\"relu\")(dropout)\n",
    "dropout=tf.keras.layers.Dropout(0.5)(layer)\n",
    "layer = tf.keras.layers.Dense(h_layer6, activation=\"relu\")(dropout)\n",
    "layer = tf.keras.layers.Dense(h_layer7, activation=\"relu\")(layer)\n",
    "output = tf.keras.layers.Dense(n_out, activation=\"softmax\")(layer)\n",
    "model_l2 = tf.keras.models.Model(input_layer, output)\n",
    "\n",
    "optimizer = tf.keras.optimizers.Adam(lr=0.0001)\n",
    "model_l2.compile(loss=\"sparse_categorical_crossentropy\", optimizer=optimizer, metrics=[\"accuracy\"])\n",
    "hist=model_l2.fit(X_train, y_train, epochs=30, batch_size=128, validation_data=(X_test, y_test), verbose=0)\n",
    "print(\"Training Accuracy %.2f%% and Validation Accuracy %.2f%%\"%(hist.history['accuracy'][-1]*100, hist.history['val_accuracy'][-1]*100))\n",
    "plt.plot(hist.history['loss'])\n",
    "plt.plot(hist.history['val_loss'])\n",
    "plt.legend([\"Training Loss\", \"Validation Loss\"])"
   ]
  },
  {
   "cell_type": "markdown",
   "metadata": {},
   "source": [
    "### Neural Network with  8 layers\n",
    "\n",
    "In eight layered model, the hidden nodes are:  [110,100,80,50,40,25,15,3] with the same activation function."
   ]
  },
  {
   "cell_type": "code",
   "execution_count": 72,
   "metadata": {},
   "outputs": [
    {
     "name": "stderr",
     "output_type": "stream",
     "text": [
      "W1206 17:41:33.843957  4712 training.py:504] Falling back from v2 loop because of error: Failed to find data adapter that can handle input: <class 'pandas.core.frame.DataFrame'>, <class 'NoneType'>\n"
     ]
    },
    {
     "name": "stdout",
     "output_type": "stream",
     "text": [
      "Training Accuracy 84.50% and Validation Accuracy 83.44%\n"
     ]
    },
    {
     "data": {
      "text/plain": [
       "<matplotlib.legend.Legend at 0x252ca364780>"
      ]
     },
     "execution_count": 72,
     "metadata": {},
     "output_type": "execute_result"
    },
    {
     "data": {
      "image/png": "[encoded data removed]",
      "text/plain": [
       "<Figure size 432x288 with 1 Axes>"
      ]
     },
     "metadata": {
      "needs_background": "light"
     },
     "output_type": "display_data"
    }
   ],
   "source": [
    "h_layer1= 110\n",
    "h_layer2 = 100\n",
    "h_layer3 = 80\n",
    "h_layer4 = 50\n",
    "h_layer5 = 40\n",
    "h_layer6 = 25\n",
    "h_layer7 = 15\n",
    "h_layer8 = 5\n",
    "n_out = 2\n",
    "input_layer = tf.keras.layers.Input(shape=(16,))\n",
    "layer = tf.keras.layers.Dense(h_layer1, activation=\"relu\")(input_layer)\n",
    "dropout=tf.keras.layers.Dropout(0.5)(layer)\n",
    "layer = tf.keras.layers.Dense(h_layer2, activation=\"relu\")(dropout)\n",
    "dropout=tf.keras.layers.Dropout(0.3)(layer)\n",
    "layer = tf.keras.layers.Dense(h_layer3, activation=\"relu\")(dropout)\n",
    "layer = tf.keras.layers.Dense(h_layer4, activation=\"relu\")(layer)\n",
    "dropout=tf.keras.layers.Dropout(0.5)(layer)\n",
    "layer = tf.keras.layers.Dense(h_layer5, activation=\"relu\")(dropout)\n",
    "layer = tf.keras.layers.Dense(h_layer6, activation=\"relu\")(layer)\n",
    "layer = tf.keras.layers.Dense(h_layer7, activation=\"relu\")(layer)\n",
    "layer = tf.keras.layers.Dense(h_layer8, activation=\"relu\")(layer)\n",
    "output = tf.keras.layers.Dense(n_out, activation=\"softmax\")(layer)\n",
    "model_l3 = tf.keras.models.Model(input_layer, output)\n",
    "\n",
    "optimizer = tf.keras.optimizers.Adam(lr=0.0001)\n",
    "model_l3.compile(loss=\"sparse_categorical_crossentropy\", optimizer=optimizer, metrics=[\"accuracy\"])\n",
    "hist=model_l3.fit(X_train, y_train, epochs=30, batch_size=128, validation_data=(X_test, y_test), verbose=0)\n",
    "print(\"Training Accuracy %.2f%% and Validation Accuracy %.2f%%\"%(hist.history['accuracy'][-1]*100, hist.history['val_accuracy'][-1]*100))\n",
    "plt.plot(hist.history['loss'])\n",
    "plt.plot(hist.history['val_loss'])\n",
    "plt.legend([\"Training Loss\", \"Validation Loss\"])"
   ]
  },
  {
   "cell_type": "markdown",
   "metadata": {},
   "source": [
    "### Neural Network with  10 layers"
   ]
  },
  {
   "cell_type": "markdown",
   "metadata": {},
   "source": [
    "In ten layered model, the hidden nodes are:  [400,360,330,300,280,256,128,64,32,16,8] "
   ]
  },
  {
   "cell_type": "code",
   "execution_count": 73,
   "metadata": {},
   "outputs": [
    {
     "name": "stderr",
     "output_type": "stream",
     "text": [
      "W1206 17:43:17.078836  4712 nn_ops.py:4283] Large dropout rate: 0.6 (>0.5). In TensorFlow 2.x, dropout() uses dropout rate instead of keep_prob. Please ensure that this is intended.\n",
      "W1206 17:43:17.306694  4712 training.py:504] Falling back from v2 loop because of error: Failed to find data adapter that can handle input: <class 'pandas.core.frame.DataFrame'>, <class 'NoneType'>\n"
     ]
    },
    {
     "name": "stdout",
     "output_type": "stream",
     "text": [
      "Training Accuracy 83.82% and Validation Accuracy 84.11%\n"
     ]
    },
    {
     "data": {
      "text/plain": [
       "<matplotlib.legend.Legend at 0x252f44e4d68>"
      ]
     },
     "execution_count": 73,
     "metadata": {},
     "output_type": "execute_result"
    },
    {
     "data": {
      "image/png": "[encoded data removed]",
      "text/plain": [
       "<Figure size 432x288 with 1 Axes>"
      ]
     },
     "metadata": {
      "needs_background": "light"
     },
     "output_type": "display_data"
    }
   ],
   "source": [
    "h_layer1=400\n",
    "h_layer2=360\n",
    "h_layer3= 330\n",
    "h_layer4 = 300\n",
    "h_layer5 = 256\n",
    "h_layer6 = 128\n",
    "h_layer7 = 64\n",
    "h_layer8 = 32\n",
    "h_layer9 = 16\n",
    "h_layer10 = 8\n",
    "n_out = 2\n",
    "input_layer = tf.keras.layers.Input(shape=(16,))\n",
    "layer = tf.keras.layers.Dense(h_layer1, activation=\"relu\")(input_layer)\n",
    "dropout=tf.keras.layers.Dropout(0.5)(layer)\n",
    "layer = tf.keras.layers.Dense(h_layer2, activation=\"relu\")(dropout)\n",
    "layer = tf.keras.layers.Dense(h_layer3, activation=\"relu\")(layer)\n",
    "dropout=tf.keras.layers.Dropout(0.5)(layer)\n",
    "layer = tf.keras.layers.Dense(h_layer4, activation=\"relu\")(dropout)\n",
    "dropout=tf.keras.layers.Dropout(0.6)(layer)\n",
    "layer = tf.keras.layers.Dense(h_layer5, activation=\"relu\")(dropout)\n",
    "layer = tf.keras.layers.Dense(h_layer6, activation=\"relu\")(layer)\n",
    "dropout=tf.keras.layers.Dropout(0.3)(layer)\n",
    "layer = tf.keras.layers.Dense(h_layer7, activation=\"relu\")(dropout)\n",
    "dropout=tf.keras.layers.Dropout(0.5)(layer)\n",
    "layer = tf.keras.layers.Dense(h_layer7, activation=\"relu\")(dropout)\n",
    "layer = tf.keras.layers.Dense(h_layer9, activation=\"relu\")(layer)\n",
    "layer = tf.keras.layers.Dense(h_layer10, activation=\"relu\")(layer)\n",
    "output = tf.keras.layers.Dense(n_out, activation=\"softmax\")(layer)\n",
    "model_l5 = tf.keras.models.Model(input_layer, output)\n",
    "\n",
    "optimizer = tf.keras.optimizers.Adam(lr=0.0001)\n",
    "model_l5.compile(loss=\"sparse_categorical_crossentropy\", optimizer=optimizer, metrics=[\"accuracy\"])\n",
    "hist=model_l5.fit(X_train, y_train, epochs=30, batch_size=128, validation_data=(X_test, y_test), verbose=0)\n",
    "print(\"Training Accuracy %.2f%% and Validation Accuracy %.2f%%\"%(hist.history['accuracy'][-1]*100, hist.history['val_accuracy'][-1]*100))\n",
    "plt.plot(hist.history['loss'])\n",
    "plt.plot(hist.history['val_loss'])\n",
    "plt.legend([\"Training Loss\", \"Validation Loss\"])"
   ]
  },
  {
   "cell_type": "markdown",
   "metadata": {},
   "source": [
    "### Explanation of code for each network\n",
    "\n",
    "I have considered using 16 useful features to train the model for this assignment. The number of output layers are set to 2 because its a binary classification data. There are only two values in \"RainTomorrow\" column, and those are \"yes\" or \"no\". The output of the first hidden layer is fed as input to the next hidden layer which consists of 256 nodes and the activation function. There is a dropout layer after the 2nd hidden layer. The optimizer I used here is Adam. The losses are \"sparse categorical crossentropy\" to determine how well the model performs during training. he evaluation metrics is \"Accuracy\" used to monitor the training and testing steps. "
   ]
  },
  {
   "cell_type": "markdown",
   "metadata": {},
   "source": [
    "# IV - Results\n",
    "\n",
    "The plots are already plotted above. The graphs shows how the losses of the model are reduced. <br>\n",
    "We can see from the models trained above that the model with ten hidden layers fits the data prefectly with the highest training and testing acuuracy of 83.82% and 84.11%. On the other hand, the model with 8 layers gives good training accuracy of 84.50% but has less validation accuracy.<br>\n",
    "\n",
    "Hence, I will prefer model with 10 hidden layers to train this data."
   ]
  },
  {
   "cell_type": "markdown",
   "metadata": {},
   "source": [
    "# Conclusions\n",
    "\n",
    "I have learned to create deep learning model and learned to find the correct number of hidden layers to maximize the accuracy of model. Apart from this, I learned to use various libraries especially designed for machine learning such as tensorflow and keras."
   ]
  },
  {
   "cell_type": "markdown",
   "metadata": {},
   "source": [
    "## Grading\n",
    "\n",
    "Only well-written notebook will be graded. Please follow the structure and fill in as the other assignments. \n",
    "\n",
    "extra credit points | description\n",
    "--|:--\n",
    "1 | First structure (implementation, explanation, plot results, discussion of results)\n",
    "1 | Second structure (implementation, explanation, plot results, discussion of results)\n",
    "1 | Third structure (implementation, explanation, plot results, discussion of results)\n",
    "1 | Explaining and discussing the reason for the selection (Any relation to your data?)\n",
    "  | Comparing the results, discuss or verify your choice \n",
    "\n",
    "#### Optional Extra Credits\n",
    "\n",
    "- [OPT 1] Test your program with GPUs and compare training speed. You can try [FloydHub](https://www.floydhub.com/) for free 2 hours of GPU resources or MAMBA cluster for this test. \n",
    "- [OPT 2] Implement one of neural networks in the chart above and apply it to some real data. "
   ]
  }
 ],
 "metadata": {
  "kernelspec": {
   "display_name": "Python 3",
   "language": "python",
   "name": "python3"
  },
  "language_info": {
   "codemirror_mode": {
    "name": "ipython",
    "version": 3
   },
   "file_extension": ".py",
   "mimetype": "text/x-python",
   "name": "python",
   "nbconvert_exporter": "python",
   "pygments_lexer": "ipython3",
   "version": "3.7.3"
  }
 },
 "nbformat": 4,
 "nbformat_minor": 2
}
