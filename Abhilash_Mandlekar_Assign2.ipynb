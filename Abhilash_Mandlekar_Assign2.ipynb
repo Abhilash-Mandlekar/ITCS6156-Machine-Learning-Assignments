{
 "cells": [
  {
   "cell_type": "markdown",
   "metadata": {},
   "source": [
    "# Assignment #2 - Classification\n",
    "\n",
    "<font color=\"red\"> <b> Due: Oct 15 (Tuesday) 11:00 pm </b> </font>"
   ]
  },
  {
   "cell_type": "markdown",
   "metadata": {},
   "source": [
    "<font color=\"blue\"> Abhilash Mandlekar </font>"
   ]
  },
  {
   "cell_type": "markdown",
   "metadata": {},
   "source": [
    "# I. Introduction\n",
    "\n",
    "The objectie of this assignment is to implement the modified perceptron that is pocket algorithm, Linear Discriminant analysis (LDA), Quadratic Discriminant analysis (QDA), and Logistic regression algorithms. These algorithms are classification algorithms.\n",
    "\n",
    "In this assignment I am using \"Intrusion Detection in Network\" dataset to implement the above algorithms. The first three algorithms that is pocket algorithm, LDA and QDA are designed for the binary classification. Whereas the logistic regression works well for multi-class classification."
   ]
  },
  {
   "cell_type": "markdown",
   "metadata": {},
   "source": [
    "# II. Data\n",
    "\n",
    "Here I am reusing the data used in Assignment 0. I have used \"KDDCUP99\" dataset for classification of computer network attacks. It can be used for intrusion detection in a computer network system. The dataset considers total of 42 features, and has 26000 rows.\n",
    "\n",
    "The dataset contains the information of traffic in a computer network system. The dataset has most of the data for normal traffic. There are majorly 4 types of attacks as the labels in this dataset. Those are denial-of-service (**DOS**) attack, unauthorized access from a remote machine (**R2L**) attack, unauthorized access to local superuser (root) privileges (**U2R**), surveillance and other **probing** attacks.\n",
    "\n",
    "These attacks are further classified in the following types:\n",
    "\n",
    "1) The attacks black, land, neptune, pod, smurf and teardrop are the types of DOS attacks.<br>\n",
    "2) The attacks like buffer_overflow, loadmodule, perl, rootkit are the types of U2R attacks.<br>\n",
    "3) ftp_write, guess_passwd, imap, multihop, phf, spf, warezclient, warezmaster are the types of R2L attacks.<br>\n",
    "4) nmap, ipsweep, portsweep, satan are the probing attacks.<br>\n",
    "\n",
    "This network traffic dataset monitors various aspects of client as well as server machine such as protocol used by client system, their login attempts on server, number of failed login attempts, connection time on the server etc.\n",
    "\n",
    "### Reading the data\n",
    "\n",
    "Since the data is in excel format, I have used pandas read_excel method to get the data in pandas dataframe. The column 'label' in the dataset contains the sub-categories of types of network attack."
   ]
  },
  {
   "cell_type": "code",
   "execution_count": 2,
   "metadata": {},
   "outputs": [],
   "source": [
    "import pandas as pd\n",
    "import numpy as np\n",
    "import numpy as np\n",
    "from copy import deepcopy as copy \n",
    "import matplotlib.pyplot as plt\n",
    "from mpl_toolkits.mplot3d import Axes3D\n",
    "import seaborn as sb\n",
    "import math\n",
    "class ReadNetworkTrafficData():\n",
    "    def trafficData(self, fname):\n",
    "        df = pd.read_excel(fname)\n",
    "        df = df.dropna()\n",
    "        return df\n",
    "    \n",
    "    def removeCols(self,intr_df):\n",
    "        intr_df = intr_df.drop(columns=['service', 'flag', 'lsu_attempted', 'lnum_outbound_cmds', 'is_host_login'])\n",
    "        print(\"Columns are removed\")\n",
    "        return intr_df"
   ]
  },
  {
   "cell_type": "code",
   "execution_count": 52,
   "metadata": {},
   "outputs": [
    {
     "name": "stdout",
     "output_type": "stream",
     "text": [
      "(26013, 42)\n",
      "Columns are removed\n",
      "(26013, 37)\n"
     ]
    }
   ],
   "source": [
    "rwd = ReadNetworkTrafficData()\n",
    "intr_df = rwd.trafficData('Intrusion_detection_dataset.xlsx')\n",
    "print(intr_df.shape)\n",
    "\n",
    "intr_df = rwd.removeCols(intr_df)\n",
    "#print(intr_df.s)\n",
    "print(intr_df.shape)"
   ]
  },
  {
   "cell_type": "markdown",
   "metadata": {},
   "source": [
    "## Pre-processing the data\n",
    "\n",
    "The raw dataset only gives the information about the sub-categories of network attacks like neptune, nmap, ipsweep attack but do not provide the main category of network attack. The pre-proceesing is needed to get the main category of the network attack. In the below code, I have taken a copy of a column 'label' in another column 'Main_label' and replaced the values in the main label by main categories of attacks (DOS, R2L, U2R, probing).\n",
    "\n",
    "The data is also pre-processed to show PIE chart. I want to see which protocol is most prone to network attack, and hence created the grouping of data (mapping between protocol and type of attack). \n",
    "\n",
    "The below pre-processing is very useful because it categories the data in 5 classes namely DOS, R2L, U2R, probing and Normal traffic (No attack)."
   ]
  },
  {
   "cell_type": "code",
   "execution_count": 53,
   "metadata": {},
   "outputs": [
    {
     "name": "stdout",
     "output_type": "stream",
     "text": [
      "The Network attacks and there counts: \n",
      "DOS                           13510\n",
      "Normal traffic (No attack)     7787\n",
      "probe                          3546\n",
      "R2L                            1122\n",
      "U2R                              48\n",
      "Name: Main_label, dtype: int64\n"
     ]
    }
   ],
   "source": [
    "intr_df['Main_label'] = intr_df['label']\n",
    "\n",
    "intr_df.loc[intr_df.Main_label == \"back\", 'Main_label'] = \"DOS\"\n",
    "intr_df.loc[intr_df.Main_label == \"land\", 'Main_label'] = \"DOS\"\n",
    "intr_df.loc[intr_df.Main_label == \"neptune\", 'Main_label'] = \"DOS\"\n",
    "intr_df.loc[intr_df.Main_label == \"pod\", 'Main_label'] = \"DOS\"\n",
    "intr_df.loc[intr_df.Main_label == \"smurf\", 'Main_label'] = \"DOS\"\n",
    "intr_df.loc[intr_df.Main_label == \"teardrop\", 'Main_label'] = \"DOS\"\n",
    "\n",
    "intr_df.loc[intr_df.Main_label == \"normal\", 'Main_label'] = \"Normal traffic (No attack)\"\n",
    "\n",
    "intr_df.loc[intr_df.Main_label == \"buffer_overflow\", 'Main_label'] = \"U2R\"\n",
    "intr_df.loc[intr_df.Main_label == \"loadmodule\", 'Main_label'] = \"U2R\"\n",
    "intr_df.loc[intr_df.Main_label == \"perl\", 'Main_label'] = \"U2R\"\n",
    "intr_df.loc[intr_df.Main_label == \"rootkit\", 'Main_label'] = \"U2R\"\n",
    "\n",
    "intr_df.loc[intr_df.Main_label == \"ftp_write\", 'Main_label'] = \"R2L\"\n",
    "intr_df.loc[intr_df.Main_label == \"guess_passwd\", 'Main_label'] = \"R2L\"\n",
    "intr_df.loc[intr_df.Main_label == \"imap\", 'Main_label'] = \"R2L\"\n",
    "intr_df.loc[intr_df.Main_label == \"multihop\", 'Main_label'] = \"R2L\"\n",
    "intr_df.loc[intr_df.Main_label == \"phf\", 'Main_label'] = \"R2L\"\n",
    "intr_df.loc[intr_df.Main_label == \"spf\", 'Main_label'] = \"R2L\"\n",
    "intr_df.loc[intr_df.Main_label == \"warezclient\", 'Main_label'] = \"R2L\"\n",
    "intr_df.loc[intr_df.Main_label == \"warezmaster\", 'Main_label'] = \"R2L\"\n",
    "\n",
    "intr_df.loc[intr_df.Main_label == \"nmap\", 'Main_label'] = \"probe\"\n",
    "intr_df.loc[intr_df.Main_label == \"ipsweep\", 'Main_label'] = \"probe\"\n",
    "intr_df.loc[intr_df.Main_label == \"portsweep\", 'Main_label'] = \"probe\"\n",
    "intr_df.loc[intr_df.Main_label == \"satan\", 'Main_label'] = \"probe\"\n",
    "\n",
    "\n",
    "\n",
    "# Pre-processing to show pie chart \n",
    "\n",
    "attack_count = []\n",
    "df2_temp = intr_df[(intr_df.protocol_type==\"tcp\") & (intr_df.Main_label==\"DOS\")]\n",
    "attack_count.append(df2_temp['Main_label'].value_counts()[0])\n",
    "\n",
    "df3_temp = intr_df[(intr_df.protocol_type==\"tcp\") & (intr_df.Main_label==\"R2L\")]\n",
    "attack_count.append(df3_temp['Main_label'].value_counts()[0])\n",
    "\n",
    "df4_temp = intr_df[(intr_df.protocol_type==\"tcp\") & (intr_df.Main_label==\"U2R\")]\n",
    "attack_count.append(df4_temp['Main_label'].value_counts()[0])\n",
    "\n",
    "df5_temp = intr_df[(intr_df.protocol_type==\"tcp\") & (intr_df.Main_label==\"probe\")]\n",
    "attack_count.append(df5_temp['Main_label'].value_counts()[0])\n",
    "\n",
    "df6_temp = intr_df[(intr_df.protocol_type==\"udp\") & (intr_df.Main_label==\"DOS\")]\n",
    "attack_count.append(df6_temp['Main_label'].value_counts()[0])\n",
    "\n",
    "# there is no data for protocol udp and type r2l\n",
    "\n",
    "df8_temp = intr_df[(intr_df.protocol_type==\"udp\") & (intr_df.Main_label==\"U2R\")]\n",
    "attack_count.append(df8_temp['Main_label'].value_counts()[0])\n",
    "\n",
    "df9_temp = intr_df[(intr_df.protocol_type==\"udp\") & (intr_df.Main_label==\"probe\")]\n",
    "attack_count.append(df9_temp['Main_label'].value_counts()[0])\n",
    "\n",
    "df10_temp = intr_df[(intr_df.protocol_type==\"icmp\") & (intr_df.Main_label==\"DOS\")]\n",
    "attack_count.append(df10_temp['Main_label'].value_counts()[0])\n",
    "\n",
    "# there is no data for protocol_type \"icmp\"  & attack \"R2L\"\n",
    "\n",
    "# there is no data for protocol_type \"icmp\"  & attack \"U2R\"\n",
    "\n",
    "df13_temp = intr_df[(intr_df.protocol_type==\"icmp\") & (intr_df.Main_label==\"probe\")]\n",
    "attack_count.append(df13_temp['Main_label'].value_counts()[0])\n",
    "\n",
    "print(\"The Network attacks and there counts: \")\n",
    "print(intr_df['Main_label'].value_counts())"
   ]
  },
  {
   "cell_type": "markdown",
   "metadata": {},
   "source": [
    "### Visualization of Data\n",
    "For visualization of this classification data, count plots, bar graphs and pie charts are plotted using the seaborn and matplotlib libraries.\n",
    "#### 1. Count plot ( Count of network attack Vs Type of network attacks)\n",
    "\n",
    "The count plot below describes the number of network attack for each sub-category of attack.<br>\n",
    "We can clearly see the most frequest attack is **Neptune** attack. The second most frequent network attack is **smurf** attack.<br>\n",
    "Both of the above network attacks comes under denial-of-service (**DOS**) and is the most frequent type of network attack."
   ]
  },
  {
   "cell_type": "code",
   "execution_count": 219,
   "metadata": {},
   "outputs": [
    {
     "data": {
      "text/plain": [
       "Text(0.5, 1.0, 'Distribution of Attacks in Computer Network\\n')"
      ]
     },
     "execution_count": 219,
     "metadata": {},
     "output_type": "execute_result"
    },
    {
     "data": {
      "image/png": "[encoded data removed]",
      "text/plain": [
       "<Figure size 576x576 with 1 Axes>"
      ]
     },
     "metadata": {
      "needs_background": "light"
     },
     "output_type": "display_data"
    }
   ],
   "source": [
    "fig, ax = plt.subplots(figsize=(8,8))\n",
    "plot = sb.countplot(y=intr_df['label'], order=[\n",
    "    'neptune', 'smurf', 'back',\n",
    "    'satan','portsweep','warezclient', 'teardrop','ipsweep',\n",
    "    'pod','nmap', 'guess_passwd','buffer_overflow'])\n",
    "plot.set_ylabel('Type of Network Attacks')\n",
    "plot.set_title('Distribution of Attacks in Computer Network\\n')"
   ]
  },
  {
   "cell_type": "markdown",
   "metadata": {},
   "source": [
    "#### 2. Bar graph ( Network Attacks vs No. of connections to same service as the current connection)\n",
    "\n",
    "The feature \"No. of connections to same service as the current connection\" (column 'srv_count') is found to be most prominant in case of DOS attacks. The below bar graph shows its number in each type of network attacks.\n",
    "\n",
    "We can see that when the No. of connections to same service as the current connection is higher the system is more prone to DOS attack. This no. is also higher for the probe and R2L network attacks than the normal traffic."
   ]
  },
  {
   "cell_type": "code",
   "execution_count": 220,
   "metadata": {},
   "outputs": [
    {
     "data": {
      "image/png": "[encoded data removed]",
      "text/plain": [
       "<Figure size 576x576 with 1 Axes>"
      ]
     },
     "metadata": {
      "needs_background": "light"
     },
     "output_type": "display_data"
    }
   ],
   "source": [
    "fig, ax = plt.subplots(figsize=(8,8))\n",
    "plt.bar(intr_df['Main_label'], intr_df['srv_count'], align='center', alpha=0.5)\n",
    "plt.ylabel(\"No. of connections to same service as the current connection\")\n",
    "plt.xlabel(\"Network Attacks\")\n",
    "plt.title(\"Type of network attack with client having same service as the current connection\\n\")\n",
    "plt.show()"
   ]
  },
  {
   "cell_type": "markdown",
   "metadata": {},
   "source": [
    "#### 3. Pie chart (Protocol and type of network attack)\n",
    "\n",
    "This pie chart shows which network protocol is more prone to attack. It shows percentage of the same in the below pie chart.<br>\n",
    "It is clear from the graph that DOS attack is very common on TCP protocol."
   ]
  },
  {
   "cell_type": "code",
   "execution_count": 221,
   "metadata": {},
   "outputs": [
    {
     "data": {
      "text/plain": [
       "(-1.1004421009256227,\n",
       " 1.1000210524250296,\n",
       " -1.108735231852545,\n",
       " 1.1201565018573931)"
      ]
     },
     "execution_count": 221,
     "metadata": {},
     "output_type": "execute_result"
    },
    {
     "data": {
      "image/png": "[encoded data removed]",
      "text/plain": [
       "<Figure size 576x576 with 1 Axes>"
      ]
     },
     "metadata": {},
     "output_type": "display_data"
    }
   ],
   "source": [
    "fig, ax1 = plt.subplots(figsize=(8,8))\n",
    "attrs1 = ['DOS attack on TCP protocol', 'R2L attack on TCP protocol', 'U2R attack on TCP protocol', 'Probe attack on TCP protocol',\n",
    "    'DOS attack on UDP protocol\\n\\n','\\nR2L attack on UDP protocol', 'Probe attack on UDP protocol\\n',\n",
    "        'DOS attack on ICMP protocol','Probe attack on ICMP protocol']\n",
    "ax1.pie(attack_count, labels=attrs1, autopct='%1.1f%%', shadow=True)\n",
    "plt.title('Network protocol and Attacks\\n\\n')\n",
    "ax1.axis('equal')"
   ]
  },
  {
   "cell_type": "markdown",
   "metadata": {},
   "source": [
    "#### 4. Bar Graph (Type of network attack vs Bytes on destination server)\n",
    "\n",
    "The below graph shows that the bytes on destination server is high for clients in R2L attack. It is as high as 5 million bytes.<br>\n",
    "Whenever these bytes are large in number, the system is more prone to R2L attack."
   ]
  },
  {
   "cell_type": "code",
   "execution_count": 222,
   "metadata": {},
   "outputs": [
    {
     "data": {
      "image/png": "[encoded data removed]",
      "text/plain": [
       "<Figure size 576x576 with 1 Axes>"
      ]
     },
     "metadata": {
      "needs_background": "light"
     },
     "output_type": "display_data"
    }
   ],
   "source": [
    "fig, ax = plt.subplots(figsize=(8,8))\n",
    "plt.bar(intr_df['Main_label'], intr_df['dst_bytes'], align='center', alpha=0.5)\n",
    "plt.ylabel(\"Bytes on destination server\")\n",
    "plt.xlabel(\"Network Attacks\")\n",
    "plt.title(\"Type Network attacks based on bytes on destination server\\n\")\n",
    "plt.show()"
   ]
  },
  {
   "cell_type": "markdown",
   "metadata": {},
   "source": [
    "### Preliminary Observation\n",
    "\n",
    "We can make the following observation from the above graphs:<br>\n",
    "1) The most common attack in this dataset is DOS attack with more than 13000 rows.<br>\n",
    "2) The pie chart shows the TCP protocol is more prone to network attacks.<br>\n",
    "3) The features such as \"Number of connection to same service as the current connection\", \"Bytes on destination server\" are the useful features to detect the intrusion in the system."
   ]
  },
  {
   "cell_type": "code",
   "execution_count": 54,
   "metadata": {},
   "outputs": [
    {
     "name": "stdout",
     "output_type": "stream",
     "text": [
      "DOS                           13510\n",
      "Normal traffic (No attack)     7787\n",
      "Name: Main_label, dtype: int64\n",
      "1    13510\n",
      "0     7787\n",
      "Name: target, dtype: int64\n"
     ]
    },
    {
     "name": "stderr",
     "output_type": "stream",
     "text": [
      "C:\\Users\\LENOVO\\Anaconda3\\lib\\site-packages\\ipykernel_launcher.py:8: SettingWithCopyWarning: \n",
      "A value is trying to be set on a copy of a slice from a DataFrame.\n",
      "Try using .loc[row_indexer,col_indexer] = value instead\n",
      "\n",
      "See the caveats in the documentation: http://pandas.pydata.org/pandas-docs/stable/indexing.html#indexing-view-versus-copy\n",
      "  \n",
      "C:\\Users\\LENOVO\\Anaconda3\\lib\\site-packages\\pandas\\core\\indexing.py:543: SettingWithCopyWarning: \n",
      "A value is trying to be set on a copy of a slice from a DataFrame.\n",
      "Try using .loc[row_indexer,col_indexer] = value instead\n",
      "\n",
      "See the caveats in the documentation: http://pandas.pydata.org/pandas-docs/stable/indexing.html#indexing-view-versus-copy\n",
      "  self.obj[item] = s\n"
     ]
    }
   ],
   "source": [
    "qda = [\"DOS\", \"Normal traffic (No attack)\"]\n",
    "intr_df_qda = intr_df\n",
    "intr_df_qda = intr_df.loc[intr_df['Main_label'].isin(qda)]\n",
    "#intr_df_qda = intr_df.loc[intr_df['Main_label'] == \"R2L\"]\n",
    "print(intr_df_qda['Main_label'].value_counts())\n",
    "\n",
    "\n",
    "intr_df_qda['target'] = intr_df_qda['Main_label']\n",
    "intr_df_qda.loc[intr_df_qda['target'] == 'DOS', 'target'] = 1\n",
    "intr_df_qda.loc[intr_df_qda['target'] == 'Normal traffic (No attack)', 'target'] = 0\n",
    "#intr_df_qda = intr_df_qda_t.drop(columns=['DOS', 'Normal traffic (No attack)'])\n",
    "print(intr_df_qda['target'].value_counts())\n"
   ]
  },
  {
   "cell_type": "markdown",
   "metadata": {},
   "source": [
    "## Encoding a column"
   ]
  },
  {
   "cell_type": "code",
   "execution_count": 55,
   "metadata": {},
   "outputs": [
    {
     "name": "stdout",
     "output_type": "stream",
     "text": [
      "(26013, 3)\n",
      "(26013, 5)\n"
     ]
    }
   ],
   "source": [
    "new_df_x = pd.get_dummies(intr_df['protocol_type'],prefix='',prefix_sep='')\n",
    "print(new_df_x.shape)\n",
    "intr_df = intr_df.drop(columns=['protocol_type'])\n",
    "\n",
    "new_df_t = pd.get_dummies(intr_df['Main_label'],prefix='',prefix_sep='')\n",
    "print(new_df_t.shape)\n",
    "\n",
    "\n",
    "intr_df_x = intr_df.iloc[:,0:35]\n",
    "intr_df_t = intr_df.iloc[:,35:36]\n",
    "\n",
    "intr_df_qda_x = intr_df.iloc[:,0:35]\n",
    "intr_df_qda_t = intr_df.iloc[:,35:36]\n",
    "\n",
    "intr_df_x = intr_df_x.join(new_df_x)\n",
    "intr_df_t = intr_df_t.join(new_df_t)\n",
    "\n",
    "\n",
    "intr_df_qda_x = intr_df_qda.loc[intr_df_qda['target'].isin([0,1])]\n",
    "intr_df_qda_t = intr_df_qda['target']\n",
    "\n",
    "intr_df_t = intr_df_t.drop(columns=['label'])\n",
    "intr_df_qda_t = intr_df_qda_t.drop(columns=['label'])"
   ]
  },
  {
   "cell_type": "markdown",
   "metadata": {},
   "source": [
    "## Partitioning the data"
   ]
  },
  {
   "cell_type": "code",
   "execution_count": 56,
   "metadata": {},
   "outputs": [],
   "source": [
    "def partition(X, T, ratio=[0.8, 0.2]): \n",
    "    \n",
    "    assert(np.sum(ratio) == 1)\n",
    "    \n",
    "    # shuffle the data indices \n",
    "    idxs = np.random.permutation(X.index)\n",
    "    \n",
    "    # the number of samples \n",
    "    N = X.shape[0]\n",
    "    \n",
    "    Xs = []\n",
    "    Ts = []\n",
    "    i = 0  # first index to zero\n",
    "    for k, r in enumerate(ratio):\n",
    "        print(\"k....r\",k,r)\n",
    "        nrows = int(round(N * r))  # number of rows\n",
    "        print(\"rows: \",nrows)\n",
    "        \n",
    "        if k == len(ratio) -1:\n",
    "            Xs.append(X.iloc[i:, :])\n",
    "            Ts.append(T.iloc[i:, :])\n",
    "        else:\n",
    "            Xs.append(X.iloc[i:i+nrows, :])\n",
    "            Ts.append(T.iloc[i:i+nrows, :])\n",
    "        \n",
    "        i += nrows\n",
    "    \n",
    "    return Xs, Ts\n"
   ]
  },
  {
   "cell_type": "code",
   "execution_count": 57,
   "metadata": {},
   "outputs": [
    {
     "name": "stdout",
     "output_type": "stream",
     "text": [
      "k....r 0 0.8\n",
      "rows:  20810\n",
      "k....r 1 0.2\n",
      "rows:  5203\n",
      "Train X (20810, 38)\n",
      "Test X (20810, 5)\n",
      "Train T (5203, 38)\n",
      "Test T (5203, 5)\n"
     ]
    }
   ],
   "source": [
    "Xlst, Tlst = partition(pd.DataFrame(intr_df_x), pd.DataFrame(intr_df_t))\n",
    "\n",
    "intr_train_x, intr_test_x = [i.values for i in Xlst]\n",
    "intr_train_t, intr_test_t = [j.values for j in Tlst]\n",
    "\n",
    "print(\"Train X\",intr_train_x.shape)\n",
    "print(\"Test X\",intr_train_t.shape)\n",
    "print(\"Train T\",intr_test_x.shape)\n",
    "print(\"Test T\",intr_test_t.shape)"
   ]
  },
  {
   "cell_type": "markdown",
   "metadata": {},
   "source": [
    "# III. Method\n",
    "\n",
    "## Summary of Classification models\n",
    "### Pocket algorithm:\n",
    "\n",
    "Pocket algorithm is a modified version of **\"Perceptron Learning\"** algorithm. In this algorithm, the best weights are copied and stored to another variable. Best weights are calculated by comparision with the preivious weights.\n",
    "\n",
    "This is a binary classification algorithm, and converges for linearly seperable data. We can update the weights by using the formula below:<br>\n",
    "$$ w^{(k+1)} = w^{(k)} + \\alpha t_i x_i$$\n",
    "\n",
    "For training, we need to set the maximum number of iteration. Also, the algorithm selects an arbitrary hyperplane that divides two classes, so it is possible to discover a decision boundary that is not the best.\n",
    "\n",
    "### QDA\n",
    "QDA is a discriminant analysis algorithm, and works for binary classification problem. Here, the data is assumed to have Gaussian Distribution. The posterior and prior probabilties are calculated by first dividing the datasets into two classes. First class is a positive class having all the features with values as one. The other class is a negative with their values in target as zero. The prior probabilities are calculted for each of these classes.\n",
    "\n",
    "The formula for calculating the discriminant is:\n",
    "\n",
    "\n",
    "$$\n",
    "\\delta_k(x) = -\\frac{1}{2} \\ln \\vert \\boldsymbol\\Sigma_k \\vert - \\frac{1}{2} (x - \\boldsymbol\\mu_k)^\\top \\boldsymbol\\Sigma_k^{-1} (x - \\boldsymbol\\mu_k) + \\ln P(T = k). \n",
    "$$\n",
    "\n",
    "Now, for a new sample $ \\tilde{x} $, we can predict the label with\n",
    "$$\n",
    "y = \\arg\\max_k \\delta_k(\\tilde{x}). \n",
    "$$\n",
    "\n",
    "### LDA\n",
    "LDA is similar to QDA algorithm and it is a binary classifier too. The LDA is more generalized algorithm than QDA with only one sigma. In this algorithm each class has the same covarience matrix.\n",
    "\n",
    "Unifying the covariance matrix, we can remove the quadratic term in our disciriminant function: \n",
    "\n",
    "$$\n",
    "\\delta_k(x) = x^\\top \\boldsymbol\\Sigma^{-1} \\boldsymbol\\mu_k -\\frac{1}{2} \\boldsymbol\\mu_k^\\top \\boldsymbol\\Sigma^{-1}\\boldsymbol\\mu_k + \\ln P(T = k).\n",
    "$$\n",
    "\n",
    "In many cases, for simple computation, the covariance matrix $\\boldsymbol\\Sigma$ is chosen as an average of all the covariance matrices for all classes,\n",
    "\n",
    "$$\n",
    " \\boldsymbol\\Sigma = \\sum_k^K \\frac{N_k}{N} \\boldsymbol\\Sigma_k.\n",
    "$$\n",
    "\n",
    "### Logistic Regression\n",
    "Logistic Regression is a very powerful algorithm for multi-class classification. The range of logistic regression is zero to one and it is done by using the softmax function.\n",
    "\n",
    "The output from the hypothesis is the estimated probability. This is used to infer how confident can predicted value be actual value when given an input X. \n",
    "\n",
    "We can update the weight matrix using the formula below:\n",
    "$$\n",
    "w \\leftarrow w + \\alpha Xm^\\top \\Big(  Tm - g(Xm)\\Big).\n",
    "$$\n"
   ]
  },
  {
   "cell_type": "markdown",
   "metadata": {},
   "source": [
    "### A. Super Classs Definition"
   ]
  },
  {
   "cell_type": "code",
   "execution_count": 10,
   "metadata": {},
   "outputs": [],
   "source": [
    "\n",
    "from abc import ABC, abstractmethod\n",
    "\n",
    "# Super class for machine learning models \n",
    "\n",
    "class BaseModel(ABC):\n",
    "    \"\"\" Super class for ITCS Machine Learning Class\"\"\"\n",
    "    \n",
    "    @abstractmethod\n",
    "    def train(self, X, T):\n",
    "        pass\n",
    "\n",
    "    @abstractmethod\n",
    "    def use(self, X):\n",
    "        pass\n",
    "\n",
    "    \n",
    "\n",
    "class Classifier(BaseModel):\n",
    "    \"\"\"\n",
    "        Abstract class for classification \n",
    "        \n",
    "        Attributes\n",
    "        ==========\n",
    "        meanX       ndarray\n",
    "                    mean of inputs (from standardization)\n",
    "        stdX        ndarray\n",
    "                    standard deviation of inputs (standardization)\n",
    "    \"\"\"\n",
    "\n",
    "    def __init__(self, ):\n",
    "        self.meanX = None\n",
    "        self.stdX = None\n",
    "\n",
    "    def normalize(self, X):\n",
    "        \"\"\" standardize the input X \"\"\"\n",
    "        \n",
    "        if not isinstance(X, np.ndarray):\n",
    "            X = np.asanyarray(X)\n",
    "            \n",
    "        \n",
    "        self.meanX = np.mean(X, 0)\n",
    "        self.stdX = np.std(X, 0)\n",
    "\n",
    "        # TODO: Finish this normalization\n",
    "        Xs = (X - self.meanX)/self.stdX\n",
    "        return Xs\n",
    "\n",
    "    def _check_matrix(self, mat, name):\n",
    "        if len(mat.shape) != 2:\n",
    "            raise ValueError(''.join([\"Wrong matrix \", name]))\n",
    "        \n",
    "    # add a basis\n",
    "    def add_ones(self, X):\n",
    "        \"\"\"\n",
    "            add a column basis to X input matrix\n",
    "        \"\"\"\n",
    "        self._check_matrix(X, 'X')\n",
    "        return np.hstack((np.ones((X.shape[0], 1)), X))\n",
    "\n",
    "    ####################################################\n",
    "    #### abstract funcitons ############################\n",
    "    @abstractmethod\n",
    "    def train(self, X, T):\n",
    "        pass\n",
    "    \n",
    "    @abstractmethod\n",
    "    def use(self, X):\n",
    "        pass "
   ]
  },
  {
   "cell_type": "markdown",
   "metadata": {},
   "source": [
    "## Explanation of code\n",
    "We have an abstract class here called Classifier() which has the implementation of some methods like check_matrix, add_ones, normalize which can be used directly in our code by calling those methods. The normalize data method is used to normalize the train and test data. The implementation of train and use is not given here hence the class remains abtract.<br>\n",
    "\n",
    "The super class of this class is BaseModel() class.\n",
    "The method add_ones adds the vector of 1 before the actual features of matrix, that is it is used to add the bias. The method check_matrix is used to check if the matrix is 2d or not, it throws the error if not so."
   ]
  },
  {
   "cell_type": "markdown",
   "metadata": {},
   "source": [
    "### B. Pocket Algorithm\n"
   ]
  },
  {
   "cell_type": "code",
   "execution_count": 216,
   "metadata": {},
   "outputs": [
    {
     "name": "stdout",
     "output_type": "stream",
     "text": [
      "k....r 0 0.8\n",
      "rows:  17038\n",
      "k....r 1 0.2\n",
      "rows:  4259\n",
      "(21297, 29)\n",
      "Index(['duration', 'src_bytes', 'dst_bytes', 'land', 'hot', 'logged_in',\n",
      "       'lnum_compromised', 'lroot_shell', 'lnum_file_creations',\n",
      "       'lnum_access_files', 'is_guest_login', 'count', 'srv_count',\n",
      "       'serror_rate', 'srv_serror_rate', 'rerror_rate', 'srv_rerror_rate',\n",
      "       'same_srv_rate', 'diff_srv_rate', 'srv_diff_host_rate',\n",
      "       'dst_host_count', 'dst_host_srv_count', 'dst_host_same_srv_rate',\n",
      "       'dst_host_diff_srv_rate', 'dst_host_same_src_port_rate',\n",
      "       'dst_host_srv_serror_rate', 'dst_host_rerror_rate',\n",
      "       'dst_host_srv_rerror_rate', 'target'],\n",
      "      dtype='object')\n"
     ]
    }
   ],
   "source": [
    "copy_intr_df_qda_x = intr_df_qda_x \n",
    "\n",
    "intr_df_qda_x = pd.DataFrame(intr_df_qda_x)\n",
    "\n",
    "intr_df_qda_x = intr_df_qda_x.drop(columns=['protocol_type', 'wrong_fragment', 'urgent', 'num_failed_logins', 'lnum_root', 'lnum_shells','dst_host_srv_diff_host_rate', 'dst_host_serror_rate', 'label', 'Main_label'])\n",
    "\n",
    "# print(intr_df_qda_x.loc[:5])\n",
    "#intr_df_qda_x = intr_df_qda_x.drop(columns=[1, 5, 6, 8, 14, 36, 37])\n",
    "intr_df_qda_x = (intr_df_qda_x - intr_df_qda_x.mean())/ intr_df_qda_x.max() - intr_df_qda_x.min()\n",
    "\n",
    "Xlst, Tlst = partition(pd.DataFrame(intr_df_qda_x), pd.DataFrame(intr_df_qda_t))\n",
    "intr_train_qda_x, intr_test_qda_x = [i.values for i in Xlst]\n",
    "intr_train_qda_t, intr_test_qda_t = [j.values for j in Tlst]\n",
    "\n",
    "print(intr_df_qda_x.shape)\n",
    "print(intr_df_qda_x.columns)\n",
    "\n",
    "intr_train_qda_x = pd.DataFrame(intr_train_qda_x)\n",
    "intr_train_qda_t = pd.DataFrame(intr_train_qda_t)\n",
    "\n",
    "intr_test_qda_x = pd.DataFrame(intr_test_qda_x)\n",
    "intr_test_qda_t = pd.DataFrame(intr_test_qda_t)\n",
    "\n",
    "# intr_train_qda_x = intr_train_qda_x.drop(columns=[1, 5, 6, 8, 14, 36, 37])\n",
    "# intr_test_qda_x = intr_test_qda_x.drop(columns=[1, 5, 6, 8, 14, 36, 37])"
   ]
  },
  {
   "cell_type": "code",
   "execution_count": 217,
   "metadata": {},
   "outputs": [],
   "source": [
    "class PocketAlgo(Classifier):\n",
    "    def __init__(self):\n",
    "        self.w = 0\n",
    "        self.w_pocket = 0\n",
    "        self.alpha = 0.1\n",
    "    \n",
    "    def compare(self, X, T, w, wp):\n",
    "        y = np.sign(X @ w.T)\n",
    "        yp = np.sign(X @ wp.T)\n",
    "        return 1 if np.sum(y.loc[0] == T.loc[0]) >= np.sum(yp.loc[0] == T.loc[0]) else -1\n",
    "\n",
    "        \n",
    "    def train(self, X, T):\n",
    "        x_normal = X\n",
    "        #print(x_normal[:5])\n",
    "        y = np.zeros(T.shape[1])\n",
    "        #print(\"T shape\",T.shape)\n",
    "        N = x_normal.shape[0]\n",
    "\n",
    "        self.w = np.zeros((T.shape[1], x_normal.shape[1]))\n",
    "        self.w = self.w.flatten()\n",
    "        self.w_pocket = copy(self.w)\n",
    "\n",
    "        \n",
    "        for i in range(10):\n",
    "            print(\"Training i: \", i)\n",
    "            converged = True\n",
    "            for k in range(8000): #range(N):\n",
    "#                 if (k%1000==0):\n",
    "#                     print(self.w)\n",
    "                #print(\"x_normal \", x_normal.loc[k])\n",
    "                y = self.w @ x_normal.loc[k]\n",
    "                \n",
    "                 \n",
    "                if np.sign(y) != np.sign(T.loc[k][0]):\n",
    "                    self.w += (self.alpha * T.loc[k][0] * x_normal.loc[k].T)\n",
    "                    converged = False\n",
    "                    ##### additional for pocket algorithm \n",
    "                    if self.compare(x_normal, T,self.w, self.w_pocket) > 0: \n",
    "                        self.w_pocket[:] = self.w[:]\n",
    "\n",
    "            if converged:\n",
    "                print(\"converged at \", i)\n",
    "                return(self.w_pocket)\n",
    "            \n",
    "        return self.w\n",
    "            \n",
    "    def use(self, X):\n",
    "        return X @ self.w_pocket\n",
    "\n"
   ]
  },
  {
   "cell_type": "markdown",
   "metadata": {},
   "source": [
    "## Explanation of code (Pocket Algorithm)\n",
    "\n",
    "The above code is for implementation of Pocket algorithm. As the model takes too long to converge, I am running total 10 epoches on training data. Since I have considered almost all the features (29 out of 35) the matrix becomes large and the program take long time to run each epoch.<br>\n",
    "In train method I am training the data with the formula for updation of weights in pocket algorithm. The best weights are considered and stored in the variable W_pocket.<br>\n",
    "The Use method predicts the values of new data by using the previously calculated weights.<br>\n",
    "Compare method just compares the predicted value by both the weights (current weight and best weight) if current weight performs better, then this weight is returned to packet.<br>\n",
    "[Note: Here, I took same variable name \"intr_train_qda_x\" for training feature data for implementaion of all the binary classifiers, even though I am implementing pocket algorithm here.]"
   ]
  },
  {
   "cell_type": "code",
   "execution_count": 218,
   "metadata": {},
   "outputs": [
    {
     "name": "stdout",
     "output_type": "stream",
     "text": [
      "Training i:  0\n",
      "Training i:  1\n",
      "Training i:  2\n",
      "Training i:  3\n",
      "Training i:  4\n",
      "Training i:  5\n",
      "Training i:  6\n",
      "Training i:  7\n",
      "Training i:  8\n",
      "Training i:  9\n",
      "0    -0.000010\n",
      "1    -0.008990\n",
      "2    -0.000879\n",
      "3    -0.000014\n",
      "4    -0.000734\n",
      "5    -0.045870\n",
      "6    -0.005005\n",
      "7    -0.000023\n",
      "8    -0.000019\n",
      "9    -0.000028\n",
      "10   -0.000131\n",
      "11   -0.068159\n",
      "12   -0.057357\n",
      "13   -0.000405\n",
      "14   -0.000084\n",
      "15   -0.030358\n",
      "16   -0.030920\n",
      "17    0.028609\n",
      "18   -0.002171\n",
      "19   -0.006149\n",
      "20   -0.119655\n",
      "21   -0.161103\n",
      "22   -0.064420\n",
      "23   -0.001258\n",
      "24   -0.019865\n",
      "25   -0.000047\n",
      "26   -0.031465\n",
      "27   -0.030452\n",
      "28    0.036564\n",
      "Name: 7787, dtype: float64\n"
     ]
    }
   ],
   "source": [
    "pka = PocketAlgo()\n",
    "\n",
    "#intr_train_qda_x = (intr_train_qda_x - intr_train_qda_x.mean()) / (intr_train_qda_x.max() - intr_train_qda_x.min())\n",
    "w_pckt = pka.train(intr_train_qda_x, intr_train_qda_t)\n",
    "print(w_pckt)"
   ]
  },
  {
   "cell_type": "markdown",
   "metadata": {},
   "source": [
    "## Experiment (Pocket Algorithm)\n",
    "Below is the code for accuracy of pocket algorithm. Here I have considered almost all features, and run the training only for 10 epoches, hence the accuracy of this model is low.\n",
    "I have printed the weights matrix and stored in variable w_pckt, which can be used to predict the future values/ test data."
   ]
  },
  {
   "cell_type": "code",
   "execution_count": 219,
   "metadata": {},
   "outputs": [
    {
     "name": "stdout",
     "output_type": "stream",
     "text": [
      "(4259, 1)\n",
      "(4259,)\n",
      "Accuracy:  49.054584165592686 %\n"
     ]
    }
   ],
   "source": [
    "\n",
    "y_pckt = intr_test_qda_x @ w_pckt\n",
    "\n",
    "print(intr_test_qda_t.shape)\n",
    "print( y_pckt.shape)\n",
    "print(\"Accuracy: \", 100 - np.mean(np.abs(intr_test_qda_t[0] - y_pckt)) * 100, \"%\")"
   ]
  },
  {
   "cell_type": "markdown",
   "metadata": {},
   "source": [
    "Below is the graph of predicted values by pocket algorithm."
   ]
  },
  {
   "cell_type": "code",
   "execution_count": 220,
   "metadata": {},
   "outputs": [
    {
     "data": {
      "image/png": "[encoded data removed]",
      "text/plain": [
       "<Figure size 720x288 with 1 Axes>"
      ]
     },
     "metadata": {
      "needs_background": "light"
     },
     "output_type": "display_data"
    }
   ],
   "source": [
    "fig = plt.figure(figsize=(10, 4))\n",
    "plt.title(\"Predicted values\\n \\n\")\n",
    "plt.plot(y_pckt)\n",
    "plt.show()"
   ]
  },
  {
   "cell_type": "code",
   "execution_count": 221,
   "metadata": {},
   "outputs": [
    {
     "data": {
      "image/png": "[encoded data removed]",
      "text/plain": [
       "<Figure size 720x288 with 1 Axes>"
      ]
     },
     "metadata": {
      "needs_background": "light"
     },
     "output_type": "display_data"
    }
   ],
   "source": [
    "fig = plt.figure(figsize=(10, 4))\n",
    "plt.title(\"Test Examples Target\\n \\n\")\n",
    "plt.plot(intr_test_qda_t)\n",
    "plt.show()"
   ]
  },
  {
   "cell_type": "markdown",
   "metadata": {},
   "source": [
    "The graph of predicted values and the actual target values are shown in the graph below."
   ]
  },
  {
   "cell_type": "code",
   "execution_count": 222,
   "metadata": {},
   "outputs": [
    {
     "data": {
      "image/png": "[encoded data removed]",
      "text/plain": [
       "<Figure size 720x288 with 1 Axes>"
      ]
     },
     "metadata": {
      "needs_background": "light"
     },
     "output_type": "display_data"
    }
   ],
   "source": [
    "fig = plt.figure(figsize=(10, 4))\n",
    "plt.title(\"Prediction vs Target\\n \\n\")\n",
    "plt.plot(intr_test_qda_t)\n",
    "plt.plot(y_pckt)\n",
    "plt.show()"
   ]
  },
  {
   "cell_type": "markdown",
   "metadata": {},
   "source": [
    "The code given below calculates the F1 score of the model created by Pocket algorithm."
   ]
  },
  {
   "cell_type": "code",
   "execution_count": 223,
   "metadata": {},
   "outputs": [
    {
     "name": "stdout",
     "output_type": "stream",
     "text": [
      "F1 score: 0.42812326997601036\n"
     ]
    }
   ],
   "source": [
    "from sklearn.metrics import precision_score, recall_score, confusion_matrix, classification_report,accuracy_score, f1_score\n",
    "\n",
    "print('F1 score:', f1_score(intr_test_qda_t[0], y_pckt.round()))\n"
   ]
  },
  {
   "cell_type": "markdown",
   "metadata": {},
   "source": [
    "### C. QDA"
   ]
  },
  {
   "cell_type": "markdown",
   "metadata": {},
   "source": [
    "For the QDA algorithm I am mainly considering only 4 features, it is beacause when I tested the test data, it has mostly all features values as zeros. And hence the mean and sigma values becomes near zero. This does not calculate the inverse of sigma, giving the singular matrix error."
   ]
  },
  {
   "cell_type": "code",
   "execution_count": 12,
   "metadata": {},
   "outputs": [],
   "source": [
    "intr_df_x = intr_df.iloc[:,0:35]\n",
    "intr_df_t = intr_df.iloc[:,35:36]\n",
    "\n",
    "intr_df_qda_x = intr_df.iloc[:,0:35]\n",
    "intr_df_qda_t = intr_df.iloc[:,35:36]\n",
    "\n",
    "intr_df_x = intr_df_x.join(new_df_x)\n",
    "intr_df_t = intr_df_t.join(new_df_t)\n",
    "\n",
    "\n",
    "intr_df_qda_x = intr_df_qda.loc[intr_df_qda['target'].isin([0,1])]\n",
    "intr_df_qda_t = intr_df_qda['target']\n",
    "\n",
    "intr_df_t = intr_df_t.drop(columns=['label'])\n",
    "intr_df_qda_t = intr_df_qda_t.drop(columns=['label'])"
   ]
  },
  {
   "cell_type": "code",
   "execution_count": 13,
   "metadata": {},
   "outputs": [
    {
     "name": "stdout",
     "output_type": "stream",
     "text": [
      "k....r 0 0.8\n",
      "rows:  17038\n",
      "k....r 1 0.2\n",
      "rows:  4259\n"
     ]
    }
   ],
   "source": [
    "Xlst, Tlst = partition(pd.DataFrame(intr_df_qda_x), pd.DataFrame(intr_df_qda_t))\n",
    "intr_train_qda_x, intr_test_qda_x = [i.values for i in Xlst]\n",
    "intr_train_qda_t, intr_test_qda_t = [j.values for j in Tlst]\n"
   ]
  },
  {
   "cell_type": "code",
   "execution_count": 14,
   "metadata": {},
   "outputs": [
    {
     "name": "stdout",
     "output_type": "stream",
     "text": [
      "(21297, 39)\n",
      "(7787, 39)\n",
      "(9251, 39)\n",
      "(7787, 1)\n",
      "(9251, 1)\n"
     ]
    }
   ],
   "source": [
    "print(intr_df_qda_x.shape)\n",
    "intr_train_qda_x = pd.DataFrame(intr_train_qda_x)\n",
    "intr_train_qda_t = pd.DataFrame(intr_train_qda_t)\n",
    "\n",
    "c1_x = intr_train_qda_x.loc[intr_train_qda_t[0]==0]\n",
    "c2_x = intr_train_qda_x.loc[intr_train_qda_t[0]==1]\n",
    "print(c1_x.shape)\n",
    "print(c2_x.shape)\n",
    "c1_t = intr_train_qda_t.loc[intr_train_qda_t[0]==0]\n",
    "c2_t = intr_train_qda_t.loc[intr_train_qda_t[0]==1]\n",
    "print(c1_t.shape)\n",
    "print(c2_t.shape)"
   ]
  },
  {
   "cell_type": "code",
   "execution_count": 15,
   "metadata": {},
   "outputs": [
    {
     "name": "stdout",
     "output_type": "stream",
     "text": [
      "RangeIndex(start=0, stop=39, step=1)\n",
      "(7787, 39)\n",
      "(9251, 39)\n",
      "(7787, 4)\n",
      "(9251, 4)\n"
     ]
    }
   ],
   "source": [
    "# print(intr_df_qda_t.unique())\n",
    "# print(intr_df_qda_t.value_counts())\n",
    "print(c1_x.columns)\n",
    "# c1_x = c1_x.drop(columns=[1, 5, 6, 36, 37])\n",
    "# c2_x = c2_x.drop(columns=[1, 5, 6, 36, 37])\n",
    "\n",
    "print(c1_x.shape)\n",
    "print(c2_x.shape)\n",
    "\n",
    "c1_x = c1_x.loc[:,17:20]\n",
    "c2_x = c2_x.loc[:,17:20]\n",
    "\n",
    "print(c1_x.shape)\n",
    "print(c2_x.shape)\n",
    "\n",
    "intr_test_qda_x = pd.DataFrame(intr_test_qda_x)\n",
    "intr_test_qda_x = intr_test_qda_x.loc[:,17:20]\n",
    "intr_test_qda_x = pd.DataFrame(intr_test_qda_x)\n",
    "#intr_train_qda_x = (intr_train_qda_x - intr_train_qda_x.mean()) / (intr_train_qda_x.max() - intr_train_qda_x.min())\n",
    "Xtrain = np.concatenate((c1_x, c2_x),axis=0)\n"
   ]
  },
  {
   "cell_type": "code",
   "execution_count": 16,
   "metadata": {},
   "outputs": [],
   "source": [
    "Xtrain = pd.DataFrame(Xtrain)\n",
    "\n",
    "# Xtrain = Xtrain.loc[:,:6]\n",
    "# print(Xtrain[0].unique())\n",
    "# print(intr_test_qda_x[17].unique())\n",
    "#intr_test_qda_x = intr_test_qda_x.loc[:,:3]\n",
    "\n",
    "intr_test_qda_x = pd.DataFrame(intr_test_qda_x)\n",
    "intr_test_qda_x[0], intr_test_qda_x[1],intr_test_qda_x[2],intr_test_qda_x[3] = intr_test_qda_x[17], intr_test_qda_x[18], intr_test_qda_x[19],intr_test_qda_x[20]\n",
    "intr_test_qda_x = intr_test_qda_x.drop(columns=[17, 18, 19, 20])\n",
    "\n",
    "#intr_test_qda_x = intr_test_qda_x.drop(columns=[1, 5, 6, 36, 37])\n",
    "#intr_test_qda_x = intr_test_qda_x.drop(columns=['protocol_type', 'label', 'Main_label'])\n",
    "# print(\"intr_test::  \", intr_test_qda_x[3].unique())"
   ]
  },
  {
   "cell_type": "code",
   "execution_count": 17,
   "metadata": {},
   "outputs": [],
   "source": [
    "N1 = c1_x.shape[0]\n",
    "N2 = c2_x.shape[0]\n",
    "N = N1 + N2"
   ]
  },
  {
   "cell_type": "code",
   "execution_count": 18,
   "metadata": {},
   "outputs": [],
   "source": [
    "import sys\n",
    "class QDA_algo ():\n",
    "    def __init__(self):\n",
    "        self.mu1=None\n",
    "        self.Sigma1=None\n",
    "        self.Sigma2=None \n",
    "        self.d1=None\n",
    "        self.d2=None\n",
    "        self.prior1=None\n",
    "        self.mu2=None\n",
    "        self.prior2=None\n",
    "    \n",
    "    def QDA(self, X, mu, sigma, prior):\n",
    "        mu = np.asarray(mu)\n",
    "        sigma_inv = np.linalg.inv(sigma)\n",
    "        diffv = X - mu\n",
    "        return -0.5  * np.log(np.linalg.det(sigma)) - 0.5 * np.sum(diffv  @ sigma_inv * diffv, axis=1) + np.log(prior)\n",
    "\n",
    "#np.sum(np.dot(diffv, sigma_inv) * diffv, axis=1) \\\n",
    "\n",
    "# QDA train\n",
    "    def train(self, Xtrain):\n",
    "        ## compute the mean and covariance\n",
    "        Xtrain = Xtrain.astype(float)\n",
    "        # print(\"Xtrain: \", Xtrain.shape)\n",
    "        means= Xtrain.mean()\n",
    "        stds = np.sqrt(np.mean(abs(Xtrain - Xtrain.mean())**2))\n",
    "\n",
    "        Xs = (Xtrain - means) / stds\n",
    "        print\n",
    "        self.mu1 = np.mean(Xs[:N1], 0)\n",
    "        self.mu2 = np.mean(Xs[N1:], 0)\n",
    "\n",
    "        self.Sigma1 = np.cov(Xs[:N1].T)\n",
    "\n",
    "        self.Sigma2 = np.cov(Xs[N1:].T)\n",
    "        \n",
    "        self.prior1 = N1 / N\n",
    "        self.prior2 = N2 / N\n",
    "        return self.mu1, self.mu2, self.Sigma1, self.Sigma2, self.prior1, self.prior2\n",
    "        \n",
    "    def use(self, Xtest):\n",
    "        d1_qda = self.LDA(Xtest, self.mu1, self.Sigma1, self.prior1)\n",
    "        d2_qda = self.LDA(Xtest, self.mu2, self.Sigma2, self.prior2)\n",
    "        return np.where(d1_qda>d2_qda,0,1)\n",
    "\n"
   ]
  },
  {
   "cell_type": "markdown",
   "metadata": {},
   "source": [
    "### Explanation of code QDA\n",
    "\n",
    "The QDA algorithm works on prior probabilities, which are calculated for each positive and negative class. Here in this code, class c1_x has all the classes having target values as zero (meaning negative class - Normal network traffic) and the class c2_x have target values one (Denial of service attack - DOS).\n",
    "\n",
    "N1 and N2 are the number of samples in Class 1 and Class 2 respectively. Similarly, mu1 and mu2 are means and the sigma1 and sigma2 are the covariance of these classes. The probabilities of these classes are stored in prior1 and prior2 variables.\n",
    "\n",
    "The function QDA will calculate the discriminant values for each classes. The use method uses the discriminant values and takes the larger value of those and assigns one or zero accordingly."
   ]
  },
  {
   "cell_type": "code",
   "execution_count": 19,
   "metadata": {},
   "outputs": [
    {
     "name": "stdout",
     "output_type": "stream",
     "text": [
      "d1_qda 0      -4.209468e+07\n",
      "1      -4.485986e+07\n",
      "2      -4.972567e+07\n",
      "3      -5.009231e+07\n",
      "4      -5.925881e+07\n",
      "5      -6.187612e+07\n",
      "6      -6.522234e+07\n",
      "7      -6.798719e+07\n",
      "8      -3.604269e+07\n",
      "9      -3.809362e+07\n",
      "10     -4.312728e+07\n",
      "11     -4.536874e+07\n",
      "12     -4.796103e+07\n",
      "13     -5.418345e+07\n",
      "14     -5.952105e+07\n",
      "15     -5.991116e+07\n",
      "16     -6.550447e+07\n",
      "17     -6.929265e+07\n",
      "18     -3.604269e+07\n",
      "19     -4.015969e+07\n",
      "20     -4.073222e+07\n",
      "21     -4.592409e+07\n",
      "22     -5.084723e+07\n",
      "23     -5.121250e+07\n",
      "24     -5.639134e+07\n",
      "25     -6.312563e+07\n",
      "26     -6.616925e+07\n",
      "27     -6.929265e+07\n",
      "28     -3.604269e+07\n",
      "29     -3.809362e+07\n",
      "            ...     \n",
      "4229   -5.593733e+03\n",
      "4230   -8.220842e+03\n",
      "4231   -1.135321e+04\n",
      "4232   -1.499084e+04\n",
      "4233   -1.913373e+04\n",
      "4234   -2.378188e+04\n",
      "4235   -2.893529e+04\n",
      "4236   -3.459396e+04\n",
      "4237   -4.075789e+04\n",
      "4238   -4.742708e+04\n",
      "4239   -5.460153e+04\n",
      "4240   -6.228124e+04\n",
      "4241   -7.046621e+04\n",
      "4242   -7.915644e+04\n",
      "4243   -8.835193e+04\n",
      "4244   -9.805268e+04\n",
      "4245   -1.082587e+05\n",
      "4246   -1.189700e+05\n",
      "4247   -1.301865e+05\n",
      "4248   -1.419083e+05\n",
      "4249   -1.541353e+05\n",
      "4250   -1.668677e+05\n",
      "4251   -1.801052e+05\n",
      "4252   -1.938481e+05\n",
      "4253   -2.080962e+05\n",
      "4254   -2.228495e+05\n",
      "4255   -2.381081e+05\n",
      "4256   -2.538720e+05\n",
      "4257   -2.701411e+05\n",
      "4258   -2.869155e+05\n",
      "Length: 4259, dtype: float64\n",
      " d2_qda  0      -161425.791398\n",
      "1      -171525.445687\n",
      "2      -190700.264421\n",
      "3      -190149.713565\n",
      "4      -227931.183563\n",
      "5      -237058.745579\n",
      "6      -249271.794238\n",
      "7      -258852.801925\n",
      "8      -138350.554325\n",
      "9      -145487.525984\n",
      "10     -165541.891696\n",
      "11     -173341.977343\n",
      "12     -182577.619395\n",
      "13     -207579.180428\n",
      "14     -228626.692751\n",
      "15     -228003.332204\n",
      "16     -250012.792367\n",
      "17     -264048.069469\n",
      "18     -138350.554325\n",
      "19     -154488.232418\n",
      "20     -155094.971721\n",
      "21     -175764.598123\n",
      "22     -195171.370135\n",
      "23     -194603.855665\n",
      "24     -214972.575518\n",
      "25     -242039.023458\n",
      "26     -252916.059986\n",
      "27     -264048.069469\n",
      "28     -138350.554325\n",
      "29     -145487.525984\n",
      "            ...      \n",
      "4229        -3.727516\n",
      "4230        -7.434875\n",
      "4231       -12.105362\n",
      "4232       -17.738976\n",
      "4233       -24.335718\n",
      "4234       -31.895588\n",
      "4235       -40.418585\n",
      "4236       -49.904710\n",
      "4237       -60.353963\n",
      "4238       -71.766344\n",
      "4239       -84.141852\n",
      "4240       -97.480488\n",
      "4241      -111.782252\n",
      "4242      -127.047143\n",
      "4243      -143.275162\n",
      "4244      -160.466309\n",
      "4245      -178.620583\n",
      "4246      -197.737986\n",
      "4247      -217.818515\n",
      "4248      -238.862173\n",
      "4249      -260.868958\n",
      "4250      -283.838871\n",
      "4251      -307.771912\n",
      "4252      -332.668081\n",
      "4253      -358.527377\n",
      "4254      -385.349801\n",
      "4255      -413.135352\n",
      "4256      -441.884031\n",
      "4257      -471.595838\n",
      "4258      -502.270773\n",
      "Length: 4259, dtype: float64\n"
     ]
    }
   ],
   "source": [
    "qda = QDA_algo()\n",
    "mu1, mu2, Sigma1, Sigma2, prior1, prior2 = qda.train(Xtrain)\n",
    "d1_qda = qda.QDA(intr_test_qda_x, mu1, Sigma1, prior1)\n",
    "\n",
    "print(\"d1_qda\", d1_qda)\n",
    "d2_qda = qda.QDA(intr_test_qda_x, mu2, Sigma2, prior2)\n",
    "print(\" d2_qda \", d2_qda)"
   ]
  },
  {
   "cell_type": "markdown",
   "metadata": {},
   "source": [
    "## Experiment QDA"
   ]
  },
  {
   "cell_type": "markdown",
   "metadata": {},
   "source": [
    "### Calculating accuracy QDA\n",
    "\n",
    "Since d1 (Discriminant one) is associated with target value of 0 i.e. (class=0) and d2 (Discriminant two) has target value of 1 i.e (class=1). we can predict the labels by using the formula: \n",
    "$$y = \\arg\\max_k \\delta_k(\\tilde{x}). $$\n",
    "Hence the accuracy can be calculated by finding the mean of difference in target values and predicted values.\n",
    "In this case the accuracy is 100% because I have considered only 4 features."
   ]
  },
  {
   "cell_type": "code",
   "execution_count": 20,
   "metadata": {
    "scrolled": true
   },
   "outputs": [
    {
     "name": "stdout",
     "output_type": "stream",
     "text": [
      "Accuracy:  100.0 %\n"
     ]
    }
   ],
   "source": [
    "pred_qda=np.where(d1_qda>d2_qda,0,1)\n",
    "\n",
    "#print(intr_test_qda_t.shape)\n",
    "print(\"Accuracy: \", 100 - np.mean(np.abs(intr_test_qda_t - pred_qda)) * 100, \"%\")"
   ]
  },
  {
   "cell_type": "code",
   "execution_count": 233,
   "metadata": {},
   "outputs": [
    {
     "data": {
      "image/png": "[encoded data removed]",
      "text/plain": [
       "<Figure size 720x288 with 1 Axes>"
      ]
     },
     "metadata": {
      "needs_background": "light"
     },
     "output_type": "display_data"
    }
   ],
   "source": [
    "fig = plt.figure(figsize=(10, 4))\n",
    "plt.title(\"Test Examples Target\\n \\n\")\n",
    "plt.plot(intr_test_qda_t)\n",
    "plt.show()"
   ]
  },
  {
   "cell_type": "code",
   "execution_count": 234,
   "metadata": {},
   "outputs": [
    {
     "data": {
      "image/png": "[encoded data removed]",
      "text/plain": [
       "<Figure size 720x288 with 1 Axes>"
      ]
     },
     "metadata": {
      "needs_background": "light"
     },
     "output_type": "display_data"
    }
   ],
   "source": [
    "fig = plt.figure(figsize=(10, 4))\n",
    "plt.title(\"Predicted values\\n \\n\")\n",
    "plt.plot(pred_qda)\n",
    "plt.show()"
   ]
  },
  {
   "cell_type": "code",
   "execution_count": 235,
   "metadata": {},
   "outputs": [
    {
     "data": {
      "image/png": "[encoded data removed]",
      "text/plain": [
       "<Figure size 720x288 with 1 Axes>"
      ]
     },
     "metadata": {
      "needs_background": "light"
     },
     "output_type": "display_data"
    }
   ],
   "source": [
    "fig = plt.figure(figsize=(10, 4))\n",
    "plt.plot(\"Predicted vs Target \\n\\n\")\n",
    "plt.plot(intr_test_qda_t)\n",
    "plt.plot(pred_qda)\n",
    "plt.show()"
   ]
  },
  {
   "cell_type": "markdown",
   "metadata": {},
   "source": [
    "For this model the F1 score is 1 because the accuracy model is 100%"
   ]
  },
  {
   "cell_type": "code",
   "execution_count": 24,
   "metadata": {},
   "outputs": [
    {
     "name": "stdout",
     "output_type": "stream",
     "text": [
      "F1 score: 1.0\n"
     ]
    }
   ],
   "source": [
    "from sklearn.metrics import precision_score, recall_score, confusion_matrix, classification_report,accuracy_score, f1_score\n",
    "\n",
    "print('F1 score:', f1_score(intr_test_qda_t, pred_qda))\n"
   ]
  },
  {
   "cell_type": "code",
   "execution_count": 26,
   "metadata": {},
   "outputs": [
    {
     "name": "stdout",
     "output_type": "stream",
     "text": [
      "Confusion matrix: [[4259]]\n"
     ]
    }
   ],
   "source": [
    "conf=confusion_matrix(intr_test_qda_t, pred_qda)\n",
    "print(\"Confusion matrix:\", conf)"
   ]
  },
  {
   "cell_type": "markdown",
   "metadata": {},
   "source": [
    "### D. LDA"
   ]
  },
  {
   "cell_type": "code",
   "execution_count": 27,
   "metadata": {},
   "outputs": [],
   "source": [
    "# define LDA discriminant function\n",
    "class LDA_algo():\n",
    "    def __init__(self):\n",
    "        self.mu1=None\n",
    "        self.Sigma=None        \n",
    "        self.d1=None\n",
    "        self.d2=None\n",
    "        self.prior1=None\n",
    "        self.mu2=None\n",
    "        self.prior2=None\n",
    "        \n",
    "    def LDA(self, X, mu, sigma, prior):\n",
    "        sigma_inv = np.linalg.inv(sigma)\n",
    "        return np.sum((X @ sigma_inv) * mu \\\n",
    "                    - 0.5 * (mu @ sigma_inv) * mu, axis=1) \\\n",
    "                    + np.log(prior)\n",
    "# LDA train\n",
    "\n",
    "## compute the mean and covariance\n",
    "    def train(self, Xtrain):\n",
    "        Xtrain = Xtrain.astype(float)\n",
    "        means, stds = np.mean(Xtrain, 0), np.std(Xtrain, 0)\n",
    "        Xs = (Xtrain - means) / stds\n",
    "\n",
    "        self.mu1 = np.mean(Xs[:N1], 0)\n",
    "        self.mu2 = np.mean(Xs[N1:], 0)\n",
    "\n",
    "        self.Sigma = np.cov(Xs.T)\n",
    "        self.prior1 = N1 / N\n",
    "        self.prior2 = N2 / N\n",
    "        return self.mu1, self.mu2, self.Sigma, self.prior1, self.prior2\n",
    "\n",
    "    def use(self, Xtest):\n",
    "        d1_lda = self.LDA(Xtest, self.mu1, self.Sigma, self.prior1)\n",
    "        d2_lda = self.LDA(Xtest, self.mu2, self.Sigma, self.prior2)\n",
    "        return np.where(d1_lda>d2_lda,0,1)\n",
    " \n"
   ]
  },
  {
   "cell_type": "markdown",
   "metadata": {},
   "source": [
    "## Explanation of LDA\n",
    "The LDA implementation is very similar to the implementation of QDA. The LDA algorithm also works on prior probabilities, which are calculated for each positive and negative class. Here in this code, class c1_x has all the classes having target values as zero (meaning negative class - Normal network traffic) and the class c2_x have target values one (Denial of service attack - DOS).\n",
    "\n",
    "N1 and N2 are the number of samples in Class 1 and Class 2 respectively. Similarly, mu1 and mu2 are means of these classes. The probabilities of these classes are stored in prior1 and prior2 variables. In LDA the ony difference is that we take only one covariance matrix Sigma.\n",
    "\n",
    "The function LDA will calculate the discriminant values for each classes. The use method uses the discriminant values and takes the larger value of those and assigns one or zero accordingly."
   ]
  },
  {
   "cell_type": "code",
   "execution_count": 28,
   "metadata": {},
   "outputs": [
    {
     "name": "stdout",
     "output_type": "stream",
     "text": [
      "0      -364.751302\n",
      "1      -377.105141\n",
      "2      -396.463435\n",
      "3      -399.811545\n",
      "4      -432.178113\n",
      "5      -442.530678\n",
      "6      -454.884516\n",
      "7      -465.237082\n",
      "8      -337.311084\n",
      "9      -347.663649\n",
      "10     -369.023216\n",
      "11     -379.375781\n",
      "12     -390.728983\n",
      "13     -414.089823\n",
      "14     -433.448117\n",
      "15     -436.796227\n",
      "16     -456.154520\n",
      "17     -469.508995\n",
      "18     -337.311084\n",
      "19     -355.668741\n",
      "20     -360.017487\n",
      "21     -381.377054\n",
      "22     -400.735348\n",
      "23     -404.083458\n",
      "24     -423.441752\n",
      "25     -446.802591\n",
      "26     -458.155793\n",
      "27     -469.508995\n",
      "28     -337.311084\n",
      "29     -347.663649\n",
      "           ...    \n",
      "4229     -3.640844\n",
      "4230     -4.275846\n",
      "4231     -4.910848\n",
      "4232     -5.545850\n",
      "4233     -6.180851\n",
      "4234     -6.815853\n",
      "4235     -7.450855\n",
      "4236     -8.085857\n",
      "4237     -8.720859\n",
      "4238     -9.355861\n",
      "4239     -9.990863\n",
      "4240    -10.625865\n",
      "4241    -11.260867\n",
      "4242    -11.895869\n",
      "4243    -12.530871\n",
      "4244    -13.165873\n",
      "4245    -13.800875\n",
      "4246    -14.435877\n",
      "4247    -15.070879\n",
      "4248    -15.705881\n",
      "4249    -16.340883\n",
      "4250    -16.975885\n",
      "4251    -17.610887\n",
      "4252    -18.245889\n",
      "4253    -18.880891\n",
      "4254    -19.515893\n",
      "4255    -20.150894\n",
      "4256    -20.785896\n",
      "4257    -21.420898\n",
      "4258    -22.055900\n",
      "Length: 4259, dtype: float64\n",
      "0       305.265710\n",
      "1       315.664515\n",
      "2       331.959297\n",
      "3       334.777559\n",
      "4       362.022015\n",
      "5       370.736254\n",
      "6       381.135058\n",
      "7       389.849298\n",
      "8       282.167993\n",
      "9       290.882232\n",
      "10      308.861580\n",
      "11      317.575819\n",
      "12      327.132341\n",
      "13      346.796254\n",
      "14      363.091037\n",
      "15      365.909298\n",
      "16      382.204080\n",
      "17      393.445167\n",
      "18      282.167993\n",
      "19      297.620493\n",
      "20      301.281037\n",
      "21      319.260384\n",
      "22      335.555167\n",
      "23      338.373428\n",
      "24      354.668211\n",
      "25      374.332124\n",
      "26      383.888645\n",
      "27      393.445167\n",
      "28      282.167993\n",
      "29      290.882232\n",
      "           ...    \n",
      "4229      1.302124\n",
      "4230      1.836635\n",
      "4231      2.371145\n",
      "4232      2.905656\n",
      "4233      3.440167\n",
      "4234      3.974678\n",
      "4235      4.509189\n",
      "4236      5.043700\n",
      "4237      5.578211\n",
      "4238      6.112722\n",
      "4239      6.647232\n",
      "4240      7.181743\n",
      "4241      7.716254\n",
      "4242      8.250765\n",
      "4243      8.785276\n",
      "4244      9.319787\n",
      "4245      9.854298\n",
      "4246     10.388809\n",
      "4247     10.923320\n",
      "4248     11.457830\n",
      "4249     11.992341\n",
      "4250     12.526852\n",
      "4251     13.061363\n",
      "4252     13.595874\n",
      "4253     14.130385\n",
      "4254     14.664896\n",
      "4255     15.199407\n",
      "4256     15.733918\n",
      "4257     16.268428\n",
      "4258     16.802939\n",
      "Length: 4259, dtype: float64\n"
     ]
    }
   ],
   "source": [
    "lda = LDA_algo()\n",
    "mu1, mu2, Sigma, prior1, prior2 = lda.train(Xtrain)\n",
    "d1_lda = lda.LDA(intr_test_qda_x, mu1, Sigma, prior1)\n",
    "d2_lda = lda.LDA(intr_test_qda_x, mu2, Sigma, prior2)\n",
    "print(d1_lda)\n",
    "print(d2_lda)"
   ]
  },
  {
   "cell_type": "markdown",
   "metadata": {},
   "source": [
    "## Experiment with LDA"
   ]
  },
  {
   "cell_type": "markdown",
   "metadata": {},
   "source": [
    "### Calculating accuracy LDA\n",
    "Accuracy of LDA is calculated in similar way as that of QDA.\n",
    "Since d1 (Discriminant one) is associated with target value of 0 i.e. (class=0) and d2 (Discriminant two) is associated with target value of 1 i.e (class=1). we can predict the labels by using the formula: \n",
    "$$y = \\arg\\max_k \\delta_k(\\tilde{x}). $$\n",
    "Hence the accuracy can be calculated by finding the mean of difference in target values and predicted values.\n",
    "In this case the accuracy is 100% because I have considered only 4 features."
   ]
  },
  {
   "cell_type": "code",
   "execution_count": 29,
   "metadata": {},
   "outputs": [
    {
     "name": "stdout",
     "output_type": "stream",
     "text": [
      "Accuracy:  96.26672927917352 %\n"
     ]
    }
   ],
   "source": [
    "pred_lda=np.where(d1_lda>d2_lda,0,1)\n",
    "\n",
    "print(\"Accuracy: \", 100 - np.mean(np.abs(intr_test_qda_t - pred_lda)) * 100, \"%\")"
   ]
  },
  {
   "cell_type": "code",
   "execution_count": 239,
   "metadata": {},
   "outputs": [
    {
     "data": {
      "image/png": "[encoded data removed]",
      "text/plain": [
       "<Figure size 720x288 with 1 Axes>"
      ]
     },
     "metadata": {
      "needs_background": "light"
     },
     "output_type": "display_data"
    }
   ],
   "source": [
    "fig = plt.figure(figsize=(10, 4))\n",
    "plt.title(\"Predicted Targets\\n \\n\")\n",
    "plt.plot(pred_lda)\n",
    "plt.show()"
   ]
  },
  {
   "cell_type": "code",
   "execution_count": 240,
   "metadata": {},
   "outputs": [
    {
     "data": {
      "image/png": "[encoded data removed]",
      "text/plain": [
       "<Figure size 720x288 with 1 Axes>"
      ]
     },
     "metadata": {
      "needs_background": "light"
     },
     "output_type": "display_data"
    }
   ],
   "source": [
    "fig = plt.figure(figsize=(10, 4))\n",
    "plt.title(\"Test Example Targets\\n \\n\")\n",
    "plt.plot(intr_test_qda_t)\n",
    "plt.ylim([0,1.1])\n",
    "plt.show()"
   ]
  },
  {
   "cell_type": "code",
   "execution_count": 241,
   "metadata": {},
   "outputs": [
    {
     "data": {
      "image/png": "[encoded data removed]",
      "text/plain": [
       "<Figure size 720x288 with 1 Axes>"
      ]
     },
     "metadata": {
      "needs_background": "light"
     },
     "output_type": "display_data"
    }
   ],
   "source": [
    "fig = plt.figure(figsize=(10, 4))\n",
    "plt.title(\"Predicted vs Actual Targets\\n \\n\")\n",
    "plt.plot(pred_lda)\n",
    "plt.plot(intr_test_qda_t)\n",
    "plt.show()"
   ]
  },
  {
   "cell_type": "code",
   "execution_count": 31,
   "metadata": {},
   "outputs": [
    {
     "name": "stdout",
     "output_type": "stream",
     "text": [
      "F1 score: 0.9809785859552579\n",
      "Confusion matrix:\n",
      " [[   0    0]\n",
      " [ 159 4100]]\n"
     ]
    }
   ],
   "source": [
    "\n",
    "print('F1 score:', f1_score(intr_test_qda_t, pred_lda))\n",
    "conf=confusion_matrix(intr_test_qda_t, pred_lda)\n",
    "print(\"Confusion matrix:\\n\", conf)"
   ]
  },
  {
   "cell_type": "markdown",
   "metadata": {},
   "source": [
    "### E. Logistic Regression"
   ]
  },
  {
   "cell_type": "code",
   "execution_count": 58,
   "metadata": {},
   "outputs": [],
   "source": [
    "class LogisticRegression(Classifier):\n",
    "    \n",
    "    def __init__(self):\n",
    "        self.w = np.random.rand(intr_train_x.shape[1]+1, intr_train_t.shape[1])\n",
    "    \n",
    "# g(.) the softmax function\n",
    "    def softmax(self, z):\n",
    "        if not isinstance(z, np.ndarray):\n",
    "            z = np.asarray(z)\n",
    "        f = np.exp(z)\n",
    "        return f / (np.sum(f, axis=1, keepdims=True) if len(z.shape) == 2 else np.sum(f))\n",
    "\n",
    "    def g(self, X, w):\n",
    "        return self.softmax(X @ w) \n",
    "\n",
    "    def train(self, X, T):\n",
    "        Xtrain = self.normalize(X)\n",
    "        epoch = 1500\n",
    "        alpha = 0.001\n",
    "\n",
    "        X1 = self.add_ones(X)\n",
    "\n",
    "        for step in range(epoch):\n",
    "            ys = self.g(X1, self.w)\n",
    "            self.w += alpha * X1.T @ (T - ys)\n",
    "        \n",
    "        return self.w\n",
    "    \n",
    "    def use(self, X):\n",
    "        X1 = self.add_ones(X)\n",
    "        y = self.g(X1, self.w)\n",
    "        return y"
   ]
  },
  {
   "cell_type": "markdown",
   "metadata": {},
   "source": [
    "## Explanation of code\n",
    "\n",
    "I have implemented logistic regression on 5 classes. \n",
    "Before implementing this code, lot of pre-processing was done to get the vectorized format of target values. These vectorized target values are passed to the train method along with the feature vectors. <br>In this code, maximum epoch are set to 1500 with the learning rate of 0.001. The weights are updated by using the formula given in overview of algorithms. The softmax function outputs the predicted values and ranges between 0 to 1.\n",
    "In the above code train function gives call to g function which calls the softmax function. The use method just uses the weights calculated in train method and predicts the values of test data."
   ]
  },
  {
   "cell_type": "code",
   "execution_count": 59,
   "metadata": {
    "scrolled": true
   },
   "outputs": [
    {
     "name": "stdout",
     "output_type": "stream",
     "text": [
      "[[ 2.48327211e+00  2.44993922e+00 -9.43991437e-01 -1.81207785e+00\n",
      "   2.87998084e-01]\n",
      " [ 8.19526591e-01  7.42763472e-01  1.23442161e-01  8.88721972e-03\n",
      "   9.89749407e-01]\n",
      " [ 5.30048205e+01 -4.67355167e+01  1.22502601e-01  1.91040322e-01\n",
      "  -4.10533487e+00]\n",
      " [-1.97040497e+01  2.02888698e+01  3.38073309e+00  9.27647403e-01\n",
      "  -1.61280344e+00]\n",
      " [ 4.46749200e-01  2.71079664e-01  7.11877439e-01  6.80316068e-02\n",
      "   8.12460147e-01]\n",
      " [ 9.57431971e-01  5.54918445e-01  1.83362443e-01  4.88429845e-02\n",
      "   9.93442427e-01]\n",
      " [ 8.26969303e-01  4.97586940e-01  1.00556717e-01  2.52438087e-01\n",
      "   7.55079345e-02]\n",
      " [ 1.47212913e-01  7.68212563e-01  3.52769166e-03  2.54660621e-01\n",
      "   1.98098607e-01]\n",
      " [ 2.25066571e-01  3.00810273e-01  4.06033975e-01  4.12749597e-01\n",
      "   9.69211012e-01]\n",
      " [ 8.90247935e-01  3.44847245e-01  4.43803663e-01  5.72144643e-01\n",
      "   9.48481365e-01]\n",
      " [ 6.03556109e-01  3.42785710e-01  3.88489545e-01  1.10400938e-01\n",
      "   4.95799041e-01]\n",
      " [ 6.00779355e-01  2.17160690e-01  8.72476807e-01  8.28412159e-01\n",
      "   1.48842394e-01]\n",
      " [ 8.93075268e-01  2.25731475e-01  7.21682961e-01  5.66290334e-01\n",
      "   8.04917540e-02]\n",
      " [ 1.60406674e-01  4.52890390e-01  8.41176951e-01  2.08619599e-01\n",
      "   8.89597436e-02]\n",
      " [ 8.31456410e-01  6.65425487e-01  4.69692746e-01  8.50229916e-01\n",
      "   9.91530415e-01]\n",
      " [ 4.37135685e-01  7.09397812e-01  7.58963895e-01  9.82542388e-01\n",
      "   7.73764058e-02]\n",
      " [ 4.68712063e-01  6.07265038e-01  9.18926764e-02  9.73082919e-01\n",
      "   3.81566630e-01]\n",
      " [ 2.83842979e+00 -1.57505676e+00  2.52646671e-02  4.92443564e-01\n",
      "   4.37609075e-01]\n",
      " [ 1.69875695e+00 -1.73379154e-01  8.25120085e-01  5.69653779e-01\n",
      "   5.95961997e-01]\n",
      " [ 5.49505151e-01  4.20836322e-01  9.81116578e-01  8.33716790e-01\n",
      "   6.67529291e-01]\n",
      " [ 7.92272892e-01  5.33163624e-01  1.71613795e-01  1.83371870e-01\n",
      "   7.35322763e-01]\n",
      " [ 8.33536667e-01  6.21769767e-01  5.73238849e-01  1.06030341e-01\n",
      "   7.36312034e-01]\n",
      " [ 7.51992732e-01  8.24561868e-01  6.76031774e-01  8.87193256e-01\n",
      "   2.27112238e-01]\n",
      " [ 4.84270809e-01  7.53601050e-01  6.94400069e-01  5.05567585e-01\n",
      "   9.79951364e-01]\n",
      " [ 3.64973752e-01  2.81684453e-01  2.33385155e-01  9.84226529e-01\n",
      "   2.14158343e-01]\n",
      " [ 3.58256226e-01  4.41159217e-01  9.35562168e-01  5.68654611e-01\n",
      "   7.83697485e-02]\n",
      " [ 1.84620627e+00  1.30767966e-01  3.62293356e-01  3.38643005e-01\n",
      "   1.83500769e-01]\n",
      " [ 2.79082038e-02  1.29627914e+00  5.61181195e-01  4.21934471e-01\n",
      "   2.48957433e-01]\n",
      " [ 6.73448186e-01  7.60065860e-01  5.40509566e-01  5.61799655e-01\n",
      "   3.14504768e-02]\n",
      " [ 1.66772549e-01  8.13485811e-01  1.59346693e-01  4.10097018e-01\n",
      "   6.92970680e-01]\n",
      " [ 9.35175801e-01  4.59246468e-01  7.88194251e-01  1.60394733e-01\n",
      "   3.57029710e-01]\n",
      " [ 2.19557128e-01  6.40640506e-01  2.97613678e-01  2.92146916e-02\n",
      "   8.35339523e-01]\n",
      " [ 4.41118896e-01  2.49723020e-02  9.48898832e-01  8.86179321e-01\n",
      "   4.50274790e-01]\n",
      " [ 9.10713214e-01  8.38921384e-01  1.63570488e-01  6.53500309e-01\n",
      "   9.34944705e-01]\n",
      " [ 1.96793092e-01  3.39308458e-02  4.81173973e-01  4.94184514e-01\n",
      "   4.95115317e-01]\n",
      " [ 1.99758935e-01  5.26122193e-01  9.66236762e-01  1.60201236e-01\n",
      "   6.22762507e-01]\n",
      " [ 3.48349505e-01  1.06507777e-02  1.43895961e-01  1.85686090e-02\n",
      "   8.49291829e-01]\n",
      " [ 8.91784800e-01  9.85337737e-01  5.65469347e-02  5.36742366e-01\n",
      "   9.37135960e-02]\n",
      " [ 2.63596830e-01  8.29505609e-01  6.96885620e-01  4.96290607e-01\n",
      "   7.92762698e-01]]\n"
     ]
    }
   ],
   "source": [
    "lr = LogisticRegression()\n",
    "intr_train_x = (intr_train_x - intr_train_x.mean()) / (intr_train_x.max() - intr_train_x.min())\n",
    "w_logistic = lr.train(intr_train_x, intr_train_t)\n",
    "print(w_logistic)"
   ]
  },
  {
   "cell_type": "code",
   "execution_count": 60,
   "metadata": {},
   "outputs": [],
   "source": [
    "intr_test_x = (intr_test_x - intr_test_x.mean()) / (intr_test_x.max() - intr_test_x.min())\n",
    "\n",
    "Y_logistic = lr.use(intr_test_x)\n"
   ]
  },
  {
   "cell_type": "markdown",
   "metadata": {},
   "source": [
    "## Experiment (Logistic regression)"
   ]
  },
  {
   "cell_type": "code",
   "execution_count": 417,
   "metadata": {},
   "outputs": [
    {
     "data": {
      "image/png": "[encoded data removed]",
      "text/plain": [
       "<Figure size 1152x576 with 1 Axes>"
      ]
     },
     "metadata": {
      "needs_background": "light"
     },
     "output_type": "display_data"
    }
   ],
   "source": [
    "fig = plt.figure(figsize=(16, 8))\n",
    "\n",
    "plt.title(\"Classes in Actual data\\n \\n\")\n",
    "plt.plot(intr_test_t)\n",
    "plt.show()"
   ]
  },
  {
   "cell_type": "code",
   "execution_count": 418,
   "metadata": {},
   "outputs": [
    {
     "data": {
      "image/png": "[encoded data removed]",
      "text/plain": [
       "<Figure size 1152x576 with 1 Axes>"
      ]
     },
     "metadata": {
      "needs_background": "light"
     },
     "output_type": "display_data"
    }
   ],
   "source": [
    "fig = plt.figure(figsize=(16, 8))\n",
    "\n",
    "plt.title(\"Predicted target values\\n \\n\")\n",
    "plt.plot(Y_logistic)\n",
    "plt.show()"
   ]
  },
  {
   "cell_type": "code",
   "execution_count": 61,
   "metadata": {},
   "outputs": [
    {
     "name": "stdout",
     "output_type": "stream",
     "text": [
      "(5203, 5)\n",
      "Accuracy:  66.2545935031628 %\n"
     ]
    },
    {
     "data": {
      "image/png": "[encoded data removed]",
      "text/plain": [
       "<Figure size 1152x576 with 1 Axes>"
      ]
     },
     "metadata": {
      "needs_background": "light"
     },
     "output_type": "display_data"
    }
   ],
   "source": [
    "\n",
    "print(Y_logistic.shape)\n",
    "fig = plt.figure(figsize=(16, 8))\n",
    "\n",
    "plt.title(\"Actual vs Predicted Target\\n \\n\")\n",
    "plt.plot(intr_test_t)\n",
    "plt.plot(Y_logistic)\n",
    "\n",
    "print(\"Accuracy: \", 100 - np.mean(np.abs(intr_test_t - Y_logistic)) * 100, \"%\")"
   ]
  },
  {
   "cell_type": "markdown",
   "metadata": {},
   "source": [
    "# Conclusions\n",
    "\n",
    "In this assignment I learnt about the working of pocket algorithm, LDA, QDA and logistic  regression algorithm. We implemented both the binary as well as multi-class classification. The data is visualized and used in these various algorithms. Each trained model gave different accuracies on the test data.\n",
    "\n",
    "Even though the accuracy of QDA, LDA is high, these are good algorithms for binary classification problem. Also these algorithms will perform better if the data is gaussian distributed.\n",
    "For dataset having large number features, **Logistic Regression** performs very well and is the best amongst these. In this assignment, even after considering almost all the features, and considering the multi-class classification (DOS, R2L, U2R, probing and Normal traffic (No attack)) the logistic regression algorithm was able to classify between multiple classes.\n",
    "\n",
    "The main challege was to clean the raw data. As the data I used here is a network traffic data, and hence many of the features in the dataset have zero values (e.g. number failed login attemts is zero for most of the times) hence the mean of such columns remains very close to zero and gave \"NaN\" values after normalization. Handling this was a challeging task.\n"
   ]
  },
  {
   "cell_type": "markdown",
   "metadata": {},
   "source": [
    "# References\n",
    "\n",
    "Class Note : https://nbviewer.jupyter.org/url/webpages.uncc.edu/mlee173/teach/itcs6156/notebooks/notes/Note-Linear%20Model.Sol.ipynb\n",
    "\n",
    "Class Note : https://nbviewer.jupyter.org/url/webpages.uncc.edu/mlee173/teach/itcs6156/notebooks/wb/ForestFire.ipynb\n",
    "\n",
    "Class Note : https://nbviewer.jupyter.org/url/webpages.uncc.edu/mlee173/teach/itcs6156/notebooks/wb/WB-Classification.ipynb\n",
    "\n",
    "KDD Cup 1999 Data, http://kdd.ics.uci.edu/databases/kddcup99/kddcup99.html.\n",
    "\n",
    "Sungkwan Youm, Eui-Jik Kim “A Fast Probing Detection Method Using Hybrid Machine Learning Algorithms.” ACM Digital Library, ACM, https://dl.acm.org/citation.cfm?id=3326615&dl=ACM&coll=DL#.\n",
    "\n",
    "Swaminathan, Saishruthi. “Logistic Regression - Detailed Overview.” Medium, Towards Data Science, 18 Jan. 2019, https://towardsdatascience.com/logistic-regression-detailed-overview-46c4da4303bc."
   ]
  },
  {
   "cell_type": "markdown",
   "metadata": {},
   "source": [
    "# Extra Credit\n",
    "\n",
    "* [OPT 1] Search for a ordinal data set and apply your classifiers to it. \n",
    "  - Repeat the experiments on it. \n",
    "  - Do you have different observation from previous results? \n",
    "  - Were you able to observe that we discussed in class about logistic regression? \n",
    "  - For a full extra credit point, you need to discuss all bullet points in Results section.     \n",
    "\n",
    "\n",
    "* [OPT 2] Partition your data into five sets. Selecting one test set and the other for training, repeat your experiments and observe/analyze the 5 different training/testing errors.  "
   ]
  },
  {
   "cell_type": "markdown",
   "metadata": {},
   "source": [
    "## Grading\n",
    "\n",
    "DO NOT forget to submit your data! Your notebook is supposed to run well after running your codes.\n",
    "\n",
    "To help our TA's grading, please make an explicit section for each grading criteria. \n",
    "\n",
    "** Note: this is a WRITING assignment. Proper writing is REQUIRED. Comments are not considered as writing. ** \n",
    "\n",
    "\n",
    "\n",
    "points | | description\n",
    "--|--|:--\n",
    "5 | Overview| states the objective and the appraoch \n",
    "15 | Data | \n",
    " | 5| description \n",
    " | 5| plots for understanding or analysis \n",
    " | 5| preliminary observation \n",
    "25 | Methods | \n",
    " |10| Summary of Classification models\n",
    " | 5| Explanation of codes\n",
    " |10| Pocket, LDA, QDA, Logistic Regression\n",
    "40 | Experiments \n",
    "| 5| Discussion about evaluation metrics\n",
    "| 5| Discussion about train and test accuracies\n",
    "|20| plots for results (5 for each algorithm)\n",
    "|10| Discussions about classificaion model comparison\n",
    "5 | |Conclusions \n",
    "5 | |Referemces\n",
    "5 | |Grammar and spelling error (Proofread please)"
   ]
  }
 ],
 "metadata": {
  "kernelspec": {
   "display_name": "Python 3",
   "language": "python",
   "name": "python3"
  },
  "language_info": {
   "codemirror_mode": {
    "name": "ipython",
    "version": 3
   },
   "file_extension": ".py",
   "mimetype": "text/x-python",
   "name": "python",
   "nbconvert_exporter": "python",
   "pygments_lexer": "ipython3",
   "version": "3.7.3"
  }
 },
 "nbformat": 4,
 "nbformat_minor": 2
}
