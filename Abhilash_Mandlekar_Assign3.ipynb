{
 "cells": [
  {
   "cell_type": "markdown",
   "metadata": {},
   "source": [
    "# Assignment #3 - Neural Networks\n",
    "\n",
    "### <font color=\"red\"> DUE: Oct 29 (Tuesday) 11:00 pm </font>  "
   ]
  },
  {
   "cell_type": "markdown",
   "metadata": {},
   "source": [
    "<font color=\"blue\">Abhilash Mandlekar </font>"
   ]
  },
  {
   "cell_type": "markdown",
   "metadata": {},
   "source": [
    "# I. Overview\n",
    "\n",
    "The main objective for this assignment is to learn Neural Networks and implement it on classification and regression data.\n",
    "The aim is to configure the neural network model to its best, in this assignment we are doing K-fold cross validation which can be used to train the neural network with best parameters.\n",
    "\n",
    "These best parameters are feed to **Non-linear Regression** and **Non-linear Logistics Regression** neural network models.\n",
    "\n",
    "The dataset I am using is used previously in assignment 1 for regression. This dataset can be used for classification since it has columns which can be used to predict if there will be rain on next day or not.\n"
   ]
  },
  {
   "cell_type": "markdown",
   "metadata": {},
   "source": [
    "# Data\n",
    "\n",
    "I am using the same dataset for Neural Networks assignment as that used in my last assignment. The dataset is of \"Rain in Australia\" which is taken from kaggle. The dataset has total 23 features and has over 1 lakh rows which is used to predict the rain in mm. However, for this assignment I have considered only 15000 rows in dataset. \n",
    "\n",
    "The feature RISK_MM is the set of continuous values which gives the approximate value of the next day rain (in mm) and is the feature that we can predict using linear regression algorithm. If the value of RISK_MM is high (may be greater than 3 mm) it is said that the chances of rain on the next day is also high. This feature is dependant on many other features such as tempreature, humidity, pressure during the morning (9am) as well as in the afternoon (3pm). It also considers other features such as Sunshine, evaporation, windspeed and wind-direction.\n",
    "\n",
    "The another important set of feature is ***Rainfall*** and ***RainToday*** which gives information about today's rainfall.\n",
    "\n",
    "Tempreature is measured in degree centegrate, pressure in hpa, rainfall in mm, humidity is measured in percentage. The windspeed is measured in km per hr. The unit of measurement for clouds is \"oktas\".\n",
    "\n",
    "### Reading the data\n",
    "\n",
    "Since the data is in csv file, I have used pandas function read_csv to read the csv file for the dataset. This creates the dataframe which can directly be treated as the table and maintains the data in structured format. Here I have created a class that can be used to read the dataset for rain.\n"
   ]
  },
  {
   "cell_type": "code",
   "execution_count": 179,
   "metadata": {},
   "outputs": [],
   "source": [
    "import numpy as np \n",
    "from abc import ABC, abstractmethod\n",
    "import matplotlib.pyplot as plt\n",
    "%matplotlib inline\n",
    "import seaborn as sb\n",
    "import pandas as pd\n",
    "import re \n",
    "import sys\n",
    "\n",
    "import seaborn as sb\n",
    "\n",
    "import collections\n",
    "\n",
    "class ReadWeatherData():\n",
    "    def weatherData(self, fname):\n",
    "        df = pd.read_csv(fname)\n",
    "        df = df.dropna()\n",
    "        return df"
   ]
  },
  {
   "cell_type": "code",
   "execution_count": 180,
   "metadata": {},
   "outputs": [],
   "source": [
    "rwd = ReadWeatherData()\n",
    "rain_df = rwd.weatherData(\"weatherAUS.csv\")"
   ]
  },
  {
   "cell_type": "markdown",
   "metadata": {},
   "source": [
    "### Describe the data"
   ]
  },
  {
   "cell_type": "code",
   "execution_count": 181,
   "metadata": {
    "scrolled": false
   },
   "outputs": [
    {
     "data": {
      "text/html": [
       "<div>\n",
       "<style scoped>\n",
       "    .dataframe tbody tr th:only-of-type {\n",
       "        vertical-align: middle;\n",
       "    }\n",
       "\n",
       "    .dataframe tbody tr th {\n",
       "        vertical-align: top;\n",
       "    }\n",
       "\n",
       "    .dataframe thead th {\n",
       "        text-align: right;\n",
       "    }\n",
       "</style>\n",
       "<table border=\"1\" class=\"dataframe\">\n",
       "  <thead>\n",
       "    <tr style=\"text-align: right;\">\n",
       "      <th></th>\n",
       "      <th>MinTemp</th>\n",
       "      <th>MaxTemp</th>\n",
       "      <th>Rainfall</th>\n",
       "      <th>Evaporation</th>\n",
       "      <th>Sunshine</th>\n",
       "      <th>WindGustSpeed</th>\n",
       "      <th>WindSpeed9am</th>\n",
       "      <th>WindSpeed3pm</th>\n",
       "      <th>Humidity9am</th>\n",
       "      <th>Humidity3pm</th>\n",
       "      <th>Pressure9am</th>\n",
       "      <th>Pressure3pm</th>\n",
       "      <th>Cloud9am</th>\n",
       "      <th>Cloud3pm</th>\n",
       "      <th>Temp9am</th>\n",
       "      <th>Temp3pm</th>\n",
       "      <th>RISK_MM</th>\n",
       "    </tr>\n",
       "  </thead>\n",
       "  <tbody>\n",
       "    <tr>\n",
       "      <th>count</th>\n",
       "      <td>56420.000000</td>\n",
       "      <td>56420.000000</td>\n",
       "      <td>56420.000000</td>\n",
       "      <td>56420.000000</td>\n",
       "      <td>56420.000000</td>\n",
       "      <td>56420.000000</td>\n",
       "      <td>56420.000000</td>\n",
       "      <td>56420.000000</td>\n",
       "      <td>56420.000000</td>\n",
       "      <td>56420.000000</td>\n",
       "      <td>56420.000000</td>\n",
       "      <td>56420.000000</td>\n",
       "      <td>56420.000000</td>\n",
       "      <td>56420.000000</td>\n",
       "      <td>56420.000000</td>\n",
       "      <td>56420.000000</td>\n",
       "      <td>56420.000000</td>\n",
       "    </tr>\n",
       "    <tr>\n",
       "      <th>mean</th>\n",
       "      <td>13.464770</td>\n",
       "      <td>24.219206</td>\n",
       "      <td>2.130397</td>\n",
       "      <td>5.503135</td>\n",
       "      <td>7.735626</td>\n",
       "      <td>40.877366</td>\n",
       "      <td>15.667228</td>\n",
       "      <td>19.786778</td>\n",
       "      <td>65.874123</td>\n",
       "      <td>49.601985</td>\n",
       "      <td>1017.239505</td>\n",
       "      <td>1014.795580</td>\n",
       "      <td>4.241705</td>\n",
       "      <td>4.326515</td>\n",
       "      <td>18.204961</td>\n",
       "      <td>22.710333</td>\n",
       "      <td>2.346960</td>\n",
       "    </tr>\n",
       "    <tr>\n",
       "      <th>std</th>\n",
       "      <td>6.416689</td>\n",
       "      <td>6.970676</td>\n",
       "      <td>7.014822</td>\n",
       "      <td>3.696282</td>\n",
       "      <td>3.758153</td>\n",
       "      <td>13.335232</td>\n",
       "      <td>8.317005</td>\n",
       "      <td>8.510180</td>\n",
       "      <td>18.513289</td>\n",
       "      <td>20.197040</td>\n",
       "      <td>6.909357</td>\n",
       "      <td>6.870892</td>\n",
       "      <td>2.797162</td>\n",
       "      <td>2.647251</td>\n",
       "      <td>6.567991</td>\n",
       "      <td>6.836543</td>\n",
       "      <td>8.731885</td>\n",
       "    </tr>\n",
       "    <tr>\n",
       "      <th>min</th>\n",
       "      <td>-6.700000</td>\n",
       "      <td>4.100000</td>\n",
       "      <td>0.000000</td>\n",
       "      <td>0.000000</td>\n",
       "      <td>0.000000</td>\n",
       "      <td>9.000000</td>\n",
       "      <td>2.000000</td>\n",
       "      <td>2.000000</td>\n",
       "      <td>0.000000</td>\n",
       "      <td>0.000000</td>\n",
       "      <td>980.500000</td>\n",
       "      <td>977.100000</td>\n",
       "      <td>0.000000</td>\n",
       "      <td>0.000000</td>\n",
       "      <td>-0.700000</td>\n",
       "      <td>3.700000</td>\n",
       "      <td>0.000000</td>\n",
       "    </tr>\n",
       "    <tr>\n",
       "      <th>25%</th>\n",
       "      <td>8.600000</td>\n",
       "      <td>18.700000</td>\n",
       "      <td>0.000000</td>\n",
       "      <td>2.800000</td>\n",
       "      <td>5.000000</td>\n",
       "      <td>31.000000</td>\n",
       "      <td>9.000000</td>\n",
       "      <td>13.000000</td>\n",
       "      <td>55.000000</td>\n",
       "      <td>35.000000</td>\n",
       "      <td>1012.700000</td>\n",
       "      <td>1010.100000</td>\n",
       "      <td>1.000000</td>\n",
       "      <td>2.000000</td>\n",
       "      <td>13.100000</td>\n",
       "      <td>17.400000</td>\n",
       "      <td>0.000000</td>\n",
       "    </tr>\n",
       "    <tr>\n",
       "      <th>50%</th>\n",
       "      <td>13.200000</td>\n",
       "      <td>23.900000</td>\n",
       "      <td>0.000000</td>\n",
       "      <td>5.000000</td>\n",
       "      <td>8.600000</td>\n",
       "      <td>39.000000</td>\n",
       "      <td>15.000000</td>\n",
       "      <td>19.000000</td>\n",
       "      <td>67.000000</td>\n",
       "      <td>50.000000</td>\n",
       "      <td>1017.200000</td>\n",
       "      <td>1014.700000</td>\n",
       "      <td>5.000000</td>\n",
       "      <td>5.000000</td>\n",
       "      <td>17.800000</td>\n",
       "      <td>22.400000</td>\n",
       "      <td>0.000000</td>\n",
       "    </tr>\n",
       "    <tr>\n",
       "      <th>75%</th>\n",
       "      <td>18.400000</td>\n",
       "      <td>29.700000</td>\n",
       "      <td>0.600000</td>\n",
       "      <td>7.400000</td>\n",
       "      <td>10.700000</td>\n",
       "      <td>48.000000</td>\n",
       "      <td>20.000000</td>\n",
       "      <td>26.000000</td>\n",
       "      <td>79.000000</td>\n",
       "      <td>63.000000</td>\n",
       "      <td>1021.800000</td>\n",
       "      <td>1019.400000</td>\n",
       "      <td>7.000000</td>\n",
       "      <td>7.000000</td>\n",
       "      <td>23.300000</td>\n",
       "      <td>27.900000</td>\n",
       "      <td>0.600000</td>\n",
       "    </tr>\n",
       "    <tr>\n",
       "      <th>max</th>\n",
       "      <td>31.400000</td>\n",
       "      <td>48.100000</td>\n",
       "      <td>206.200000</td>\n",
       "      <td>81.200000</td>\n",
       "      <td>14.500000</td>\n",
       "      <td>124.000000</td>\n",
       "      <td>67.000000</td>\n",
       "      <td>76.000000</td>\n",
       "      <td>100.000000</td>\n",
       "      <td>100.000000</td>\n",
       "      <td>1040.400000</td>\n",
       "      <td>1038.900000</td>\n",
       "      <td>8.000000</td>\n",
       "      <td>9.000000</td>\n",
       "      <td>39.400000</td>\n",
       "      <td>46.100000</td>\n",
       "      <td>367.600000</td>\n",
       "    </tr>\n",
       "  </tbody>\n",
       "</table>\n",
       "</div>"
      ],
      "text/plain": [
       "            MinTemp       MaxTemp      Rainfall   Evaporation      Sunshine  \\\n",
       "count  56420.000000  56420.000000  56420.000000  56420.000000  56420.000000   \n",
       "mean      13.464770     24.219206      2.130397      5.503135      7.735626   \n",
       "std        6.416689      6.970676      7.014822      3.696282      3.758153   \n",
       "min       -6.700000      4.100000      0.000000      0.000000      0.000000   \n",
       "25%        8.600000     18.700000      0.000000      2.800000      5.000000   \n",
       "50%       13.200000     23.900000      0.000000      5.000000      8.600000   \n",
       "75%       18.400000     29.700000      0.600000      7.400000     10.700000   \n",
       "max       31.400000     48.100000    206.200000     81.200000     14.500000   \n",
       "\n",
       "       WindGustSpeed  WindSpeed9am  WindSpeed3pm   Humidity9am   Humidity3pm  \\\n",
       "count   56420.000000  56420.000000  56420.000000  56420.000000  56420.000000   \n",
       "mean       40.877366     15.667228     19.786778     65.874123     49.601985   \n",
       "std        13.335232      8.317005      8.510180     18.513289     20.197040   \n",
       "min         9.000000      2.000000      2.000000      0.000000      0.000000   \n",
       "25%        31.000000      9.000000     13.000000     55.000000     35.000000   \n",
       "50%        39.000000     15.000000     19.000000     67.000000     50.000000   \n",
       "75%        48.000000     20.000000     26.000000     79.000000     63.000000   \n",
       "max       124.000000     67.000000     76.000000    100.000000    100.000000   \n",
       "\n",
       "        Pressure9am   Pressure3pm      Cloud9am      Cloud3pm       Temp9am  \\\n",
       "count  56420.000000  56420.000000  56420.000000  56420.000000  56420.000000   \n",
       "mean    1017.239505   1014.795580      4.241705      4.326515     18.204961   \n",
       "std        6.909357      6.870892      2.797162      2.647251      6.567991   \n",
       "min      980.500000    977.100000      0.000000      0.000000     -0.700000   \n",
       "25%     1012.700000   1010.100000      1.000000      2.000000     13.100000   \n",
       "50%     1017.200000   1014.700000      5.000000      5.000000     17.800000   \n",
       "75%     1021.800000   1019.400000      7.000000      7.000000     23.300000   \n",
       "max     1040.400000   1038.900000      8.000000      9.000000     39.400000   \n",
       "\n",
       "            Temp3pm       RISK_MM  \n",
       "count  56420.000000  56420.000000  \n",
       "mean      22.710333      2.346960  \n",
       "std        6.836543      8.731885  \n",
       "min        3.700000      0.000000  \n",
       "25%       17.400000      0.000000  \n",
       "50%       22.400000      0.000000  \n",
       "75%       27.900000      0.600000  \n",
       "max       46.100000    367.600000  "
      ]
     },
     "execution_count": 181,
     "metadata": {},
     "output_type": "execute_result"
    }
   ],
   "source": [
    "rain_df.describe()"
   ]
  },
  {
   "cell_type": "code",
   "execution_count": 182,
   "metadata": {},
   "outputs": [],
   "source": [
    "from sklearn.metrics import mean_squared_error\n",
    "from sklearn import model_selection"
   ]
  },
  {
   "cell_type": "code",
   "execution_count": 183,
   "metadata": {},
   "outputs": [],
   "source": [
    "rwd = ReadWeatherData()\n",
    "rain_df = rwd.weatherData(\"weatherAUS.csv\")"
   ]
  },
  {
   "cell_type": "code",
   "execution_count": 184,
   "metadata": {},
   "outputs": [
    {
     "data": {
      "text/plain": [
       "(56420, 1)"
      ]
     },
     "execution_count": 184,
     "metadata": {},
     "output_type": "execute_result"
    }
   ],
   "source": [
    "#rain_df_x.shape\n",
    "rain_df_target.shape"
   ]
  },
  {
   "cell_type": "markdown",
   "metadata": {},
   "source": [
    "### Visualization of data"
   ]
  },
  {
   "cell_type": "markdown",
   "metadata": {},
   "source": [
    "#### 1. Distribution plot (Windspeed distribution)\n",
    "\n",
    "We can see that the windspeed is normally distributed between the range of 0-120 km/hr. As we can see from the graph below, the mean of windspeed in this dataset is around 38 km/hr."
   ]
  },
  {
   "cell_type": "code",
   "execution_count": 185,
   "metadata": {},
   "outputs": [
    {
     "name": "stdout",
     "output_type": "stream",
     "text": [
      "Dataframe is matrix of:  (56420, 23)\n"
     ]
    },
    {
     "data": {
      "text/plain": [
       "Text(0.5, 0, 'Wind speed in km/hr')"
      ]
     },
     "execution_count": 185,
     "metadata": {},
     "output_type": "execute_result"
    },
    {
     "data": {
      "image/png": "[encoded data removed]",
      "text/plain": [
       "<Figure size 576x576 with 1 Axes>"
      ]
     },
     "metadata": {
      "needs_background": "light"
     },
     "output_type": "display_data"
    }
   ],
   "source": [
    "print(\"Dataframe is matrix of: \",rain_df.shape)\n",
    "fig, ax = plt.subplots(figsize=(8,8))\n",
    "sb.distplot(rain_df['WindGustSpeed'])\n",
    "plt.xlabel(\"Wind speed in km/hr\")"
   ]
  },
  {
   "cell_type": "markdown",
   "metadata": {},
   "source": [
    "#### 2. Scatter plot ( Humidity % vs Rainfall in mm)\n",
    "\n",
    "As the humidity percentage in air increases, it increases the rainfall. The same is shown in the scatter plot below.\n",
    "\n",
    "We can clearly see that there are more datapoints plotted when the humidity in air is higher."
   ]
  },
  {
   "cell_type": "code",
   "execution_count": 186,
   "metadata": {},
   "outputs": [
    {
     "data": {
      "image/png": "[encoded data removed]",
      "text/plain": [
       "<Figure size 576x576 with 1 Axes>"
      ]
     },
     "metadata": {
      "needs_background": "light"
     },
     "output_type": "display_data"
    }
   ],
   "source": [
    "rain_df = rain_df[:15000]\n",
    "fig, ax = plt.subplots(figsize=(8,8))\n",
    "plt.scatter(rain_df['Humidity9am'], rain_df['Rainfall'])\n",
    "plt.ylabel(\"Rainfall (in mm)\")\n",
    "plt.xlabel(\"Humidity Percentage\")\n",
    "plt.title(\"Humidity % vs Rainfall in mm \\n\\n\")\n",
    "plt.show()"
   ]
  },
  {
   "cell_type": "markdown",
   "metadata": {},
   "source": [
    "#### 3. Bar graph (Cities in Australia vs Rainfall in mm)\n",
    "\n",
    "The bar graph below, shows the cities with the respective rainfall in mm.\n",
    "\n",
    "The highest rainfall is recorded in city \"CoffsHarbour\" with more than 120 mm rainfall followed by city \"More\" having 110 mm of rainfall."
   ]
  },
  {
   "cell_type": "code",
   "execution_count": 187,
   "metadata": {},
   "outputs": [
    {
     "data": {
      "image/png": "[encoded data removed]",
      "text/plain": [
       "<Figure size 1080x576 with 1 Axes>"
      ]
     },
     "metadata": {
      "needs_background": "light"
     },
     "output_type": "display_data"
    }
   ],
   "source": [
    "fig, ax = plt.subplots(figsize=(15,8))\n",
    "plt.bar(rain_df['Location'], rain_df['Rainfall'], alpha=0.5)\n",
    "plt.ylabel(\"Rainfall (in mm)\")\n",
    "plt.xlabel(\"Location (Cities in Australia)\")\n",
    "plt.title(\"Cities in Australia with their respective Rainfall in mm\\n\\n\")\n",
    "plt.show()"
   ]
  },
  {
   "cell_type": "markdown",
   "metadata": {},
   "source": [
    "### Preliminary Observation\n",
    "\n",
    "By looking at the above graphs we can make some general observations such as,<br>\n",
    "1) the increase in humidity percentage in atmosphere increase the rainfall in mm (scatter plot 2)<br>\n",
    "2) Rainfall Trends in Australia - we can clearly see the regions that has higher rainfall than in other regions. (Bar graph 3)<br>\n",
    "3) The first distribution graph shows the wind speed in most of the dataset is near to 40 km/hr<br>"
   ]
  },
  {
   "cell_type": "markdown",
   "metadata": {},
   "source": [
    "### Data Preprocessing\n",
    "\n",
    "In this dataset, first I have directly droped the null values since I have lot many rows in the dataset. For LMS implementation I have normalized the data and scaled every feature between 0-1."
   ]
  },
  {
   "cell_type": "code",
   "execution_count": 188,
   "metadata": {},
   "outputs": [],
   "source": [
    "rwd = ReadWeatherData()\n",
    "rain_df = rwd.weatherData(\"weatherAUS.csv\")\n",
    "rain_df = rain_df.dropna()\n",
    "df1 = rain_df.iloc[:,2:7]\n",
    "df2 = rain_df.iloc[:,8]\n",
    "df3 = rain_df.iloc[:,11:21]\n",
    "df1 = df1.join(df2)\n",
    "df1 = df1.join(df3)\n",
    "rain_df_x = df1\n",
    "#print(rain_df.head())\n",
    "rain_df_target = rain_df.iloc[:,22:23]\n",
    "rain_df = rain_df_x.join(rain_df_target)\n",
    "\n",
    "#########################################################################\n",
    "#print(rain_df.iloc[:5,0:16])\n",
    "rain_df_x = rain_df.iloc[:,0:16]\n",
    "rain_df_target = rain_df.iloc[:,16:17]"
   ]
  },
  {
   "cell_type": "markdown",
   "metadata": {},
   "source": [
    "# III. Methods\n",
    "\n",
    "## III.A Summary of Cross-validation \n",
    "\n",
    "The aim is to select the model which very well generalizes with the data. The idea is preparing one dataset (a validation set) by pretending that we cannot see the labels. After choosing a model parameter (or a model) and train it with training dataset, we test it on the validation data. Comparing the validation error, we select the one that has the lowest validation error. Finally, we evaluate the model on testing data.\n",
    "\n",
    "Here we are implementing 5-fold cross validation. The data gets divided into 5 parts. Amongst these 5 parts, each time, the data is trained on 4 parts and is tested on the other remaining part. In this way we get the 5 parameters with different values to configure the model (values such as number of layers to use, and their accuracies). The model with high accuracy can be used to train the neural network on the data."
   ]
  },
  {
   "cell_type": "code",
   "execution_count": 189,
   "metadata": {},
   "outputs": [],
   "source": [
    "import math\n",
    "import numpy as np\n",
    "import pandas as pd\n",
    "import seaborn as sns\n",
    "import matplotlib.pyplot as plt\n",
    "from nn import NeuralNet\n",
    "from grad import scg\n",
    "from util import Standardizer"
   ]
  },
  {
   "cell_type": "code",
   "execution_count": 190,
   "metadata": {},
   "outputs": [],
   "source": [
    "\n",
    "#Splits into parts of 20% of whole data. So myList will give five 20% of 100% of data\n",
    "def split_rain_df(rain_df):\n",
    "    part = len(rain_df) / 5.0\n",
    "    mylist = []\n",
    "    x = 0.0\n",
    "    #Iterate through the length of s and keep on appending to myList so we've like 5 parts now and return the list\n",
    "    while x < len(rain_df):\n",
    "        mylist.append(rain_df[int(x):int(x + part)])\n",
    "        x += part\n",
    "    return mylist\n",
    "\n",
    "best_list=[]\n",
    "final_list=[]\n",
    "\n",
    "def cross_validate(X, T, parameters):\n",
    "    #Call Split and get the data partitioned\n",
    "    X_partitioned = split_rain_df(X)\n",
    "    T_partitioned = split_rain_df(T)\n",
    "    \n",
    "    #This loop iterates through all the 5 parts..so each i is like test data for the paritioned dataset \n",
    "    for i in range(5): \n",
    "        print(\"Test number: \",i)\n",
    "        X_test = X_partitioned[i]\n",
    "        T_test = T_partitioned[i]\n",
    "\n",
    "        history_rmse=[]\n",
    "        params=[] \n",
    "        #best_param\n",
    "        \n",
    "        #k is the validation part of the 5 parts\n",
    "        for k in range(5): \n",
    "            print(\"K is : \",k)\n",
    "            if i == k: \n",
    "                continue \n",
    "            \n",
    "            #Another 20% of data used\n",
    "            X_val = X_partitioned[k]\n",
    "            T_val = T_partitioned[k]\n",
    "            \n",
    "            #Train will be those which is not test and validation part. The remaining 60% of data of 100%\n",
    "            X_train = X_partitioned[not i and not k]\n",
    "            T_train = T_partitioned[not i and not k]\n",
    "            \n",
    "            #m = 0\n",
    "            paramlist=[]\n",
    "            rmselist=[]\n",
    "            for param in parameters:\n",
    "                \n",
    "                model = NeuralNet(param)\n",
    "                model.train(X_train, T_train)\n",
    "                pred = model.use(X_val)\n",
    "                \n",
    "                valid_err = np.sqrt(mean_squared_error(T_val, pred))\n",
    "                rmselist.append(valid_err)\n",
    "                paramlist.append(param)\n",
    "                \n",
    "            print(paramlist)\n",
    "            print(rmselist)\n",
    "            print(min(rmselist))\n",
    "            print(paramlist[np.argmin(rmselist)])\n",
    "            history_rmse.append(min(rmselist))\n",
    "            params.append(paramlist[np.argmin(rmselist)])\n",
    "         \n",
    "        print(paramlist[np.argmin(history_rmse)])\n",
    "        best_param=paramlist[np.argmin(history_rmse)]\n",
    "        best_model = NeuralNet(best_param)\n",
    "        \n",
    "        X_train = X_partitioned[not i]\n",
    "        T_train = T_partitioned[not i]\n",
    "        best_model.train(X_train, T_train)\n",
    "\n",
    "        final_pred = best_model.use(X_test)\n",
    "        final_err = np.sqrt(mean_squared_error(T_test, final_pred))\n",
    "        final_list.append(final_err)\n",
    "        best_list.append(best_param)\n",
    "\n",
    "    return final_list,best_list"
   ]
  },
  {
   "cell_type": "markdown",
   "metadata": {},
   "source": [
    "## Explanation of code\n",
    "\n",
    "The method to follow the cross validation is given in lecture notes: \n",
    "\n",
    "    For each TEST partition\n",
    "\n",
    "        For each validation partition among the rest partitions\n",
    "\n",
    "            Choose the rest partitions into a training set.\n",
    "\n",
    "            For each set P of parameters to test\n",
    "\n",
    "                Using P, train the model\n",
    "\n",
    "                Use the trained model on the validation data\n",
    "\n",
    "                Evaluate the validation result and store the restuls to res\n",
    "\n",
    "        From the res result, pick the one with the best result.\n",
    "\n",
    "        Retrain the model with the best parameter p in P.\n",
    "\n",
    "        Apply the model with the best parameter p* to the test dataset.\n",
    "\n",
    "        Evaluate the result err and store the tuple (p*, err) to testErrs.\n",
    "\n",
    "    Return testErrs.\n",
    "\n",
    "Following the above procedure in the above code:<br>\n",
    "\n",
    "The split function splits the data into 5 equal size datasets. Each of this division is 20% of all the data. Each partition is also called as test partition. <br> \n",
    "\n",
    "Now one validation partition is choosen among the rest partitions, the training is given on all the other datasets. For each set of parameters in these partition, the model is trainined. The rmse error is calculated on a validation set (The one partition amongst the 5 different partitions). <br>\n",
    "\n",
    "The list is maintained which keeps the history of rmse error. This list is used to further calculate the best model.\n",
    "The function returns the list of rmse errors with model corresponding to it in another list."
   ]
  },
  {
   "cell_type": "markdown",
   "metadata": {},
   "source": [
    "## Presentation of Cross Validation result - Non-linear regression"
   ]
  },
  {
   "cell_type": "code",
   "execution_count": 191,
   "metadata": {
    "scrolled": false
   },
   "outputs": [
    {
     "name": "stdout",
     "output_type": "stream",
     "text": [
      "Test number:  0\n",
      "K is :  0\n",
      "K is :  1\n"
     ]
    },
    {
     "name": "stderr",
     "output_type": "stream",
     "text": [
      "C:\\Users\\LENOVO\\Notebook\\nn.py:113: FutureWarning: arrays to stack must be passed as a \"sequence\" type such as list or tuple. Support for non-sequence iterables such as generators is deprecated as of NumPy 1.16 and will raise an error in the future.\n",
      "  return np.hstack(map(np.ravel, w))\n",
      "C:\\Users\\LENOVO\\Notebook\\nn.py:113: FutureWarning: arrays to stack must be passed as a \"sequence\" type such as list or tuple. Support for non-sequence iterables such as generators is deprecated as of NumPy 1.16 and will raise an error in the future.\n",
      "  return np.hstack(map(np.ravel, w))\n",
      "C:\\Users\\LENOVO\\Notebook\\nn.py:113: FutureWarning: arrays to stack must be passed as a \"sequence\" type such as list or tuple. Support for non-sequence iterables such as generators is deprecated as of NumPy 1.16 and will raise an error in the future.\n",
      "  return np.hstack(map(np.ravel, w))\n",
      "C:\\Users\\LENOVO\\Notebook\\nn.py:113: FutureWarning: arrays to stack must be passed as a \"sequence\" type such as list or tuple. Support for non-sequence iterables such as generators is deprecated as of NumPy 1.16 and will raise an error in the future.\n",
      "  return np.hstack(map(np.ravel, w))\n"
     ]
    },
    {
     "name": "stdout",
     "output_type": "stream",
     "text": [
      "[[16, 3, 1], [16, 5, 1], [16, 7, 1], [16, 10, 1], [16, 12, 1]]\n",
      "[5.49178707121579, 5.614330407469755, 6.053591765754907, 6.229980182171506, 6.1377950548110745]\n",
      "5.49178707121579\n",
      "[16, 3, 1]\n",
      "K is :  2\n"
     ]
    },
    {
     "name": "stderr",
     "output_type": "stream",
     "text": [
      "C:\\Users\\LENOVO\\Notebook\\nn.py:113: FutureWarning: arrays to stack must be passed as a \"sequence\" type such as list or tuple. Support for non-sequence iterables such as generators is deprecated as of NumPy 1.16 and will raise an error in the future.\n",
      "  return np.hstack(map(np.ravel, w))\n",
      "C:\\Users\\LENOVO\\Notebook\\nn.py:113: FutureWarning: arrays to stack must be passed as a \"sequence\" type such as list or tuple. Support for non-sequence iterables such as generators is deprecated as of NumPy 1.16 and will raise an error in the future.\n",
      "  return np.hstack(map(np.ravel, w))\n",
      "C:\\Users\\LENOVO\\Notebook\\nn.py:113: FutureWarning: arrays to stack must be passed as a \"sequence\" type such as list or tuple. Support for non-sequence iterables such as generators is deprecated as of NumPy 1.16 and will raise an error in the future.\n",
      "  return np.hstack(map(np.ravel, w))\n",
      "C:\\Users\\LENOVO\\Notebook\\nn.py:113: FutureWarning: arrays to stack must be passed as a \"sequence\" type such as list or tuple. Support for non-sequence iterables such as generators is deprecated as of NumPy 1.16 and will raise an error in the future.\n",
      "  return np.hstack(map(np.ravel, w))\n",
      "C:\\Users\\LENOVO\\Notebook\\nn.py:113: FutureWarning: arrays to stack must be passed as a \"sequence\" type such as list or tuple. Support for non-sequence iterables such as generators is deprecated as of NumPy 1.16 and will raise an error in the future.\n",
      "  return np.hstack(map(np.ravel, w))\n"
     ]
    },
    {
     "name": "stdout",
     "output_type": "stream",
     "text": [
      "[[16, 3, 1], [16, 5, 1], [16, 7, 1], [16, 10, 1], [16, 12, 1]]\n",
      "[8.87095697403254, 8.655161975627486, 8.664166525909007, 9.000938937501962, 8.787867795911469]\n",
      "8.655161975627486\n",
      "[16, 5, 1]\n",
      "K is :  3\n"
     ]
    },
    {
     "name": "stderr",
     "output_type": "stream",
     "text": [
      "C:\\Users\\LENOVO\\Notebook\\nn.py:113: FutureWarning: arrays to stack must be passed as a \"sequence\" type such as list or tuple. Support for non-sequence iterables such as generators is deprecated as of NumPy 1.16 and will raise an error in the future.\n",
      "  return np.hstack(map(np.ravel, w))\n",
      "C:\\Users\\LENOVO\\Notebook\\nn.py:113: FutureWarning: arrays to stack must be passed as a \"sequence\" type such as list or tuple. Support for non-sequence iterables such as generators is deprecated as of NumPy 1.16 and will raise an error in the future.\n",
      "  return np.hstack(map(np.ravel, w))\n",
      "C:\\Users\\LENOVO\\Notebook\\nn.py:113: FutureWarning: arrays to stack must be passed as a \"sequence\" type such as list or tuple. Support for non-sequence iterables such as generators is deprecated as of NumPy 1.16 and will raise an error in the future.\n",
      "  return np.hstack(map(np.ravel, w))\n",
      "C:\\Users\\LENOVO\\Notebook\\nn.py:113: FutureWarning: arrays to stack must be passed as a \"sequence\" type such as list or tuple. Support for non-sequence iterables such as generators is deprecated as of NumPy 1.16 and will raise an error in the future.\n",
      "  return np.hstack(map(np.ravel, w))\n",
      "C:\\Users\\LENOVO\\Notebook\\nn.py:113: FutureWarning: arrays to stack must be passed as a \"sequence\" type such as list or tuple. Support for non-sequence iterables such as generators is deprecated as of NumPy 1.16 and will raise an error in the future.\n",
      "  return np.hstack(map(np.ravel, w))\n"
     ]
    },
    {
     "name": "stdout",
     "output_type": "stream",
     "text": [
      "[[16, 3, 1], [16, 5, 1], [16, 7, 1], [16, 10, 1], [16, 12, 1]]\n",
      "[7.505839919740284, 7.603852591620542, 7.74004659966559, 8.263016773074472, 7.661583913238005]\n",
      "7.505839919740284\n",
      "[16, 3, 1]\n",
      "K is :  4\n"
     ]
    },
    {
     "name": "stderr",
     "output_type": "stream",
     "text": [
      "C:\\Users\\LENOVO\\Notebook\\nn.py:113: FutureWarning: arrays to stack must be passed as a \"sequence\" type such as list or tuple. Support for non-sequence iterables such as generators is deprecated as of NumPy 1.16 and will raise an error in the future.\n",
      "  return np.hstack(map(np.ravel, w))\n",
      "C:\\Users\\LENOVO\\Notebook\\nn.py:113: FutureWarning: arrays to stack must be passed as a \"sequence\" type such as list or tuple. Support for non-sequence iterables such as generators is deprecated as of NumPy 1.16 and will raise an error in the future.\n",
      "  return np.hstack(map(np.ravel, w))\n",
      "C:\\Users\\LENOVO\\Notebook\\nn.py:113: FutureWarning: arrays to stack must be passed as a \"sequence\" type such as list or tuple. Support for non-sequence iterables such as generators is deprecated as of NumPy 1.16 and will raise an error in the future.\n",
      "  return np.hstack(map(np.ravel, w))\n",
      "C:\\Users\\LENOVO\\Notebook\\nn.py:113: FutureWarning: arrays to stack must be passed as a \"sequence\" type such as list or tuple. Support for non-sequence iterables such as generators is deprecated as of NumPy 1.16 and will raise an error in the future.\n",
      "  return np.hstack(map(np.ravel, w))\n",
      "C:\\Users\\LENOVO\\Notebook\\nn.py:113: FutureWarning: arrays to stack must be passed as a \"sequence\" type such as list or tuple. Support for non-sequence iterables such as generators is deprecated as of NumPy 1.16 and will raise an error in the future.\n",
      "  return np.hstack(map(np.ravel, w))\n"
     ]
    },
    {
     "name": "stdout",
     "output_type": "stream",
     "text": [
      "[[16, 3, 1], [16, 5, 1], [16, 7, 1], [16, 10, 1], [16, 12, 1]]\n",
      "[8.45743711478129, 8.120072606792188, 8.184254239508128, 8.437498265463262, 8.181486462379114]\n",
      "8.120072606792188\n",
      "[16, 5, 1]\n",
      "[16, 3, 1]\n"
     ]
    },
    {
     "name": "stderr",
     "output_type": "stream",
     "text": [
      "C:\\Users\\LENOVO\\Notebook\\nn.py:113: FutureWarning: arrays to stack must be passed as a \"sequence\" type such as list or tuple. Support for non-sequence iterables such as generators is deprecated as of NumPy 1.16 and will raise an error in the future.\n",
      "  return np.hstack(map(np.ravel, w))\n"
     ]
    },
    {
     "name": "stdout",
     "output_type": "stream",
     "text": [
      "Test number:  1\n",
      "K is :  0\n"
     ]
    },
    {
     "name": "stderr",
     "output_type": "stream",
     "text": [
      "C:\\Users\\LENOVO\\Notebook\\nn.py:113: FutureWarning: arrays to stack must be passed as a \"sequence\" type such as list or tuple. Support for non-sequence iterables such as generators is deprecated as of NumPy 1.16 and will raise an error in the future.\n",
      "  return np.hstack(map(np.ravel, w))\n",
      "C:\\Users\\LENOVO\\Notebook\\nn.py:113: FutureWarning: arrays to stack must be passed as a \"sequence\" type such as list or tuple. Support for non-sequence iterables such as generators is deprecated as of NumPy 1.16 and will raise an error in the future.\n",
      "  return np.hstack(map(np.ravel, w))\n",
      "C:\\Users\\LENOVO\\Notebook\\nn.py:113: FutureWarning: arrays to stack must be passed as a \"sequence\" type such as list or tuple. Support for non-sequence iterables such as generators is deprecated as of NumPy 1.16 and will raise an error in the future.\n",
      "  return np.hstack(map(np.ravel, w))\n",
      "C:\\Users\\LENOVO\\Notebook\\nn.py:113: FutureWarning: arrays to stack must be passed as a \"sequence\" type such as list or tuple. Support for non-sequence iterables such as generators is deprecated as of NumPy 1.16 and will raise an error in the future.\n",
      "  return np.hstack(map(np.ravel, w))\n",
      "C:\\Users\\LENOVO\\Notebook\\nn.py:113: FutureWarning: arrays to stack must be passed as a \"sequence\" type such as list or tuple. Support for non-sequence iterables such as generators is deprecated as of NumPy 1.16 and will raise an error in the future.\n",
      "  return np.hstack(map(np.ravel, w))\n"
     ]
    },
    {
     "name": "stdout",
     "output_type": "stream",
     "text": [
      "[[16, 3, 1], [16, 5, 1], [16, 7, 1], [16, 10, 1], [16, 12, 1]]\n",
      "[7.344800464567821, 7.195809331847979, 7.04729288442825, 6.956877254657025, 6.869047662098219]\n",
      "6.869047662098219\n",
      "[16, 12, 1]\n",
      "K is :  1\n",
      "K is :  2\n"
     ]
    },
    {
     "name": "stderr",
     "output_type": "stream",
     "text": [
      "C:\\Users\\LENOVO\\Notebook\\nn.py:113: FutureWarning: arrays to stack must be passed as a \"sequence\" type such as list or tuple. Support for non-sequence iterables such as generators is deprecated as of NumPy 1.16 and will raise an error in the future.\n",
      "  return np.hstack(map(np.ravel, w))\n",
      "C:\\Users\\LENOVO\\Notebook\\nn.py:113: FutureWarning: arrays to stack must be passed as a \"sequence\" type such as list or tuple. Support for non-sequence iterables such as generators is deprecated as of NumPy 1.16 and will raise an error in the future.\n",
      "  return np.hstack(map(np.ravel, w))\n",
      "C:\\Users\\LENOVO\\Notebook\\nn.py:113: FutureWarning: arrays to stack must be passed as a \"sequence\" type such as list or tuple. Support for non-sequence iterables such as generators is deprecated as of NumPy 1.16 and will raise an error in the future.\n",
      "  return np.hstack(map(np.ravel, w))\n",
      "C:\\Users\\LENOVO\\Notebook\\nn.py:113: FutureWarning: arrays to stack must be passed as a \"sequence\" type such as list or tuple. Support for non-sequence iterables such as generators is deprecated as of NumPy 1.16 and will raise an error in the future.\n",
      "  return np.hstack(map(np.ravel, w))\n",
      "C:\\Users\\LENOVO\\Notebook\\nn.py:113: FutureWarning: arrays to stack must be passed as a \"sequence\" type such as list or tuple. Support for non-sequence iterables such as generators is deprecated as of NumPy 1.16 and will raise an error in the future.\n",
      "  return np.hstack(map(np.ravel, w))\n"
     ]
    },
    {
     "name": "stdout",
     "output_type": "stream",
     "text": [
      "[[16, 3, 1], [16, 5, 1], [16, 7, 1], [16, 10, 1], [16, 12, 1]]\n",
      "[8.478763051781776, 8.632656516476754, 9.138030038448811, 8.727734901519012, 9.002450152238115]\n",
      "8.478763051781776\n",
      "[16, 3, 1]\n",
      "K is :  3\n"
     ]
    },
    {
     "name": "stderr",
     "output_type": "stream",
     "text": [
      "C:\\Users\\LENOVO\\Notebook\\nn.py:113: FutureWarning: arrays to stack must be passed as a \"sequence\" type such as list or tuple. Support for non-sequence iterables such as generators is deprecated as of NumPy 1.16 and will raise an error in the future.\n",
      "  return np.hstack(map(np.ravel, w))\n",
      "C:\\Users\\LENOVO\\Notebook\\nn.py:113: FutureWarning: arrays to stack must be passed as a \"sequence\" type such as list or tuple. Support for non-sequence iterables such as generators is deprecated as of NumPy 1.16 and will raise an error in the future.\n",
      "  return np.hstack(map(np.ravel, w))\n",
      "C:\\Users\\LENOVO\\Notebook\\nn.py:113: FutureWarning: arrays to stack must be passed as a \"sequence\" type such as list or tuple. Support for non-sequence iterables such as generators is deprecated as of NumPy 1.16 and will raise an error in the future.\n",
      "  return np.hstack(map(np.ravel, w))\n",
      "C:\\Users\\LENOVO\\Notebook\\nn.py:113: FutureWarning: arrays to stack must be passed as a \"sequence\" type such as list or tuple. Support for non-sequence iterables such as generators is deprecated as of NumPy 1.16 and will raise an error in the future.\n",
      "  return np.hstack(map(np.ravel, w))\n",
      "C:\\Users\\LENOVO\\Notebook\\nn.py:113: FutureWarning: arrays to stack must be passed as a \"sequence\" type such as list or tuple. Support for non-sequence iterables such as generators is deprecated as of NumPy 1.16 and will raise an error in the future.\n",
      "  return np.hstack(map(np.ravel, w))\n"
     ]
    },
    {
     "name": "stdout",
     "output_type": "stream",
     "text": [
      "[[16, 3, 1], [16, 5, 1], [16, 7, 1], [16, 10, 1], [16, 12, 1]]\n",
      "[7.523151564193456, 8.204568518545367, 7.6146602031900095, 7.892192558158152, 7.845306148828959]\n",
      "7.523151564193456\n",
      "[16, 3, 1]\n",
      "K is :  4\n"
     ]
    },
    {
     "name": "stderr",
     "output_type": "stream",
     "text": [
      "C:\\Users\\LENOVO\\Notebook\\nn.py:113: FutureWarning: arrays to stack must be passed as a \"sequence\" type such as list or tuple. Support for non-sequence iterables such as generators is deprecated as of NumPy 1.16 and will raise an error in the future.\n",
      "  return np.hstack(map(np.ravel, w))\n",
      "C:\\Users\\LENOVO\\Notebook\\nn.py:113: FutureWarning: arrays to stack must be passed as a \"sequence\" type such as list or tuple. Support for non-sequence iterables such as generators is deprecated as of NumPy 1.16 and will raise an error in the future.\n",
      "  return np.hstack(map(np.ravel, w))\n",
      "C:\\Users\\LENOVO\\Notebook\\nn.py:113: FutureWarning: arrays to stack must be passed as a \"sequence\" type such as list or tuple. Support for non-sequence iterables such as generators is deprecated as of NumPy 1.16 and will raise an error in the future.\n",
      "  return np.hstack(map(np.ravel, w))\n",
      "C:\\Users\\LENOVO\\Notebook\\nn.py:113: FutureWarning: arrays to stack must be passed as a \"sequence\" type such as list or tuple. Support for non-sequence iterables such as generators is deprecated as of NumPy 1.16 and will raise an error in the future.\n",
      "  return np.hstack(map(np.ravel, w))\n",
      "C:\\Users\\LENOVO\\Notebook\\nn.py:113: FutureWarning: arrays to stack must be passed as a \"sequence\" type such as list or tuple. Support for non-sequence iterables such as generators is deprecated as of NumPy 1.16 and will raise an error in the future.\n",
      "  return np.hstack(map(np.ravel, w))\n"
     ]
    },
    {
     "name": "stdout",
     "output_type": "stream",
     "text": [
      "[[16, 3, 1], [16, 5, 1], [16, 7, 1], [16, 10, 1], [16, 12, 1]]\n",
      "[8.047474071891461, 8.271292771939828, 8.32466457595207, 8.354789796416902, 8.487857182832753]\n",
      "8.047474071891461\n",
      "[16, 3, 1]\n",
      "[16, 3, 1]\n"
     ]
    },
    {
     "name": "stderr",
     "output_type": "stream",
     "text": [
      "C:\\Users\\LENOVO\\Notebook\\nn.py:113: FutureWarning: arrays to stack must be passed as a \"sequence\" type such as list or tuple. Support for non-sequence iterables such as generators is deprecated as of NumPy 1.16 and will raise an error in the future.\n",
      "  return np.hstack(map(np.ravel, w))\n"
     ]
    },
    {
     "name": "stdout",
     "output_type": "stream",
     "text": [
      "Test number:  2\n",
      "K is :  0\n"
     ]
    },
    {
     "name": "stderr",
     "output_type": "stream",
     "text": [
      "C:\\Users\\LENOVO\\Notebook\\nn.py:113: FutureWarning: arrays to stack must be passed as a \"sequence\" type such as list or tuple. Support for non-sequence iterables such as generators is deprecated as of NumPy 1.16 and will raise an error in the future.\n",
      "  return np.hstack(map(np.ravel, w))\n",
      "C:\\Users\\LENOVO\\Notebook\\nn.py:113: FutureWarning: arrays to stack must be passed as a \"sequence\" type such as list or tuple. Support for non-sequence iterables such as generators is deprecated as of NumPy 1.16 and will raise an error in the future.\n",
      "  return np.hstack(map(np.ravel, w))\n",
      "C:\\Users\\LENOVO\\Notebook\\nn.py:113: FutureWarning: arrays to stack must be passed as a \"sequence\" type such as list or tuple. Support for non-sequence iterables such as generators is deprecated as of NumPy 1.16 and will raise an error in the future.\n",
      "  return np.hstack(map(np.ravel, w))\n",
      "C:\\Users\\LENOVO\\Notebook\\nn.py:113: FutureWarning: arrays to stack must be passed as a \"sequence\" type such as list or tuple. Support for non-sequence iterables such as generators is deprecated as of NumPy 1.16 and will raise an error in the future.\n",
      "  return np.hstack(map(np.ravel, w))\n",
      "C:\\Users\\LENOVO\\Notebook\\nn.py:113: FutureWarning: arrays to stack must be passed as a \"sequence\" type such as list or tuple. Support for non-sequence iterables such as generators is deprecated as of NumPy 1.16 and will raise an error in the future.\n",
      "  return np.hstack(map(np.ravel, w))\n"
     ]
    },
    {
     "name": "stdout",
     "output_type": "stream",
     "text": [
      "[[16, 3, 1], [16, 5, 1], [16, 7, 1], [16, 10, 1], [16, 12, 1]]\n",
      "[7.365722169296661, 7.196345016236465, 6.933648807388031, 6.8242999298961164, 6.780349494439551]\n",
      "6.780349494439551\n",
      "[16, 12, 1]\n",
      "K is :  1\n"
     ]
    },
    {
     "name": "stderr",
     "output_type": "stream",
     "text": [
      "C:\\Users\\LENOVO\\Notebook\\nn.py:113: FutureWarning: arrays to stack must be passed as a \"sequence\" type such as list or tuple. Support for non-sequence iterables such as generators is deprecated as of NumPy 1.16 and will raise an error in the future.\n",
      "  return np.hstack(map(np.ravel, w))\n",
      "C:\\Users\\LENOVO\\Notebook\\nn.py:113: FutureWarning: arrays to stack must be passed as a \"sequence\" type such as list or tuple. Support for non-sequence iterables such as generators is deprecated as of NumPy 1.16 and will raise an error in the future.\n",
      "  return np.hstack(map(np.ravel, w))\n",
      "C:\\Users\\LENOVO\\Notebook\\nn.py:113: FutureWarning: arrays to stack must be passed as a \"sequence\" type such as list or tuple. Support for non-sequence iterables such as generators is deprecated as of NumPy 1.16 and will raise an error in the future.\n",
      "  return np.hstack(map(np.ravel, w))\n",
      "C:\\Users\\LENOVO\\Notebook\\nn.py:113: FutureWarning: arrays to stack must be passed as a \"sequence\" type such as list or tuple. Support for non-sequence iterables such as generators is deprecated as of NumPy 1.16 and will raise an error in the future.\n",
      "  return np.hstack(map(np.ravel, w))\n",
      "C:\\Users\\LENOVO\\Notebook\\nn.py:113: FutureWarning: arrays to stack must be passed as a \"sequence\" type such as list or tuple. Support for non-sequence iterables such as generators is deprecated as of NumPy 1.16 and will raise an error in the future.\n",
      "  return np.hstack(map(np.ravel, w))\n"
     ]
    },
    {
     "name": "stdout",
     "output_type": "stream",
     "text": [
      "[[16, 3, 1], [16, 5, 1], [16, 7, 1], [16, 10, 1], [16, 12, 1]]\n",
      "[5.4542158979887105, 5.6602284554113504, 6.675432375248919, 6.350052987024434, 6.127827361500215]\n",
      "5.4542158979887105\n",
      "[16, 3, 1]\n",
      "K is :  2\n",
      "K is :  3\n"
     ]
    },
    {
     "name": "stderr",
     "output_type": "stream",
     "text": [
      "C:\\Users\\LENOVO\\Notebook\\nn.py:113: FutureWarning: arrays to stack must be passed as a \"sequence\" type such as list or tuple. Support for non-sequence iterables such as generators is deprecated as of NumPy 1.16 and will raise an error in the future.\n",
      "  return np.hstack(map(np.ravel, w))\n",
      "C:\\Users\\LENOVO\\Notebook\\nn.py:113: FutureWarning: arrays to stack must be passed as a \"sequence\" type such as list or tuple. Support for non-sequence iterables such as generators is deprecated as of NumPy 1.16 and will raise an error in the future.\n",
      "  return np.hstack(map(np.ravel, w))\n",
      "C:\\Users\\LENOVO\\Notebook\\nn.py:113: FutureWarning: arrays to stack must be passed as a \"sequence\" type such as list or tuple. Support for non-sequence iterables such as generators is deprecated as of NumPy 1.16 and will raise an error in the future.\n",
      "  return np.hstack(map(np.ravel, w))\n",
      "C:\\Users\\LENOVO\\Notebook\\nn.py:113: FutureWarning: arrays to stack must be passed as a \"sequence\" type such as list or tuple. Support for non-sequence iterables such as generators is deprecated as of NumPy 1.16 and will raise an error in the future.\n",
      "  return np.hstack(map(np.ravel, w))\n",
      "C:\\Users\\LENOVO\\Notebook\\nn.py:113: FutureWarning: arrays to stack must be passed as a \"sequence\" type such as list or tuple. Support for non-sequence iterables such as generators is deprecated as of NumPy 1.16 and will raise an error in the future.\n",
      "  return np.hstack(map(np.ravel, w))\n"
     ]
    },
    {
     "name": "stdout",
     "output_type": "stream",
     "text": [
      "[[16, 3, 1], [16, 5, 1], [16, 7, 1], [16, 10, 1], [16, 12, 1]]\n",
      "[7.4778528234129595, 7.70401157081465, 7.664181748866861, 8.102373219455309, 7.986916127713757]\n",
      "7.4778528234129595\n",
      "[16, 3, 1]\n",
      "K is :  4\n"
     ]
    },
    {
     "name": "stderr",
     "output_type": "stream",
     "text": [
      "C:\\Users\\LENOVO\\Notebook\\nn.py:113: FutureWarning: arrays to stack must be passed as a \"sequence\" type such as list or tuple. Support for non-sequence iterables such as generators is deprecated as of NumPy 1.16 and will raise an error in the future.\n",
      "  return np.hstack(map(np.ravel, w))\n",
      "C:\\Users\\LENOVO\\Notebook\\nn.py:113: FutureWarning: arrays to stack must be passed as a \"sequence\" type such as list or tuple. Support for non-sequence iterables such as generators is deprecated as of NumPy 1.16 and will raise an error in the future.\n",
      "  return np.hstack(map(np.ravel, w))\n",
      "C:\\Users\\LENOVO\\Notebook\\nn.py:113: FutureWarning: arrays to stack must be passed as a \"sequence\" type such as list or tuple. Support for non-sequence iterables such as generators is deprecated as of NumPy 1.16 and will raise an error in the future.\n",
      "  return np.hstack(map(np.ravel, w))\n",
      "C:\\Users\\LENOVO\\Notebook\\nn.py:113: FutureWarning: arrays to stack must be passed as a \"sequence\" type such as list or tuple. Support for non-sequence iterables such as generators is deprecated as of NumPy 1.16 and will raise an error in the future.\n",
      "  return np.hstack(map(np.ravel, w))\n",
      "C:\\Users\\LENOVO\\Notebook\\nn.py:113: FutureWarning: arrays to stack must be passed as a \"sequence\" type such as list or tuple. Support for non-sequence iterables such as generators is deprecated as of NumPy 1.16 and will raise an error in the future.\n",
      "  return np.hstack(map(np.ravel, w))\n"
     ]
    },
    {
     "name": "stdout",
     "output_type": "stream",
     "text": [
      "[[16, 3, 1], [16, 5, 1], [16, 7, 1], [16, 10, 1], [16, 12, 1]]\n",
      "[8.043896637836042, 8.14358603330054, 8.255133663343452, 8.208477036816817, 8.181597442165687]\n",
      "8.043896637836042\n",
      "[16, 3, 1]\n",
      "[16, 5, 1]\n"
     ]
    },
    {
     "name": "stderr",
     "output_type": "stream",
     "text": [
      "C:\\Users\\LENOVO\\Notebook\\nn.py:113: FutureWarning: arrays to stack must be passed as a \"sequence\" type such as list or tuple. Support for non-sequence iterables such as generators is deprecated as of NumPy 1.16 and will raise an error in the future.\n",
      "  return np.hstack(map(np.ravel, w))\n"
     ]
    },
    {
     "name": "stdout",
     "output_type": "stream",
     "text": [
      "Test number:  3\n",
      "K is :  0\n"
     ]
    },
    {
     "name": "stderr",
     "output_type": "stream",
     "text": [
      "C:\\Users\\LENOVO\\Notebook\\nn.py:113: FutureWarning: arrays to stack must be passed as a \"sequence\" type such as list or tuple. Support for non-sequence iterables such as generators is deprecated as of NumPy 1.16 and will raise an error in the future.\n",
      "  return np.hstack(map(np.ravel, w))\n",
      "C:\\Users\\LENOVO\\Notebook\\nn.py:113: FutureWarning: arrays to stack must be passed as a \"sequence\" type such as list or tuple. Support for non-sequence iterables such as generators is deprecated as of NumPy 1.16 and will raise an error in the future.\n",
      "  return np.hstack(map(np.ravel, w))\n",
      "C:\\Users\\LENOVO\\Notebook\\nn.py:113: FutureWarning: arrays to stack must be passed as a \"sequence\" type such as list or tuple. Support for non-sequence iterables such as generators is deprecated as of NumPy 1.16 and will raise an error in the future.\n",
      "  return np.hstack(map(np.ravel, w))\n",
      "C:\\Users\\LENOVO\\Notebook\\nn.py:113: FutureWarning: arrays to stack must be passed as a \"sequence\" type such as list or tuple. Support for non-sequence iterables such as generators is deprecated as of NumPy 1.16 and will raise an error in the future.\n",
      "  return np.hstack(map(np.ravel, w))\n",
      "C:\\Users\\LENOVO\\Notebook\\nn.py:113: FutureWarning: arrays to stack must be passed as a \"sequence\" type such as list or tuple. Support for non-sequence iterables such as generators is deprecated as of NumPy 1.16 and will raise an error in the future.\n",
      "  return np.hstack(map(np.ravel, w))\n"
     ]
    },
    {
     "name": "stdout",
     "output_type": "stream",
     "text": [
      "[[16, 3, 1], [16, 5, 1], [16, 7, 1], [16, 10, 1], [16, 12, 1]]\n",
      "[7.3396368708957045, 7.192987033696148, 7.053880282708795, 6.928482274058995, 6.847237052420876]\n",
      "6.847237052420876\n",
      "[16, 12, 1]\n",
      "K is :  1\n"
     ]
    },
    {
     "name": "stderr",
     "output_type": "stream",
     "text": [
      "C:\\Users\\LENOVO\\Notebook\\nn.py:113: FutureWarning: arrays to stack must be passed as a \"sequence\" type such as list or tuple. Support for non-sequence iterables such as generators is deprecated as of NumPy 1.16 and will raise an error in the future.\n",
      "  return np.hstack(map(np.ravel, w))\n",
      "C:\\Users\\LENOVO\\Notebook\\nn.py:113: FutureWarning: arrays to stack must be passed as a \"sequence\" type such as list or tuple. Support for non-sequence iterables such as generators is deprecated as of NumPy 1.16 and will raise an error in the future.\n",
      "  return np.hstack(map(np.ravel, w))\n",
      "C:\\Users\\LENOVO\\Notebook\\nn.py:113: FutureWarning: arrays to stack must be passed as a \"sequence\" type such as list or tuple. Support for non-sequence iterables such as generators is deprecated as of NumPy 1.16 and will raise an error in the future.\n",
      "  return np.hstack(map(np.ravel, w))\n",
      "C:\\Users\\LENOVO\\Notebook\\nn.py:113: FutureWarning: arrays to stack must be passed as a \"sequence\" type such as list or tuple. Support for non-sequence iterables such as generators is deprecated as of NumPy 1.16 and will raise an error in the future.\n",
      "  return np.hstack(map(np.ravel, w))\n",
      "C:\\Users\\LENOVO\\Notebook\\nn.py:113: FutureWarning: arrays to stack must be passed as a \"sequence\" type such as list or tuple. Support for non-sequence iterables such as generators is deprecated as of NumPy 1.16 and will raise an error in the future.\n",
      "  return np.hstack(map(np.ravel, w))\n"
     ]
    },
    {
     "name": "stdout",
     "output_type": "stream",
     "text": [
      "[[16, 3, 1], [16, 5, 1], [16, 7, 1], [16, 10, 1], [16, 12, 1]]\n",
      "[5.475681984608154, 6.360119056756666, 5.913231154332101, 6.2437907183997385, 6.075115917156123]\n",
      "5.475681984608154\n",
      "[16, 3, 1]\n",
      "K is :  2\n"
     ]
    },
    {
     "name": "stderr",
     "output_type": "stream",
     "text": [
      "C:\\Users\\LENOVO\\Notebook\\nn.py:113: FutureWarning: arrays to stack must be passed as a \"sequence\" type such as list or tuple. Support for non-sequence iterables such as generators is deprecated as of NumPy 1.16 and will raise an error in the future.\n",
      "  return np.hstack(map(np.ravel, w))\n",
      "C:\\Users\\LENOVO\\Notebook\\nn.py:113: FutureWarning: arrays to stack must be passed as a \"sequence\" type such as list or tuple. Support for non-sequence iterables such as generators is deprecated as of NumPy 1.16 and will raise an error in the future.\n",
      "  return np.hstack(map(np.ravel, w))\n",
      "C:\\Users\\LENOVO\\Notebook\\nn.py:113: FutureWarning: arrays to stack must be passed as a \"sequence\" type such as list or tuple. Support for non-sequence iterables such as generators is deprecated as of NumPy 1.16 and will raise an error in the future.\n",
      "  return np.hstack(map(np.ravel, w))\n",
      "C:\\Users\\LENOVO\\Notebook\\nn.py:113: FutureWarning: arrays to stack must be passed as a \"sequence\" type such as list or tuple. Support for non-sequence iterables such as generators is deprecated as of NumPy 1.16 and will raise an error in the future.\n",
      "  return np.hstack(map(np.ravel, w))\n",
      "C:\\Users\\LENOVO\\Notebook\\nn.py:113: FutureWarning: arrays to stack must be passed as a \"sequence\" type such as list or tuple. Support for non-sequence iterables such as generators is deprecated as of NumPy 1.16 and will raise an error in the future.\n",
      "  return np.hstack(map(np.ravel, w))\n"
     ]
    },
    {
     "name": "stdout",
     "output_type": "stream",
     "text": [
      "[[16, 3, 1], [16, 5, 1], [16, 7, 1], [16, 10, 1], [16, 12, 1]]\n",
      "[8.54957614556169, 8.44194504871122, 8.697872672939225, 9.07386247882963, 8.813489984030069]\n",
      "8.44194504871122\n",
      "[16, 5, 1]\n",
      "K is :  3\n",
      "K is :  4\n"
     ]
    },
    {
     "name": "stderr",
     "output_type": "stream",
     "text": [
      "C:\\Users\\LENOVO\\Notebook\\nn.py:113: FutureWarning: arrays to stack must be passed as a \"sequence\" type such as list or tuple. Support for non-sequence iterables such as generators is deprecated as of NumPy 1.16 and will raise an error in the future.\n",
      "  return np.hstack(map(np.ravel, w))\n",
      "C:\\Users\\LENOVO\\Notebook\\nn.py:113: FutureWarning: arrays to stack must be passed as a \"sequence\" type such as list or tuple. Support for non-sequence iterables such as generators is deprecated as of NumPy 1.16 and will raise an error in the future.\n",
      "  return np.hstack(map(np.ravel, w))\n",
      "C:\\Users\\LENOVO\\Notebook\\nn.py:113: FutureWarning: arrays to stack must be passed as a \"sequence\" type such as list or tuple. Support for non-sequence iterables such as generators is deprecated as of NumPy 1.16 and will raise an error in the future.\n",
      "  return np.hstack(map(np.ravel, w))\n",
      "C:\\Users\\LENOVO\\Notebook\\nn.py:113: FutureWarning: arrays to stack must be passed as a \"sequence\" type such as list or tuple. Support for non-sequence iterables such as generators is deprecated as of NumPy 1.16 and will raise an error in the future.\n",
      "  return np.hstack(map(np.ravel, w))\n",
      "C:\\Users\\LENOVO\\Notebook\\nn.py:113: FutureWarning: arrays to stack must be passed as a \"sequence\" type such as list or tuple. Support for non-sequence iterables such as generators is deprecated as of NumPy 1.16 and will raise an error in the future.\n",
      "  return np.hstack(map(np.ravel, w))\n"
     ]
    },
    {
     "name": "stdout",
     "output_type": "stream",
     "text": [
      "[[16, 3, 1], [16, 5, 1], [16, 7, 1], [16, 10, 1], [16, 12, 1]]\n",
      "[8.010159780758318, 8.144006570202444, 8.221869015124327, 8.253293596327437, 8.763770234985929]\n",
      "8.010159780758318\n",
      "[16, 3, 1]\n",
      "[16, 5, 1]\n"
     ]
    },
    {
     "name": "stderr",
     "output_type": "stream",
     "text": [
      "C:\\Users\\LENOVO\\Notebook\\nn.py:113: FutureWarning: arrays to stack must be passed as a \"sequence\" type such as list or tuple. Support for non-sequence iterables such as generators is deprecated as of NumPy 1.16 and will raise an error in the future.\n",
      "  return np.hstack(map(np.ravel, w))\n"
     ]
    },
    {
     "name": "stdout",
     "output_type": "stream",
     "text": [
      "Test number:  4\n",
      "K is :  0\n"
     ]
    },
    {
     "name": "stderr",
     "output_type": "stream",
     "text": [
      "C:\\Users\\LENOVO\\Notebook\\nn.py:113: FutureWarning: arrays to stack must be passed as a \"sequence\" type such as list or tuple. Support for non-sequence iterables such as generators is deprecated as of NumPy 1.16 and will raise an error in the future.\n",
      "  return np.hstack(map(np.ravel, w))\n",
      "C:\\Users\\LENOVO\\Notebook\\nn.py:113: FutureWarning: arrays to stack must be passed as a \"sequence\" type such as list or tuple. Support for non-sequence iterables such as generators is deprecated as of NumPy 1.16 and will raise an error in the future.\n",
      "  return np.hstack(map(np.ravel, w))\n",
      "C:\\Users\\LENOVO\\Notebook\\nn.py:113: FutureWarning: arrays to stack must be passed as a \"sequence\" type such as list or tuple. Support for non-sequence iterables such as generators is deprecated as of NumPy 1.16 and will raise an error in the future.\n",
      "  return np.hstack(map(np.ravel, w))\n",
      "C:\\Users\\LENOVO\\Notebook\\nn.py:113: FutureWarning: arrays to stack must be passed as a \"sequence\" type such as list or tuple. Support for non-sequence iterables such as generators is deprecated as of NumPy 1.16 and will raise an error in the future.\n",
      "  return np.hstack(map(np.ravel, w))\n",
      "C:\\Users\\LENOVO\\Notebook\\nn.py:113: FutureWarning: arrays to stack must be passed as a \"sequence\" type such as list or tuple. Support for non-sequence iterables such as generators is deprecated as of NumPy 1.16 and will raise an error in the future.\n",
      "  return np.hstack(map(np.ravel, w))\n"
     ]
    },
    {
     "name": "stdout",
     "output_type": "stream",
     "text": [
      "[[16, 3, 1], [16, 5, 1], [16, 7, 1], [16, 10, 1], [16, 12, 1]]\n",
      "[7.246619509908973, 7.067701048984285, 7.067878682992474, 6.76548822092375, 6.709737588258164]\n",
      "6.709737588258164\n",
      "[16, 12, 1]\n",
      "K is :  1\n"
     ]
    },
    {
     "name": "stderr",
     "output_type": "stream",
     "text": [
      "C:\\Users\\LENOVO\\Notebook\\nn.py:113: FutureWarning: arrays to stack must be passed as a \"sequence\" type such as list or tuple. Support for non-sequence iterables such as generators is deprecated as of NumPy 1.16 and will raise an error in the future.\n",
      "  return np.hstack(map(np.ravel, w))\n",
      "C:\\Users\\LENOVO\\Notebook\\nn.py:113: FutureWarning: arrays to stack must be passed as a \"sequence\" type such as list or tuple. Support for non-sequence iterables such as generators is deprecated as of NumPy 1.16 and will raise an error in the future.\n",
      "  return np.hstack(map(np.ravel, w))\n",
      "C:\\Users\\LENOVO\\Notebook\\nn.py:113: FutureWarning: arrays to stack must be passed as a \"sequence\" type such as list or tuple. Support for non-sequence iterables such as generators is deprecated as of NumPy 1.16 and will raise an error in the future.\n",
      "  return np.hstack(map(np.ravel, w))\n",
      "C:\\Users\\LENOVO\\Notebook\\nn.py:113: FutureWarning: arrays to stack must be passed as a \"sequence\" type such as list or tuple. Support for non-sequence iterables such as generators is deprecated as of NumPy 1.16 and will raise an error in the future.\n",
      "  return np.hstack(map(np.ravel, w))\n",
      "C:\\Users\\LENOVO\\Notebook\\nn.py:113: FutureWarning: arrays to stack must be passed as a \"sequence\" type such as list or tuple. Support for non-sequence iterables such as generators is deprecated as of NumPy 1.16 and will raise an error in the future.\n",
      "  return np.hstack(map(np.ravel, w))\n"
     ]
    },
    {
     "name": "stdout",
     "output_type": "stream",
     "text": [
      "[[16, 3, 1], [16, 5, 1], [16, 7, 1], [16, 10, 1], [16, 12, 1]]\n",
      "[5.514156853360518, 5.692770783539199, 6.009436561781955, 6.916620985436146, 6.69720865192809]\n",
      "5.514156853360518\n",
      "[16, 3, 1]\n",
      "K is :  2\n"
     ]
    },
    {
     "name": "stderr",
     "output_type": "stream",
     "text": [
      "C:\\Users\\LENOVO\\Notebook\\nn.py:113: FutureWarning: arrays to stack must be passed as a \"sequence\" type such as list or tuple. Support for non-sequence iterables such as generators is deprecated as of NumPy 1.16 and will raise an error in the future.\n",
      "  return np.hstack(map(np.ravel, w))\n",
      "C:\\Users\\LENOVO\\Notebook\\nn.py:113: FutureWarning: arrays to stack must be passed as a \"sequence\" type such as list or tuple. Support for non-sequence iterables such as generators is deprecated as of NumPy 1.16 and will raise an error in the future.\n",
      "  return np.hstack(map(np.ravel, w))\n",
      "C:\\Users\\LENOVO\\Notebook\\nn.py:113: FutureWarning: arrays to stack must be passed as a \"sequence\" type such as list or tuple. Support for non-sequence iterables such as generators is deprecated as of NumPy 1.16 and will raise an error in the future.\n",
      "  return np.hstack(map(np.ravel, w))\n",
      "C:\\Users\\LENOVO\\Notebook\\nn.py:113: FutureWarning: arrays to stack must be passed as a \"sequence\" type such as list or tuple. Support for non-sequence iterables such as generators is deprecated as of NumPy 1.16 and will raise an error in the future.\n",
      "  return np.hstack(map(np.ravel, w))\n",
      "C:\\Users\\LENOVO\\Notebook\\nn.py:113: FutureWarning: arrays to stack must be passed as a \"sequence\" type such as list or tuple. Support for non-sequence iterables such as generators is deprecated as of NumPy 1.16 and will raise an error in the future.\n",
      "  return np.hstack(map(np.ravel, w))\n"
     ]
    },
    {
     "name": "stdout",
     "output_type": "stream",
     "text": [
      "[[16, 3, 1], [16, 5, 1], [16, 7, 1], [16, 10, 1], [16, 12, 1]]\n",
      "[8.437068908207861, 8.780589250637368, 8.775852379091843, 8.97879842692465, 9.067913124422356]\n",
      "8.437068908207861\n",
      "[16, 3, 1]\n",
      "K is :  3\n"
     ]
    },
    {
     "name": "stderr",
     "output_type": "stream",
     "text": [
      "C:\\Users\\LENOVO\\Notebook\\nn.py:113: FutureWarning: arrays to stack must be passed as a \"sequence\" type such as list or tuple. Support for non-sequence iterables such as generators is deprecated as of NumPy 1.16 and will raise an error in the future.\n",
      "  return np.hstack(map(np.ravel, w))\n",
      "C:\\Users\\LENOVO\\Notebook\\nn.py:113: FutureWarning: arrays to stack must be passed as a \"sequence\" type such as list or tuple. Support for non-sequence iterables such as generators is deprecated as of NumPy 1.16 and will raise an error in the future.\n",
      "  return np.hstack(map(np.ravel, w))\n",
      "C:\\Users\\LENOVO\\Notebook\\nn.py:113: FutureWarning: arrays to stack must be passed as a \"sequence\" type such as list or tuple. Support for non-sequence iterables such as generators is deprecated as of NumPy 1.16 and will raise an error in the future.\n",
      "  return np.hstack(map(np.ravel, w))\n",
      "C:\\Users\\LENOVO\\Notebook\\nn.py:113: FutureWarning: arrays to stack must be passed as a \"sequence\" type such as list or tuple. Support for non-sequence iterables such as generators is deprecated as of NumPy 1.16 and will raise an error in the future.\n",
      "  return np.hstack(map(np.ravel, w))\n",
      "C:\\Users\\LENOVO\\Notebook\\nn.py:113: FutureWarning: arrays to stack must be passed as a \"sequence\" type such as list or tuple. Support for non-sequence iterables such as generators is deprecated as of NumPy 1.16 and will raise an error in the future.\n",
      "  return np.hstack(map(np.ravel, w))\n"
     ]
    },
    {
     "name": "stdout",
     "output_type": "stream",
     "text": [
      "[[16, 3, 1], [16, 5, 1], [16, 7, 1], [16, 10, 1], [16, 12, 1]]\n",
      "[7.452212827229121, 7.565328295780967, 8.263401895822977, 7.756251183248353, 7.6569620122427935]\n",
      "7.452212827229121\n",
      "[16, 3, 1]\n",
      "K is :  4\n",
      "[16, 5, 1]\n"
     ]
    },
    {
     "name": "stderr",
     "output_type": "stream",
     "text": [
      "C:\\Users\\LENOVO\\Notebook\\nn.py:113: FutureWarning: arrays to stack must be passed as a \"sequence\" type such as list or tuple. Support for non-sequence iterables such as generators is deprecated as of NumPy 1.16 and will raise an error in the future.\n",
      "  return np.hstack(map(np.ravel, w))\n"
     ]
    }
   ],
   "source": [
    "models = [[16,3,1],[16,5,1],[16,7,1], [16,10,1], [16,12,1]]\n",
    "\n",
    "bestAccuracy,bestParam = cross_validate(np.array(rain_df_x), np.array(rain_df_target), models)"
   ]
  },
  {
   "cell_type": "code",
   "execution_count": 192,
   "metadata": {},
   "outputs": [
    {
     "name": "stdout",
     "output_type": "stream",
     "text": [
      "[13.664413536591184, 5.5100450561972645, 9.888385723815833, 7.591929121784903, 9.821986704128587] [[16, 3, 1], [16, 3, 1], [16, 5, 1], [16, 5, 1], [16, 5, 1]]\n"
     ]
    }
   ],
   "source": [
    "print(bestAccuracy,bestParam)"
   ]
  },
  {
   "cell_type": "code",
   "execution_count": 193,
   "metadata": {},
   "outputs": [],
   "source": [
    "X_train,X_test,y_train,y_test = model_selection.train_test_split(np.array(rain_df_x),np.array(rain_df_target),test_size=0.30,random_state=40)"
   ]
  },
  {
   "cell_type": "markdown",
   "metadata": {},
   "source": [
    "## III.B Summary of Nonlinear Regression\n",
    "A Neural Network has got non linear activation layers which is what gives the Neural Network a non linear element.\n",
    "\n",
    "In linear regression, we assume the first column of  𝐗1  is the bias column with 1's. Thus, the weight matrix  𝐖  is  (𝐷+1)×𝐾  with the bias row in the first row.\n",
    "\n",
    "From this model, we can convert the raw data  𝐗  to  𝚽 , which is a nonlinear mapping.\n",
    "\n",
    "The hidden layers in neural network acts as activation layers for the next layer. The objective is to make sum of squares as small as possible.\n",
    "\n",
    "We can rewrite the linear model with as follows:\n",
    "\n",
    "$$\n",
    "\\begin{align}\n",
    "E &= \\frac{1}{N} \\frac{1}{K} \\sum_{n=1}^{N} \\sum_{k=1}^{K} (t_{nk} - y_{nk})^2 \n",
    "\\\\\n",
    "Y &= \\Phi W \\\\ \n",
    "\\\\\n",
    "Y_{nk} &= \\Phi_n^\\top W_k \n",
    "\\end{align}\n",
    "$$\n",
    "\n",
    "Now, let $\\phi(xv) = h(xv)$ where $h$ is the *activation function*.  \n",
    "\n",
    "$$\n",
    "\\begin{align}\n",
    "Z &= h(Xl \\cdot V) \\\\\n",
    "\\\\\n",
    "Y & = Zl \\cdot W\n",
    "\\end{align}\n",
    "$$"
   ]
  },
  {
   "cell_type": "code",
   "execution_count": 194,
   "metadata": {},
   "outputs": [
    {
     "name": "stderr",
     "output_type": "stream",
     "text": [
      "C:\\Users\\LENOVO\\Notebook\\nn.py:113: FutureWarning: arrays to stack must be passed as a \"sequence\" type such as list or tuple. Support for non-sequence iterables such as generators is deprecated as of NumPy 1.16 and will raise an error in the future.\n",
      "  return np.hstack(map(np.ravel, w))\n"
     ]
    },
    {
     "data": {
      "text/plain": [
       "{'w': array([-2.86574197e+00, -1.95287899e+00,  1.03304292e+01,  4.15473844e-01,\n",
       "         1.69468286e-01, -4.08179108e-01, -4.08397157e-01, -3.98600617e-02,\n",
       "         1.66582166e+00, -1.90518689e-01,  1.34678284e-02, -2.10056285e-02,\n",
       "        -1.54133803e-01, -6.38483118e-02, -1.23048848e-01, -1.87339688e-01,\n",
       "        -2.02805245e-01,  1.00591066e+00, -2.76441460e-02,  1.63002346e-01,\n",
       "        -2.07401721e-01, -3.55877517e-03, -4.54724445e-02,  1.77990060e-01,\n",
       "         1.29531956e-01, -2.12523870e-02, -2.05326844e-01,  3.33014490e-01,\n",
       "         9.13832373e-02, -7.17545859e-01, -1.57449562e-02,  3.43142444e-01,\n",
       "        -1.21924870e+00,  1.31589423e+00,  7.31284249e-01, -2.11866281e+00,\n",
       "        -1.18427434e+00, -7.16563084e-01,  1.44789583e+00, -2.65357415e-02,\n",
       "        -2.52304694e-02, -2.36431845e-01,  1.05749844e-01,  1.27161209e-01,\n",
       "        -9.53488443e-01,  6.50925810e-01,  2.23900901e-01, -2.36507275e+00,\n",
       "        -3.60195673e-01, -6.54240657e-02, -2.26373266e-01,  9.91742543e+00,\n",
       "        -7.18659404e+00,  4.15426077e+00, -1.32196082e+01]),\n",
       " 'f': 0.30113741229845153,\n",
       " 'reason': 'reached limit of nIterations',\n",
       " 'wtrace': None,\n",
       " 'ftrace': None}"
      ]
     },
     "execution_count": 194,
     "metadata": {},
     "output_type": "execute_result"
    }
   ],
   "source": [
    "model=NeuralNet([16,3,1])  \n",
    "#choosing parameters which occured more number of times on the final parameter list\n",
    "#because those are the list with mininmum rmse\n",
    "model.train(X_train,y_train,niter=1000)"
   ]
  },
  {
   "cell_type": "markdown",
   "metadata": {},
   "source": [
    "## Explanation of code\n",
    "\n",
    "I have directly imported the given neural network class and trained the model on \"Rain dataset\". The above cross validation is used to get the best model which has less rmse error.<br>\n",
    "Since [16, 3, 1] is retuned twice with less rmse error, we passed the same configuration to trained the neural network model.\n",
    "The model trained above gives the accuracy of around 80%."
   ]
  },
  {
   "cell_type": "code",
   "execution_count": 195,
   "metadata": {},
   "outputs": [],
   "source": [
    "y_pred=model.use(X_test)"
   ]
  },
  {
   "cell_type": "code",
   "execution_count": 196,
   "metadata": {},
   "outputs": [
    {
     "name": "stdout",
     "output_type": "stream",
     "text": [
      "RMSE: 6.613553205902744\n",
      "R squared value: 0.2986941477744669\n"
     ]
    }
   ],
   "source": [
    "from sklearn.metrics import r2_score\n",
    "print('RMSE:', np.sqrt(mean_squared_error(y_test, y_pred)))\n",
    "print('R squared value:', r2_score(y_test, y_pred))"
   ]
  },
  {
   "cell_type": "markdown",
   "metadata": {},
   "source": [
    "## Description of graphs"
   ]
  },
  {
   "cell_type": "markdown",
   "metadata": {},
   "source": [
    "**This graph is the residual plot for the test data on X-axis and prdicted data on y-axis for the rain dataset.**"
   ]
  },
  {
   "cell_type": "code",
   "execution_count": 197,
   "metadata": {},
   "outputs": [
    {
     "data": {
      "text/plain": [
       "<matplotlib.axes._subplots.AxesSubplot at 0x1a69f901e80>"
      ]
     },
     "execution_count": 197,
     "metadata": {},
     "output_type": "execute_result"
    },
    {
     "data": {
      "image/png": "[encoded data removed]",
      "text/plain": [
       "<Figure size 432x288 with 1 Axes>"
      ]
     },
     "metadata": {
      "needs_background": "light"
     },
     "output_type": "display_data"
    }
   ],
   "source": [
    "sb.residplot(y_test, y_pred, label=\"Residual plot for Rain data in Australia\")"
   ]
  },
  {
   "cell_type": "markdown",
   "metadata": {},
   "source": [
    "**This graph visualizes the predicted and the actual values that are calculated by the model trained above. The graph of predicted and actual values matches pretty well and hence we can infer that the accuracy of model is good.**"
   ]
  },
  {
   "cell_type": "code",
   "execution_count": 198,
   "metadata": {},
   "outputs": [
    {
     "name": "stdout",
     "output_type": "stream",
     "text": [
      "Accuracy:  [80.00608399] %\n"
     ]
    },
    {
     "data": {
      "image/png": "[encoded data removed]",
      "text/plain": [
       "<Figure size 1440x288 with 1 Axes>"
      ]
     },
     "metadata": {
      "needs_background": "light"
     },
     "output_type": "display_data"
    }
   ],
   "source": [
    "plt.figure(figsize = (20,4))\n",
    "plt.plot(y_test[:500])\n",
    "plt.plot(y_pred[:500])\n",
    "print(\"Accuracy: \", 100 - np.abs(y_test - y_pred)[-1] * 100, \"%\")"
   ]
  },
  {
   "cell_type": "markdown",
   "metadata": {},
   "source": [
    "**All the predicted values by model**"
   ]
  },
  {
   "cell_type": "code",
   "execution_count": 248,
   "metadata": {},
   "outputs": [
    {
     "data": {
      "text/plain": [
       "Text(0.5, 1.0, 'Predicted values by model')"
      ]
     },
     "execution_count": 248,
     "metadata": {},
     "output_type": "execute_result"
    },
    {
     "data": {
      "image/png": "[encoded data removed]",
      "text/plain": [
       "<Figure size 432x288 with 1 Axes>"
      ]
     },
     "metadata": {
      "needs_background": "light"
     },
     "output_type": "display_data"
    }
   ],
   "source": [
    "plt.plot(y_pred)\n",
    "plt.title(\"Predicted values by model\")"
   ]
  },
  {
   "cell_type": "markdown",
   "metadata": {},
   "source": [
    "**The graph visualizes the predicted and actual values in scatter plot.**"
   ]
  },
  {
   "cell_type": "code",
   "execution_count": 200,
   "metadata": {},
   "outputs": [
    {
     "data": {
      "image/png": "[encoded data removed]",
      "text/plain": [
       "<Figure size 432x288 with 1 Axes>"
      ]
     },
     "metadata": {
      "needs_background": "light"
     },
     "output_type": "display_data"
    }
   ],
   "source": [
    "fig, ax = plt.subplots()\n",
    "ax.scatter(y_test, y_pred)\n",
    "ax.plot([y_test.min(), y_test.max()], [y_test.min(), y_test.max()],'r--', lw=3)\n",
    "ax.set_ylabel('Predicted')\n",
    "ax.set_xlabel('Actual')\n",
    "plt.show()"
   ]
  },
  {
   "cell_type": "markdown",
   "metadata": {},
   "source": [
    "## III. Summary of Nonlinear Logistic Regression"
   ]
  },
  {
   "cell_type": "markdown",
   "metadata": {},
   "source": [
    "The linear logistic regression that uses the softmax layer for classification along with a linear model. In nonlinear logistic regression extra layers are added called as hidden layers. With the inclusion of hidden layer the softmax function is used in the last layer. Till then the input layer passes its output to hidden layer, then the hidden layer to another hidden layer or softmax function and the softmax function then gives the output.\n",
    "\n",
    "$$\n",
    "V \\leftarrow V + \\alpha_h Xl^\\top \\Big( (T - g(X)) W^\\top \\odot (1 - Z^2) \\Big).\n",
    "$$\n",
    "\n",
    "<table>\n",
    "<tr>\n",
    "<th></th>\n",
    "<th width=45%> Regression </th>\n",
    "<th width=45%> Classification </th>\n",
    "</tr>\n",
    "<tr>\n",
    "<td>\n",
    "Forward Pass \n",
    "</td>\n",
    "<td>\n",
    "$$\n",
    "\\begin{align}\n",
    "Z &= h(Xl \\cdot V) \\\\\n",
    "\\\\\n",
    "Y & = Zl \\cdot W \n",
    "\\end{align}\n",
    "$$\n",
    "</td>\n",
    "<td>\n",
    "$$\n",
    "\\begin{align}\n",
    "Z &= h(Xl \\cdot V) \\\\\n",
    "\\\\\n",
    "Y & = Zl \\cdot W \\\\\n",
    "G & = softmax(Y)\n",
    "\\end{align}\n",
    "$$\n",
    "</td>\n",
    "</tr>\n",
    "<tr>\n",
    "<td>\n",
    " Backward Pass \n",
    "</td>\n",
    "<td>\n",
    "$$\n",
    "\\begin{align}\n",
    "V &\\leftarrow V + \\alpha_h \\frac{1}{N} \\frac{1}{K} Xl^\\top \\Big( (T - Y) W^\\top \\odot (1 - Z^2) \\Big) \\\\\n",
    "W &\\leftarrow W + \\alpha_o \\frac{1}{N} \\frac{1}{K} Zl^\\top \\Big( T - Y \\Big) \n",
    "\\end{align}\n",
    "$$\n",
    "</td>\n",
    "<td>\n",
    "$$\n",
    "\\begin{align}\n",
    "V &\\leftarrow V + \\alpha_h Xl^\\top \\Big( (T - G) W^\\top \\odot (1 - m^2) \\Big)\\\\\n",
    "W &\\leftarrow W + \\alpha_o Zl^\\top \\Big(  T - G\\Big) \n",
    "\\end{align}\n",
    "$$\n",
    "</td>\n",
    "</tr>\n",
    "<tr>\n",
    "<td></td>\n",
    "<td></td>\n",
    "<td>\n",
    "Note: Here $T$ is a matrix with indicator variable outputs, <br/>\n",
    "and $G$ is the output matrix after the softmax layer.</td>\n",
    "</tr>\n",
    "</table> "
   ]
  },
  {
   "cell_type": "markdown",
   "metadata": {},
   "source": [
    "# Data\n",
    "\n",
    "The data used here is same as the above data, except that the last column \"RainTomorrow\" is used for classification."
   ]
  },
  {
   "cell_type": "code",
   "execution_count": 201,
   "metadata": {},
   "outputs": [],
   "source": [
    "rwd2 = ReadWeatherData()\n",
    "nlg_rain_df = rwd2.weatherData(\"weatherAUS_class.csv\")"
   ]
  },
  {
   "cell_type": "code",
   "execution_count": 202,
   "metadata": {},
   "outputs": [
    {
     "data": {
      "text/plain": [
       "(56420, 24)"
      ]
     },
     "execution_count": 202,
     "metadata": {},
     "output_type": "execute_result"
    }
   ],
   "source": [
    "nlg_rain_df.shape"
   ]
  },
  {
   "cell_type": "code",
   "execution_count": 203,
   "metadata": {},
   "outputs": [],
   "source": [
    "rain_df_temp = nlg_rain_df.dropna()\n",
    "df1_temp = rain_df_temp.iloc[:,2:7]\n",
    "df2_temp = rain_df_temp.iloc[:,8]\n",
    "df3_temp = rain_df_temp.iloc[:,11:21]\n",
    "df1_temp = df1_temp.join(df2_temp)\n",
    "df1_temp = df1_temp.join(df3_temp)\n",
    "nlg_rain_df_x = df1_temp\n",
    "nlg_rain_df_target = rain_df_temp.iloc[:,23:24]"
   ]
  },
  {
   "cell_type": "code",
   "execution_count": 204,
   "metadata": {},
   "outputs": [
    {
     "name": "stdout",
     "output_type": "stream",
     "text": [
      "(56420, 16) (56420, 1)\n"
     ]
    }
   ],
   "source": [
    "print(nlg_rain_df_x.shape, nlg_rain_df_target.shape)"
   ]
  },
  {
   "cell_type": "code",
   "execution_count": 205,
   "metadata": {},
   "outputs": [],
   "source": [
    "nlg_rain_df_target.loc[nlg_rain_df_target['RainTomorrow'] == 'No', 'RainTomorrow'] = 0\n",
    "nlg_rain_df_target.loc[nlg_rain_df_target['RainTomorrow'] == 'Yes', 'RainTomorrow'] = 1"
   ]
  },
  {
   "cell_type": "code",
   "execution_count": 206,
   "metadata": {},
   "outputs": [],
   "source": [
    "\n",
    "\n",
    "class NeuralNetLogReg(NeuralNet):\n",
    "    \"\"\" Nonlinear Logistic Regression\n",
    "    \"\"\"\n",
    "\n",
    "    # if you think, you need additional items to initialize here,\n",
    "    # add your code for it here\n",
    "    def __init__(self, nunits):\n",
    "        NeuralNet.__init__(self, nunits)\n",
    "\n",
    "    def softmax(self, z):\n",
    "        if not isinstance(z, np.ndarray):\n",
    "            z = np.asarray(z)\n",
    "        expz = np.exp(z) \n",
    "        return expz / (np.sum(expz, axis=1, keepdims=True) if len(z.shape) == 2 else np.sum(expz))\n",
    "\n",
    "    \n",
    "    def forward(self, X):\n",
    "        t = X \n",
    "        Z = []\n",
    "\n",
    "        for i in range(self._nLayers):\n",
    "            Z.append(t) \n",
    "            if i == self._nLayers - 1:\n",
    "                t = np.dot(self.add_ones(t), self._W[i])\n",
    "                t=self.softmax(t)\n",
    "            else:\n",
    "                t = np.tanh(np.dot(self.add_ones(t), self._W[i]))\n",
    "        return (t, Z)\n",
    "                \n",
    "\n",
    "    # This is the error function that we want to minimize\n",
    "    # what was it? take a look at the lecture note to fill in\n",
    "    def _objectf(self, T, Y, wpenalty):\n",
    "        return -(np.sum(T*(np.log(Y)))+wpenalty)\n",
    "\n",
    "    # you must reuse the NeuralNet train since you already modified\n",
    "    # the objective or error function (maybe both), \n",
    "    # you do not have many to change here.\n",
    "    # MAKE SURE convert a vector label T to indicator matrix and \n",
    "    # feed that for training\n",
    "    def train(self, X, T, **params):\n",
    "        verbose = params.pop('verbose', False)\n",
    "        # training parameters\n",
    "        _lambda = params.pop('Lambda', 0.)\n",
    "\n",
    "        #parameters for scg\n",
    "        niter = params.pop('niter', 1000)\n",
    "        wprecision = params.pop('wprecision', 1e-10)\n",
    "        fprecision = params.pop('fprecision', 1e-10)\n",
    "        wtracep = params.pop('wtracep', False)\n",
    "        ftracep = params.pop('ftracep', False)\n",
    "\n",
    "        # optimization\n",
    "        optim = params.pop('optim', 'scg')\n",
    "        \n",
    "        if self.stdX == None:\n",
    "            explore = params.pop('explore', False)\n",
    "            self.stdX = Standardizer(X, explore)\n",
    "        Xs = self.stdX.standardize(X)\n",
    "        if self.stdT == None and self.stdTarget:\n",
    "            self.stdT = Standardizer(T)\n",
    "            T = self.stdT.standardize(T)\n",
    "            \n",
    "        def gradientf(weights):\n",
    "            self.unpack(weights)\n",
    "            Y,Z = self.forward(Xs)\n",
    "            error = self._errorf(T, Y)\n",
    "            return self.backward(error, Z, T, _lambda)\n",
    "            \n",
    "        def optimtargetf(weights):\n",
    "            \"\"\" optimization target function : MSE \n",
    "            \"\"\"\n",
    "            self.unpack(weights)\n",
    "            #self._weights[:] = weights[:]  # unpack\n",
    "            Y,_ = self.forward(Xs)\n",
    "            Wnb=np.array([])\n",
    "            for i in range(self._nLayers):\n",
    "                if len(Wnb)==0: Wnb=self._W[i][1:,].reshape(self._W[i].size-self._W[i][0,].size,1)\n",
    "                else: Wnb = np.vstack((Wnb,self._W[i][1:,].reshape(self._W[i].size-self._W[i][0,].size,1)))\n",
    "            wpenalty = _lambda * np.dot(Wnb.flat ,Wnb.flat)\n",
    "            return self._objectf(T, Y, wpenalty)\n",
    "            \n",
    "        if optim == 'scg':\n",
    "            result = scg(self.cp_weight(), gradientf, optimtargetf,\n",
    "                                        wPrecision=wprecision, fPrecision=fprecision, \n",
    "                                        nIterations=niter,\n",
    "                                        wtracep=wtracep, ftracep=ftracep,\n",
    "                                        verbose=False)\n",
    "            self.unpack(result['w'][:])\n",
    "            self.f = result['f']\n",
    "        elif optim == 'steepest':\n",
    "            result = steepest(self.cp_weight(), gradientf, optimtargetf,\n",
    "                                nIterations=niter,\n",
    "                                xPrecision=wprecision, fPrecision=fprecision,\n",
    "                                xtracep=wtracep, ftracep=ftracep )\n",
    "            self.unpack(result['w'][:])\n",
    "        if ftracep:\n",
    "            self.ftrace = result['ftrace']\n",
    "        if 'reason' in result.keys() and verbose:\n",
    "            print(result['reason'])\n",
    "\n",
    "    # going through forward pass, you will have the probabilities for each label\n",
    "    # now, you can use argmax to find class labels\n",
    "    # return both label and probabilities        \n",
    "    def use(self, X):\n",
    "        Y, Z = self.forward(X)\n",
    "        l=np.argmax(Y,1)\n",
    "        return Y,l"
   ]
  },
  {
   "cell_type": "markdown",
   "metadata": {},
   "source": [
    "## Training the Non-linear Logistic Regression on toy data"
   ]
  },
  {
   "cell_type": "code",
   "execution_count": 207,
   "metadata": {},
   "outputs": [
    {
     "data": {
      "text/plain": [
       "Text(0.5, 1.0, 'test data set')"
      ]
     },
     "execution_count": 207,
     "metadata": {},
     "output_type": "execute_result"
    },
    {
     "data": {
      "image/png": "[encoded data removed]",
      "text/plain": [
       "<Figure size 432x288 with 1 Axes>"
      ]
     },
     "metadata": {
      "needs_background": "light"
     },
     "output_type": "display_data"
    },
    {
     "data": {
      "image/png": "[encoded data removed]",
      "text/plain": [
       "<Figure size 432x288 with 1 Axes>"
      ]
     },
     "metadata": {
      "needs_background": "light"
     },
     "output_type": "display_data"
    }
   ],
   "source": [
    "# Data for testing\n",
    "N1 = 50\n",
    "N2 = 50\n",
    "N = N1 + N2\n",
    "D = 2\n",
    "K = 2\n",
    "\n",
    "mu1 = [-1, -1]\n",
    "cov1 = np.eye(2)\n",
    "\n",
    "mu2 = [2,3]\n",
    "cov2 = np.eye(2) * 3\n",
    "\n",
    "#\n",
    "#  Train Data\n",
    "#\n",
    "C1 = np.random.multivariate_normal(mu1, cov1, N1)\n",
    "C2 = np.random.multivariate_normal(mu2, cov2, N2)\n",
    "\n",
    "plt.plot(C1[:, 0], C1[:, 1], 'or')\n",
    "plt.plot(C2[:, 0], C2[:, 1], 'xb')\n",
    "\n",
    "plt.xlim([-3, 6])\n",
    "plt.ylim([-3, 7])\n",
    "plt.title(\"training data set\")\n",
    "\n",
    "Xtrain = np.vstack((C1, C2))\n",
    "Ttrain = np.zeros((N, 1))\n",
    "Ttrain[50:, :] = 1  # labels are zero or one\n",
    "\n",
    "means, stds = np.mean(Xtrain, 0), np.std(Xtrain, 0)\n",
    "# normalize inputs\n",
    "Xtrains = (Xtrain - means) / stds\n",
    "\n",
    "#\n",
    "#  Test Data\n",
    "#\n",
    "Ct1 = np.random.multivariate_normal(mu1, cov1, 20)\n",
    "Ct2 = np.random.multivariate_normal(mu2, cov2, 20)\n",
    "\n",
    "Xtest = np.vstack((Ct1, Ct2))\n",
    "Ttest = np.zeros((40, 1))\n",
    "Ttest[20:, :] = 1\n",
    "\n",
    "# normalize inputs\n",
    "Xtests = (Xtrain - means) / stds\n",
    "\n",
    "\n",
    "plt.figure()\n",
    "plt.plot(Ct1[:, 0], Ct1[:, 1], 'or')\n",
    "plt.plot(Ct2[:, 0], Ct2[:, 1], 'xb')\n",
    "\n",
    "plt.xlim([-3, 6])\n",
    "plt.ylim([-3, 7])\n",
    "plt.title(\"test data set\")\n"
   ]
  },
  {
   "cell_type": "code",
   "execution_count": 238,
   "metadata": {},
   "outputs": [
    {
     "name": "stderr",
     "output_type": "stream",
     "text": [
      "C:\\Users\\LENOVO\\Anaconda3\\lib\\site-packages\\ipykernel_launcher.py:14: RuntimeWarning: invalid value encountered in true_divide\n",
      "  \n"
     ]
    }
   ],
   "source": [
    "clsf = NeuralNetLogReg([2, 4, 2])\n",
    "clsf.train(Xtrain, Ttrain)\n",
    "classes, Y = clsf.use(Xtest)"
   ]
  },
  {
   "cell_type": "code",
   "execution_count": 239,
   "metadata": {},
   "outputs": [
    {
     "data": {
      "text/plain": [
       "array([[0.08961329, 0.91038671],\n",
       "       [0.09098182, 0.90901818],\n",
       "       [0.08952648, 0.91047352],\n",
       "       [0.08993174, 0.91006826],\n",
       "       [0.08914438, 0.91085562],\n",
       "       [0.0896148 , 0.9103852 ],\n",
       "       [0.08961223, 0.91038777],\n",
       "       [0.08961535, 0.91038465],\n",
       "       [0.08961071, 0.91038929],\n",
       "       [0.08975623, 0.91024377],\n",
       "       [0.08961556, 0.91038444],\n",
       "       [0.08961715, 0.91038285],\n",
       "       [0.08944466, 0.91055534],\n",
       "       [0.0896104 , 0.9103896 ],\n",
       "       [0.08961167, 0.91038833],\n",
       "       [0.0895825 , 0.9104175 ],\n",
       "       [0.08952078, 0.91047922],\n",
       "       [0.08961138, 0.91038862],\n",
       "       [0.08961076, 0.91038924],\n",
       "       [0.08961405, 0.91038595],\n",
       "       [0.12885943, 0.87114057],\n",
       "       [0.12885941, 0.87114059],\n",
       "       [0.12885936, 0.87114064],\n",
       "       [0.12531459, 0.87468541],\n",
       "       [0.12885461, 0.87114539],\n",
       "       [0.12885943, 0.87114057],\n",
       "       [0.12881304, 0.87118696],\n",
       "       [0.12807411, 0.87192589],\n",
       "       [0.12790674, 0.87209326],\n",
       "       [0.12884143, 0.87115857],\n",
       "       [0.12885876, 0.87114124],\n",
       "       [0.12880498, 0.87119502],\n",
       "       [0.1288172 , 0.8711828 ],\n",
       "       [0.12884832, 0.87115168],\n",
       "       [0.12200033, 0.87799967],\n",
       "       [0.12885943, 0.87114057],\n",
       "       [0.12885889, 0.87114111],\n",
       "       [0.12885416, 0.87114584],\n",
       "       [0.12885893, 0.87114107],\n",
       "       [0.12885761, 0.87114239]])"
      ]
     },
     "execution_count": 239,
     "metadata": {},
     "output_type": "execute_result"
    }
   ],
   "source": [
    "classes"
   ]
  },
  {
   "cell_type": "code",
   "execution_count": 240,
   "metadata": {},
   "outputs": [
    {
     "data": {
      "text/plain": [
       "array([1, 1, 1, 1, 1, 1, 1, 1, 1, 1, 1, 1, 1, 1, 1, 1, 1, 1, 1, 1, 1, 1,\n",
       "       1, 1, 1, 1, 1, 1, 1, 1, 1, 1, 1, 1, 1, 1, 1, 1, 1, 1], dtype=int64)"
      ]
     },
     "execution_count": 240,
     "metadata": {},
     "output_type": "execute_result"
    }
   ],
   "source": [
    "Y"
   ]
  },
  {
   "cell_type": "markdown",
   "metadata": {},
   "source": [
    "## Examination of correct implementation (NonlinearLogReg) with toy data\n",
    "\n",
    "I have sucessfully trained the toy data with non-linear logistic regression. I have used softmax as an activation function to train the neural network.<br>\n",
    "\n",
    "The toy data is trained with 4 hidden layers. It achieves the accuracy of 50%. The accuracy is low because this generated dataset has less examples."
   ]
  },
  {
   "cell_type": "markdown",
   "metadata": {},
   "source": [
    "## Explanation of graphs\n",
    "The above two graphs describes the two classes of data and their distribution. The given toy data is plotted along the X and Y Axis. <br>\n",
    "The below graph shows the actual values with the predicted values. The accuracy of the model with toy data is 50%. "
   ]
  },
  {
   "cell_type": "code",
   "execution_count": 241,
   "metadata": {},
   "outputs": [
    {
     "name": "stdout",
     "output_type": "stream",
     "text": [
      "Accuracy:  50.0 %\n"
     ]
    },
    {
     "data": {
      "image/png": "[encoded data removed]",
      "text/plain": [
       "<Figure size 432x288 with 1 Axes>"
      ]
     },
     "metadata": {
      "needs_background": "light"
     },
     "output_type": "display_data"
    }
   ],
   "source": [
    "plt.plot(Ttest)\n",
    "plt.plot(Y)\n",
    "\n",
    "print(\"Accuracy: \", 100 - np.mean(np.abs(Ttest - Y)) * 100, \"%\")"
   ]
  },
  {
   "cell_type": "markdown",
   "metadata": {},
   "source": [
    "## Training  on rain data - Non-linear Logistic Regression "
   ]
  },
  {
   "cell_type": "code",
   "execution_count": 213,
   "metadata": {},
   "outputs": [],
   "source": [
    "XTrain, XTest, YTrain, YTest = model_selection.train_test_split(np.array(nlg_rain_df_x), np.array(nlg_rain_df_target),test_size=0.20,random_state=42)\n"
   ]
  },
  {
   "cell_type": "code",
   "execution_count": 214,
   "metadata": {},
   "outputs": [
    {
     "name": "stdout",
     "output_type": "stream",
     "text": [
      "(45136, 16) (45136, 1)\n"
     ]
    }
   ],
   "source": [
    "print(XTrain.shape, YTrain.shape)"
   ]
  },
  {
   "cell_type": "code",
   "execution_count": 215,
   "metadata": {},
   "outputs": [],
   "source": [
    "from sklearn.preprocessing import StandardScaler\n",
    "from sklearn.metrics import precision_score, recall_score, confusion_matrix, classification_report, accuracy_score, f1_score\n",
    "from sklearn.metrics import roc_curve, auc\n",
    "sc=StandardScaler()"
   ]
  },
  {
   "cell_type": "code",
   "execution_count": 243,
   "metadata": {},
   "outputs": [
    {
     "name": "stderr",
     "output_type": "stream",
     "text": [
      "C:\\Users\\LENOVO\\Anaconda3\\lib\\site-packages\\ipykernel_launcher.py:14: RuntimeWarning: invalid value encountered in true_divide\n",
      "  \n"
     ]
    }
   ],
   "source": [
    "nn = NeuralNetLogReg([16,4,2])\n",
    "nn.train(XTrain, YTrain, niter=1000) \n",
    "p,target = nn.use(XTest)"
   ]
  },
  {
   "cell_type": "markdown",
   "metadata": {},
   "source": [
    "## Explanation of code\n",
    "\n",
    "The non-linear logistic regression is used to trian the model with **Softmax** function as an activation function. The softmax function ranges from 0 to 1 and hence classifies the data. We can use the different activation functions like sigmoid or tanh to train the neural network.\n",
    "\n",
    "We use the **SCG** optimizer, which is imported from grad.py file given in class.\n",
    "\n",
    "The train function takes the feautures and the target as the input. The gradientf unpacks the weights,proceeds with the forward pass by calling forward function. Now error is calculated using results of forward pass. Now back propagation is proceeded by calling backward function with parameters as error, Z, T(Target), _lambda.<br>\n",
    "\n",
    "Forward pass in neural network propagates same as in the class discussed above the only difference is that and an additional t=self.softmax(t) is added to the last layer. The last layer will be the softmax function which then gives output to the output layer.<br>"
   ]
  },
  {
   "cell_type": "code",
   "execution_count": 244,
   "metadata": {
    "scrolled": true
   },
   "outputs": [
    {
     "name": "stdout",
     "output_type": "stream",
     "text": [
      "Confusion Matrix: \n",
      " [[   0 8799]\n",
      " [   0 2485]]\n",
      "\n",
      "Classification Report: \n",
      "               precision    recall  f1-score   support\n",
      "\n",
      "           0       0.00      0.00      0.00      8799\n",
      "           1       0.22      1.00      0.36      2485\n",
      "\n",
      "    accuracy                           0.22     11284\n",
      "   macro avg       0.11      0.50      0.18     11284\n",
      "weighted avg       0.05      0.22      0.08     11284\n",
      "\n"
     ]
    }
   ],
   "source": [
    "cm = confusion_matrix(YTest,target)\n",
    "print(\"Confusion Matrix: \\n\", cm)\n",
    "\n",
    "cr = classification_report(YTest,target)\n",
    "print(\"\\nClassification Report: \\n\", cr)"
   ]
  },
  {
   "cell_type": "code",
   "execution_count": 245,
   "metadata": {},
   "outputs": [
    {
     "data": {
      "image/png": "[encoded data removed]",
      "text/plain": [
       "<Figure size 720x360 with 1 Axes>"
      ]
     },
     "metadata": {
      "needs_background": "light"
     },
     "output_type": "display_data"
    }
   ],
   "source": [
    "false_positive, true_positive, thresholds = roc_curve(YTest, target)\n",
    "roc_auc = auc(false_positive, true_positive)\n",
    "plt.figure(figsize = (10,5))\n",
    "plt.plot(false_positive, true_positive, 'b',\n",
    "label='AUC = %0.4f'% roc_auc)\n",
    "plt.legend(loc='upper left')\n",
    "plt.plot([0,1],[0,1],'r--')\n",
    "plt.xlim([-0.1,1.2])\n",
    "plt.ylim([-0.1,1.2])\n",
    "plt.ylabel('true_positive')\n",
    "plt.xlabel('false_positive')\n",
    "plt.show()"
   ]
  },
  {
   "cell_type": "code",
   "execution_count": 247,
   "metadata": {},
   "outputs": [
    {
     "name": "stdout",
     "output_type": "stream",
     "text": [
      "\n",
      " Confusion Matrix: \n",
      " [[   0 8799]\n",
      " [   0 2485]]\n",
      "\n",
      " Classification Report: \n",
      "               precision    recall  f1-score   support\n",
      "\n",
      "           0       0.00      0.00      0.00      8799\n",
      "           1       0.22      1.00      0.36      2485\n",
      "\n",
      "    accuracy                           0.22     11284\n",
      "   macro avg       0.11      0.50      0.18     11284\n",
      "weighted avg       0.05      0.22      0.08     11284\n",
      "\n"
     ]
    },
    {
     "data": {
      "image/png": "[encoded data removed]",
      "text/plain": [
       "<Figure size 1440x288 with 1 Axes>"
      ]
     },
     "metadata": {
      "needs_background": "light"
     },
     "output_type": "display_data"
    }
   ],
   "source": [
    "plt.figure(figsize = (20,4))\n",
    "plt.plot(YTest[:200])\n",
    "plt.plot(target[:200])\n",
    "cm = confusion_matrix(YTest, target)\n",
    "print(\"\\n Confusion Matrix: \\n\", cm)\n",
    "cr = classification_report(YTest, target)\n",
    "print(\"\\n Classification Report: \\n\", cr)"
   ]
  },
  {
   "cell_type": "markdown",
   "metadata": {},
   "source": [
    "## Cross validation for nonlinear logistic regression"
   ]
  },
  {
   "cell_type": "code",
   "execution_count": 220,
   "metadata": {},
   "outputs": [],
   "source": [
    "def split_rain_df(s):\n",
    "    avg = len(s) / 5.0\n",
    "    out = []\n",
    "    last = 0.0\n",
    "    while last < len(s):\n",
    "        out.append(s[int(last):int(last + avg)])\n",
    "        last += avg\n",
    "    return out\n",
    "\n",
    "final_list=[]\n",
    "best_paramlist=[]\n",
    "def cross_validate(X, T, parameters):\n",
    "    partitionedX = split_rain_df(X)\n",
    "    partitionedT = split_rain_df(T)\n",
    "    for test in range(5): \n",
    "        print(\"test\",test)\n",
    "        Xtest = partitionedX[test]\n",
    "        Ttest = partitionedT[test]\n",
    "        j = 0\n",
    "        \n",
    "        history_rmse=[]\n",
    "        params=[]\n",
    "        for val in range(5): \n",
    "            print(\"val\",val)\n",
    "            if test == val: continue\n",
    "            \n",
    "            Xval = partitionedX[val]\n",
    "            Tval = partitionedT[val]\n",
    "            \n",
    "            Xtrain = partitionedX[not test and not val]\n",
    "            Ttrain = partitionedT[not test and not val]\n",
    "            \n",
    "            i = 0\n",
    "            flist=[]\n",
    "            paramlist=[]\n",
    "            for param in parameters:\n",
    "                \n",
    "                model = NeuralNetLogReg(param)\n",
    "                model.train(Xtrain, Ttrain)\n",
    "                prob,pred = model.use(Xval)\n",
    "                Tval1=Tval[:,0]\n",
    "                Tval1=np.where(Tval1==0,1,0)\n",
    "                valAcc = f1_score(Tval1, pred)\n",
    "                flist.append(valAcc)\n",
    "                paramlist.append(param)\n",
    "            print(flist)\n",
    "            print(paramlist)\n",
    "            #avg=sum(rmselist)/len(rmselist)\n",
    "            #history_rmse.append(avg)\n",
    "            print(max(flist))\n",
    "            print(paramlist[np.argmax(flist)])\n",
    "            history_rmse.append(max(flist))\n",
    "            params.append(paramlist[np.argmax(flist)])\n",
    "        print(\"history_rmse\",history_rmse)\n",
    "        print(\"params\",params)\n",
    "        #print(rmselist)\n",
    "        print(history_rmse)\n",
    "        print(params)\n",
    "        bestParam = params[np.argmax(history_rmse)]\n",
    "        print(bestParam)\n",
    "        bestModel = NeuralNetLogReg(bestParam)\n",
    "        \n",
    "        Xtrain = partitionedX[not test]\n",
    "        Ttrain = partitionedT[not test]\n",
    "        bestModel.train(Xtrain, Ttrain)\n",
    "\n",
    "        prob1,finalPred = bestModel.use(Xtest)\n",
    "        Ttest1=Ttest[:,0]\n",
    "        Ttest1=np.where(Ttest1==0,1,0)\n",
    "        myf1 = f1_score(Ttest1, finalPred)\n",
    "        final_list.append(myf1)\n",
    "        best_paramlist.append(bestParam)\n",
    "\n",
    "    return final_list,best_paramlist"
   ]
  },
  {
   "cell_type": "markdown",
   "metadata": {},
   "source": [
    "## Presentation of Cross Validation result - Non-linear logistic regression"
   ]
  },
  {
   "cell_type": "code",
   "execution_count": 221,
   "metadata": {},
   "outputs": [
    {
     "name": "stdout",
     "output_type": "stream",
     "text": [
      "test 0\n",
      "val 0\n",
      "val 1\n"
     ]
    },
    {
     "name": "stderr",
     "output_type": "stream",
     "text": [
      "C:\\Users\\LENOVO\\Anaconda3\\lib\\site-packages\\ipykernel_launcher.py:14: RuntimeWarning: invalid value encountered in true_divide\n",
      "  \n",
      "C:\\Users\\LENOVO\\Anaconda3\\lib\\site-packages\\sklearn\\metrics\\classification.py:1437: UndefinedMetricWarning: F-score is ill-defined and being set to 0.0 due to no predicted samples.\n",
      "  'precision', 'predicted', average, warn_for)\n"
     ]
    },
    {
     "name": "stdout",
     "output_type": "stream",
     "text": [
      "[0.8801111552203255, 0.0, 0.8801111552203255, 0.8801111552203255]\n",
      "[[16, 5, 2], [16, 7, 2], [16, 9, 2], [16, 12, 2]]\n",
      "0.8801111552203255\n",
      "[16, 5, 2]\n",
      "val 2\n",
      "[0.0, 0.0, 0.8582414246686229, 0.0]\n",
      "[[16, 5, 2], [16, 7, 2], [16, 9, 2], [16, 12, 2]]\n",
      "0.8582414246686229\n",
      "[16, 9, 2]\n",
      "val 3\n",
      "[0.8888779479099995, 0.0, 0.8888779479099995, 0.0]\n",
      "[[16, 5, 2], [16, 7, 2], [16, 9, 2], [16, 12, 2]]\n",
      "0.8888779479099995\n",
      "[16, 5, 2]\n",
      "val 4\n"
     ]
    },
    {
     "name": "stderr",
     "output_type": "stream",
     "text": [
      "C:\\Users\\LENOVO\\Anaconda3\\lib\\site-packages\\ipykernel_launcher.py:34: RuntimeWarning: divide by zero encountered in log\n"
     ]
    },
    {
     "name": "stdout",
     "output_type": "stream",
     "text": [
      "[0.8892060835753309, 0.0, 0.0, 0.0]\n",
      "[[16, 5, 2], [16, 7, 2], [16, 9, 2], [16, 12, 2]]\n",
      "0.8892060835753309\n",
      "[16, 5, 2]\n",
      "history_rmse [0.8801111552203255, 0.8582414246686229, 0.8888779479099995, 0.8892060835753309]\n",
      "params [[16, 5, 2], [16, 9, 2], [16, 5, 2], [16, 5, 2]]\n",
      "[0.8801111552203255, 0.8582414246686229, 0.8888779479099995, 0.8892060835753309]\n",
      "[[16, 5, 2], [16, 9, 2], [16, 5, 2], [16, 5, 2]]\n",
      "[16, 5, 2]\n",
      "test 1\n",
      "val 0\n",
      "[0.8640459052700458, 0.8640459052700458, 0.28295691970948167, 0.0009194345477531317]\n",
      "[[16, 5, 2], [16, 7, 2], [16, 9, 2], [16, 12, 2]]\n",
      "0.8640459052700458\n",
      "[16, 5, 2]\n",
      "val 1\n",
      "val 2\n",
      "[0.8582414246686229, 0.8582414246686229, 0.0, 0.8582414246686229]\n",
      "[[16, 5, 2], [16, 7, 2], [16, 9, 2], [16, 12, 2]]\n",
      "0.8582414246686229\n",
      "[16, 5, 2]\n",
      "val 3\n",
      "[0.0, 0.0, 0.0, 0.0]\n",
      "[[16, 5, 2], [16, 7, 2], [16, 9, 2], [16, 12, 2]]\n",
      "0.0\n",
      "[16, 5, 2]\n",
      "val 4\n",
      "[0.0, 0.8892060835753309, 0.0, 0.0]\n",
      "[[16, 5, 2], [16, 7, 2], [16, 9, 2], [16, 12, 2]]\n",
      "0.8892060835753309\n",
      "[16, 7, 2]\n",
      "history_rmse [0.8640459052700458, 0.8582414246686229, 0.0, 0.8892060835753309]\n",
      "params [[16, 5, 2], [16, 5, 2], [16, 5, 2], [16, 7, 2]]\n",
      "[0.8640459052700458, 0.8582414246686229, 0.0, 0.8892060835753309]\n",
      "[[16, 5, 2], [16, 5, 2], [16, 5, 2], [16, 7, 2]]\n",
      "[16, 7, 2]\n",
      "test 2\n",
      "val 0\n",
      "[0.0, 0.864206233321585, 0.0, 0.8635882974973563]\n",
      "[[16, 5, 2], [16, 7, 2], [16, 9, 2], [16, 12, 2]]\n",
      "0.864206233321585\n",
      "[16, 7, 2]\n",
      "val 1\n",
      "[0.0, 0.0, 0.0, 0.8801111552203255]\n",
      "[[16, 5, 2], [16, 7, 2], [16, 9, 2], [16, 12, 2]]\n",
      "0.8801111552203255\n",
      "[16, 12, 2]\n",
      "val 2\n",
      "val 3\n",
      "[0.0, 0.0, 0.8888779479099995, 0.8888779479099995]\n",
      "[[16, 5, 2], [16, 7, 2], [16, 9, 2], [16, 12, 2]]\n",
      "0.8888779479099995\n",
      "[16, 9, 2]\n",
      "val 4\n"
     ]
    },
    {
     "name": "stderr",
     "output_type": "stream",
     "text": [
      "C:\\Users\\LENOVO\\Anaconda3\\lib\\site-packages\\numpy\\core\\fromnumeric.py:86: RuntimeWarning: invalid value encountered in reduce\n",
      "  return ufunc.reduce(obj, axis, dtype, out, **passkwargs)\n"
     ]
    },
    {
     "name": "stdout",
     "output_type": "stream",
     "text": [
      "[0.0, 0.0, 0.0, 0.8892060835753309]\n",
      "[[16, 5, 2], [16, 7, 2], [16, 9, 2], [16, 12, 2]]\n",
      "0.8892060835753309\n",
      "[16, 12, 2]\n",
      "history_rmse [0.864206233321585, 0.8801111552203255, 0.8888779479099995, 0.8892060835753309]\n",
      "params [[16, 7, 2], [16, 12, 2], [16, 9, 2], [16, 12, 2]]\n",
      "[0.864206233321585, 0.8801111552203255, 0.8888779479099995, 0.8892060835753309]\n",
      "[[16, 7, 2], [16, 12, 2], [16, 9, 2], [16, 12, 2]]\n",
      "[16, 12, 2]\n",
      "test 3\n",
      "val 0\n",
      "[0.8640459052700458, 0.5524684910521551, 0.8640459052700458, 0.8640459052700458]\n",
      "[[16, 5, 2], [16, 7, 2], [16, 9, 2], [16, 12, 2]]\n",
      "0.8640459052700458\n",
      "[16, 5, 2]\n",
      "val 1\n",
      "[0.0, 0.8801111552203255, 0.0, 0.8801111552203255]\n",
      "[[16, 5, 2], [16, 7, 2], [16, 9, 2], [16, 12, 2]]\n",
      "0.8801111552203255\n",
      "[16, 7, 2]\n",
      "val 2\n",
      "[0.8582414246686229, 0.8582414246686229, 0.0, 0.0]\n",
      "[[16, 5, 2], [16, 7, 2], [16, 9, 2], [16, 12, 2]]\n",
      "0.8582414246686229\n",
      "[16, 5, 2]\n",
      "val 3\n",
      "val 4\n",
      "[0.0, 0.0, 0.8892060835753309, 0.9022188217291508]\n",
      "[[16, 5, 2], [16, 7, 2], [16, 9, 2], [16, 12, 2]]\n",
      "0.9022188217291508\n",
      "[16, 12, 2]\n",
      "history_rmse [0.8640459052700458, 0.8801111552203255, 0.8582414246686229, 0.9022188217291508]\n",
      "params [[16, 5, 2], [16, 7, 2], [16, 5, 2], [16, 12, 2]]\n",
      "[0.8640459052700458, 0.8801111552203255, 0.8582414246686229, 0.9022188217291508]\n",
      "[[16, 5, 2], [16, 7, 2], [16, 5, 2], [16, 12, 2]]\n",
      "[16, 12, 2]\n",
      "test 4\n",
      "val 0\n",
      "[0.8640459052700458, 0.20967069612338474, 0.0, 0.23206133172538543]\n",
      "[[16, 5, 2], [16, 7, 2], [16, 9, 2], [16, 12, 2]]\n",
      "0.8640459052700458\n",
      "[16, 5, 2]\n",
      "val 1\n",
      "[0.8801111552203255, 0.0, 0.0, 0.8801111552203255]\n",
      "[[16, 5, 2], [16, 7, 2], [16, 9, 2], [16, 12, 2]]\n",
      "0.8801111552203255\n",
      "[16, 5, 2]\n",
      "val 2\n",
      "[0.0, 0.0, 0.8582414246686229, 0.0020915640250987683]\n",
      "[[16, 5, 2], [16, 7, 2], [16, 9, 2], [16, 12, 2]]\n",
      "0.8582414246686229\n",
      "[16, 9, 2]\n",
      "val 3\n",
      "[0.8888779479099995, 0.0, 0.0, 0.8930020785905177]\n",
      "[[16, 5, 2], [16, 7, 2], [16, 9, 2], [16, 12, 2]]\n",
      "0.8930020785905177\n",
      "[16, 12, 2]\n",
      "val 4\n",
      "history_rmse [0.8640459052700458, 0.8801111552203255, 0.8582414246686229, 0.8930020785905177]\n",
      "params [[16, 5, 2], [16, 5, 2], [16, 9, 2], [16, 12, 2]]\n",
      "[0.8640459052700458, 0.8801111552203255, 0.8582414246686229, 0.8930020785905177]\n",
      "[[16, 5, 2], [16, 5, 2], [16, 9, 2], [16, 12, 2]]\n",
      "[16, 12, 2]\n"
     ]
    }
   ],
   "source": [
    "models = [[16,5,2], [16,7,2],[16,9,2], [16,12,2]]\n",
    "bestAccur, bestParam = (cross_validate(np.array(nlg_rain_df_x), np.array(nlg_rain_df_target), models))"
   ]
  },
  {
   "cell_type": "code",
   "execution_count": 232,
   "metadata": {},
   "outputs": [
    {
     "name": "stderr",
     "output_type": "stream",
     "text": [
      "C:\\Users\\LENOVO\\Anaconda3\\lib\\site-packages\\ipykernel_launcher.py:14: RuntimeWarning: invalid value encountered in true_divide\n",
      "  \n"
     ]
    }
   ],
   "source": [
    "nn = NeuralNetLogReg([16,5,2])\n",
    "nn.train(XTrain, YTrain, niter=2000) \n",
    "p,target = nn.use(XTest)"
   ]
  },
  {
   "cell_type": "markdown",
   "metadata": {},
   "source": [
    "# IV - Results and plots \n",
    "\n"
   ]
  },
  {
   "cell_type": "code",
   "execution_count": 223,
   "metadata": {},
   "outputs": [
    {
     "name": "stdout",
     "output_type": "stream",
     "text": [
      "Confusion Matrix: \n",
      " [[8799    0]\n",
      " [2485    0]]\n",
      "\n",
      "Classification Report: \n",
      "               precision    recall  f1-score   support\n",
      "\n",
      "           0       0.78      1.00      0.88      8799\n",
      "           1       0.00      0.00      0.00      2485\n",
      "\n",
      "    accuracy                           0.78     11284\n",
      "   macro avg       0.39      0.50      0.44     11284\n",
      "weighted avg       0.61      0.78      0.68     11284\n",
      "\n",
      "Testing Accuracy:  77.97766749379653 %\n"
     ]
    }
   ],
   "source": [
    "cm = confusion_matrix(YTest,target)\n",
    "print(\"Confusion Matrix: \\n\", cm)\n",
    "\n",
    "cr = classification_report(YTest,target)\n",
    "print(\"\\nClassification Report: \\n\", cr)\n",
    "print(\"Testing Accuracy: \", 100 - np.mean(np.abs(YTest - target)) * 100, \"%\")"
   ]
  },
  {
   "cell_type": "code",
   "execution_count": 224,
   "metadata": {},
   "outputs": [
    {
     "data": {
      "image/png": "[encoded data removed]",
      "text/plain": [
       "<Figure size 720x360 with 1 Axes>"
      ]
     },
     "metadata": {
      "needs_background": "light"
     },
     "output_type": "display_data"
    }
   ],
   "source": [
    "false_positive, true_positive, thresholds = roc_curve(YTest, target)\n",
    "roc_auc = auc(false_positive, true_positive)\n",
    "plt.figure(figsize = (10,5))\n",
    "plt.plot(false_positive, true_positive, 'b',\n",
    "label='AUC = %0.4f'% roc_auc)\n",
    "plt.legend(loc='upper left')\n",
    "plt.plot([0,1],[0,1],'r--')\n",
    "plt.xlim([-0.1,1.2])\n",
    "plt.ylim([-0.1,1.2])\n",
    "plt.ylabel('true_positive')\n",
    "plt.xlabel('false_positive')\n",
    "plt.show()"
   ]
  },
  {
   "cell_type": "code",
   "execution_count": 225,
   "metadata": {},
   "outputs": [
    {
     "name": "stdout",
     "output_type": "stream",
     "text": [
      "\n",
      " Confusion Matrix: \n",
      " [[8799    0]\n",
      " [2485    0]]\n",
      "\n",
      " Classification Report: \n",
      "               precision    recall  f1-score   support\n",
      "\n",
      "           0       0.78      1.00      0.88      8799\n",
      "           1       0.00      0.00      0.00      2485\n",
      "\n",
      "    accuracy                           0.78     11284\n",
      "   macro avg       0.39      0.50      0.44     11284\n",
      "weighted avg       0.61      0.78      0.68     11284\n",
      "\n",
      "Testing Accuracy:  77.97766749379653 %\n"
     ]
    },
    {
     "data": {
      "image/png": "[encoded data removed]",
      "text/plain": [
       "<Figure size 1440x288 with 1 Axes>"
      ]
     },
     "metadata": {
      "needs_background": "light"
     },
     "output_type": "display_data"
    }
   ],
   "source": [
    "plt.figure(figsize = (20,4))\n",
    "plt.plot(YTest[:200])\n",
    "plt.plot(target[:200])\n",
    "cm = confusion_matrix(YTest, target)\n",
    "print(\"\\n Confusion Matrix: \\n\", cm)\n",
    "cr = classification_report(YTest, target)\n",
    "print(\"\\n Classification Report: \\n\", cr)\n",
    "print(\"Testing Accuracy: \", 100 - np.mean(np.abs(YTest - target)) * 100, \"%\")"
   ]
  },
  {
   "cell_type": "markdown",
   "metadata": {},
   "source": [
    "## Discussions about parameter/network structure choice\n",
    "\n",
    "In the assignment I built 5 layered neural network. Input layer has 16 nodes because there are 16 features in my data that are actually useful. Output layer has 2 node specifying two classes namely (RainTomorrow - \"Yes\", \"No\")\n",
    "\n",
    "\n",
    "The best network structure can be found by changing the number of nodes in hidden layer. I performed 5 fold cross validation by passing my models variable as [[16, 5, 2], [16, 5, 2], [16, 9, 2], [16, 12, 2]]. Here first value represents input nodes, second value represents number of nodes in hidden layer, third value represents output nodes.\n",
    "\n",
    "From the results of cross validation we can see that model [16, 5 ,2] has appeared more number of times. Hence the best model is the model with 16 nodes as input nodes, 5 hidden layers and 2 output layers because the rmse error for this is less.\n",
    "\n",
    "The model with number of nodes in hidden layer 5 works better. With increasing layer the model keeps on improving With more number of nodes in hidden layer network its overfitting the data.\n",
    "\n",
    "Hence, I've used [16, 5 ,2] as the final structure and I got Accuracy: 78%"
   ]
  },
  {
   "cell_type": "markdown",
   "metadata": {},
   "source": [
    "## Discussion about the prediction results\n",
    "In this assignment I have performed nonlinear logistic regression using Neural network which is nonlinear regression problem. On training the model using NeuralNetLogReg with optimum structure [16, 5 ,2], model has produced Accuracy of around 78%.\n",
    "\n",
    "We are free to choose hidden layers, activation functions that suits our problem. Each node is connected to a activation function which makes the network more powerful. I used softmax as activation function at last layer. The gradient is updating the weights in each layer during back propagation that makes the model to perform better.\n",
    "\n",
    "I tried to train the model with 4 layers the accuracy was 78%. After increasing the layer by 1, the accuracy remained the same. This means that adding more layers to the model will not always increase the accuracy, since it may overfit the data. Finally I chose 5 layers for my model. The model learned the best features to be selected from the data."
   ]
  },
  {
   "cell_type": "markdown",
   "metadata": {},
   "source": [
    "# Conclusions\n",
    "\n",
    "In this Assignment I learned various concepts in Neural networks. I learned how the complex problems can be solved by using the hidden layers and sending the outputs of one layer to the next layer. By using the algorithm given in class to perform k fold classification, I am able to implement it without using the libraries. Learing about k fold cross validation gives the knowledge of what is the best model for a particular dataset. For e.g. the number of layers in the model, number of output layers, etc. Also, sometimes increasing number of layers may not always improve the model since there is a case where it may overfit the data.\n",
    "\n",
    "To understand the working and implementation of k fold cross validation was a challenging as well as interesting part."
   ]
  },
  {
   "cell_type": "markdown",
   "metadata": {},
   "source": [
    "# Extra Credit\n",
    "\n",
    "\n"
   ]
  },
  {
   "cell_type": "markdown",
   "metadata": {},
   "source": [
    "## Loading the data again"
   ]
  },
  {
   "cell_type": "code",
   "execution_count": 266,
   "metadata": {},
   "outputs": [],
   "source": [
    "rwd3 = ReadWeatherData()\n",
    "tanh_rain_df = rwd3.weatherData(\"weatherAUS_class.csv\")"
   ]
  },
  {
   "cell_type": "code",
   "execution_count": 267,
   "metadata": {},
   "outputs": [],
   "source": [
    "rain_df_temp1 = tanh_rain_df.dropna()\n",
    "df1_temp1 = rain_df_temp1.iloc[:,2:7]\n",
    "df2_temp1 = rain_df_temp1.iloc[:,8]\n",
    "df3_temp1 = rain_df_temp1.iloc[:,11:21]\n",
    "df1_temp1 = df1_temp1.join(df2_temp1)\n",
    "df1_temp1 = df1_temp1.join(df3_temp1)\n",
    "rain_df_temp_x = df1_temp1\n",
    "tanh_rain_df_target = rain_df_temp1.iloc[:,23:24]\n"
   ]
  },
  {
   "cell_type": "code",
   "execution_count": 268,
   "metadata": {},
   "outputs": [],
   "source": [
    "tanh_rain_df_target.loc[tanh_rain_df_target['RainTomorrow'] == 'No', 'RainTomorrow'] = 0\n",
    "tanh_rain_df_target.loc[tanh_rain_df_target['RainTomorrow'] == 'Yes', 'RainTomorrow'] = 1"
   ]
  },
  {
   "cell_type": "markdown",
   "metadata": {},
   "source": [
    "**Since the data is same, I have implemented the cross validation only once and passed the same model configuration to each activation function that is Sigmoid, tanh and ReLu.**"
   ]
  },
  {
   "cell_type": "markdown",
   "metadata": {},
   "source": [
    "## Tanh"
   ]
  },
  {
   "cell_type": "code",
   "execution_count": 250,
   "metadata": {},
   "outputs": [],
   "source": [
    "from grad import scg, steepest\n",
    "from copy import copy\n",
    "\n",
    "\n",
    "class NeuralNet:\n",
    "    \"\"\" neural network class for regression\n",
    "        \n",
    "        Parameters\n",
    "        ----------\n",
    "        nunits: list\n",
    "            the number of inputs, hidden units, and outputs\n",
    "\n",
    "        Methods\n",
    "        -------\n",
    "        set_hunit    \n",
    "            update/initiate weights\n",
    "\n",
    "        pack \n",
    "            pack multiple weights of each layer into one vector\n",
    "\n",
    "        forward\n",
    "            forward processing of neural network\n",
    "\n",
    "        backward\n",
    "            back-propagation of neural network\n",
    "\n",
    "        train\n",
    "            train the neural network\n",
    "\n",
    "        use\n",
    "            appply the trained network for prediction\n",
    "\n",
    "        Attributes\n",
    "        ----------\n",
    "        _nLayers\n",
    "            the number of hidden unit layers \n",
    "\n",
    "        rho\n",
    "            learning rate\n",
    "\n",
    "        _W\n",
    "            weights\n",
    "        _weights\n",
    "            weights in one dimension (_W is referencing _weight)\n",
    "\n",
    "        stdX\n",
    "            standardization class for data\n",
    "        stdT\n",
    "            standardization class for target\n",
    "\n",
    "        Notes\n",
    "        -----\n",
    "        \n",
    "    \"\"\"\n",
    "\n",
    "    def __init__(self, nunits):\n",
    "        self._nLayers=len(nunits)-1\n",
    "        self.rho = [1] * self._nLayers\n",
    "        self._W = []\n",
    "        wdims = []\n",
    "        lenweights = 0\n",
    "        for i in range(self._nLayers):\n",
    "            nwr = nunits[i] + 1\n",
    "            nwc = nunits[i+1]\n",
    "            wdims.append((nwr, nwc))\n",
    "            lenweights = lenweights + nwr * nwc\n",
    "\n",
    "        self._weights = np.random.uniform(-0.1,0.1, lenweights) \n",
    "        start = 0  # fixed index error 20110107\n",
    "        for i in range(self._nLayers):\n",
    "            end = start + wdims[i][0] * wdims[i][1] \n",
    "            self._W.append(self._weights[start:end])\n",
    "            self._W[i].resize(wdims[i])\n",
    "            start = end\n",
    "\n",
    "        self.stdX = None\n",
    "        self.stdT = None\n",
    "        self.stdTarget = True\n",
    "\n",
    "    def add_ones(self, w):\n",
    "        return np.hstack((np.ones((w.shape[0], 1)), w))\n",
    "\n",
    "    def get_nlayers(self):\n",
    "        return self._nLayers\n",
    "\n",
    "    def set_hunit(self, w):\n",
    "        for i in range(self._nLayers-1):\n",
    "            if w[i].shape != self._W[i].shape:\n",
    "                print(\"set_hunit: shapes do not match!\")\n",
    "                break\n",
    "            else:\n",
    "                self._W[i][:] = w[i][:]\n",
    "\n",
    "    def pack(self, w):\n",
    "        return np.hstack(map(np.ravel, w))\n",
    "\n",
    "    def unpack(self, weights):\n",
    "        self._weights[:] = weights[:]  # unpack\n",
    "\n",
    "    def cp_weight(self):\n",
    "        return copy(self._weights)\n",
    "\n",
    "    def RBF(self, X, m=None,s=None):\n",
    "        if m is None: m = np.mean(X)\n",
    "        if s is None: s = 2 #np.std(X)\n",
    "        r = 1. / (np.sqrt(2*np.pi)* s)  \n",
    "        return r * np.exp(-(X - m) ** 2 / (2 * s ** 2))\n",
    "    \n",
    "    def Sigma(self, X):\n",
    "        return (1/(1+(np.exp(-(X)))))\n",
    "\n",
    "    def forward(self,X):\n",
    "        t = X \n",
    "        Z = []\n",
    "\n",
    "        for i in range(self._nLayers):\n",
    "            Z.append(t) \n",
    "            if i == self._nLayers - 1:\n",
    "                t = np.dot(self.add_ones(t), self._W[i])\n",
    "            else:\n",
    "                t = np.tanh(np.dot(self.add_ones(t), self._W[i]))\n",
    "                \n",
    "        return (t, Z)\n",
    "        \n",
    "    def backward(self, error, Z, T, lmb=0):\n",
    "        delta = error\n",
    "        N = T.size\n",
    "        dws = []\n",
    "        for i in range(self._nLayers - 1, -1, -1):\n",
    "            rh = float(self.rho[i]) / N\n",
    "            if i==0:\n",
    "                lmbterm = 0\n",
    "            else:\n",
    "                lmbterm = lmb * np.vstack((np.zeros((1, self._W[i].shape[1])),\n",
    "                            self._W[i][1:,]))\n",
    "                \n",
    "            #print(Z[i].T.shape)\n",
    "            dws.insert(0,(-rh * np.dot(self.add_ones(Z[i]).T, delta) + lmbterm))\n",
    "            if i != 0:\n",
    "                delta = np.dot(delta, self._W[i][1:, :].T) * (1 - Z[i]**2)\n",
    "        return self.pack(dws)\n",
    "\n",
    "    def _errorf(self, T, Y):\n",
    "        return T - Y\n",
    "        \n",
    "    def _objectf(self, T, Y, wpenalty):\n",
    "        return 0.5 * np.mean(np.square(T - Y)) + wpenalty\n",
    "\n",
    "    def train(self, X, T, **params):\n",
    "\n",
    "        verbose = params.pop('verbose', False)\n",
    "        # training parameters\n",
    "        _lambda = params.pop('Lambda', 0.)\n",
    "\n",
    "        #parameters for scg\n",
    "        niter = params.pop('niter', 1000)\n",
    "        wprecision = params.pop('wprecision', 1e-10)\n",
    "        fprecision = params.pop('fprecision', 1e-10)\n",
    "        wtracep = params.pop('wtracep', False)\n",
    "        ftracep = params.pop('ftracep', False)\n",
    "\n",
    "        # optimization\n",
    "        optim = params.pop('optim', 'scg')\n",
    "\n",
    "        if self.stdX == None:\n",
    "            explore = params.pop('explore', False)\n",
    "            self.stdX = Standardizer(X, explore)\n",
    "        Xs = self.stdX.standardize(X)\n",
    "        if self.stdT == None and self.stdTarget:\n",
    "            self.stdT = Standardizer(T)\n",
    "            T = self.stdT.standardize(T)\n",
    "        \n",
    "        def gradientf(weights):\n",
    "            self.unpack(weights)\n",
    "            Y,Z = self.forward(Xs)\n",
    "            \n",
    "            error = self._errorf(T, Y)\n",
    "            return self.backward(error, Z, T, _lambda)\n",
    "            \n",
    "        def optimtargetf(weights):\n",
    "            \"\"\" optimization target function : MSE \n",
    "            \"\"\"\n",
    "            self.unpack(weights)\n",
    "            #self._weights[:] = weights[:]  # unpack\n",
    "            Y,_ = self.forward(Xs)\n",
    "            Wnb=np.array([])\n",
    "            for i in range(self._nLayers):\n",
    "                if len(Wnb)==0: Wnb=self._W[i][1:,].reshape(self._W[i].size-self._W[i][0,].size,1)\n",
    "                else: Wnb = np.vstack((Wnb,self._W[i][1:,].reshape(self._W[i].size-self._W[i][0,].size,1)))\n",
    "            wpenalty = _lambda * np.dot(Wnb.flat ,Wnb.flat)\n",
    "            return self._objectf(T, Y, wpenalty)\n",
    "\n",
    "        if optim == 'scg':\n",
    "            result = scg(self.cp_weight(), gradientf, optimtargetf,\n",
    "                                        wPrecision=wprecision, fPrecision=fprecision, \n",
    "                                        nIterations=niter,\n",
    "                                        wtracep=wtracep, ftracep=ftracep,\n",
    "                                        verbose=False)\n",
    "            self.unpack(result['w'][:])\n",
    "            self.f = result['f']\n",
    "        elif optim == 'steepest':\n",
    "            result = steepest(self.cp_weight(), gradientf, optimtargetf,\n",
    "                                nIterations=niter,\n",
    "                                xPrecision=wprecision, fPrecision=fprecision,\n",
    "                                xtracep=wtracep, ftracep=ftracep )\n",
    "            self.unpack(result['w'][:])\n",
    "        if ftracep:\n",
    "            self.ftrace = result['ftrace']\n",
    "        if 'reason' in result.keys() and verbose:\n",
    "            print(result['reason'])\n",
    "\n",
    "        return result\n",
    "\n",
    "    def use(self, X, retZ=False):\n",
    "        if self.stdX:\n",
    "            Xs = self.stdX.standardize(X)\n",
    "        else:\n",
    "            Xs = X\n",
    "        Y, Z = self.forward(Xs)\n",
    "        if self.stdT is not None:\n",
    "            Y = self.stdT.unstandardize(Y)\n",
    "        if retZ:\n",
    "            return Y, Z\n",
    "        return Y"
   ]
  },
  {
   "cell_type": "code",
   "execution_count": 251,
   "metadata": {},
   "outputs": [],
   "source": [
    "def split_rain_df(s):\n",
    "    avg = len(s) / 5.0\n",
    "    out = []\n",
    "    last = 0.0\n",
    "    while last < len(s):\n",
    "        out.append(s[int(last):int(last + avg)])\n",
    "        last += avg\n",
    "    return out\n",
    "\n",
    "final_list=[]\n",
    "best_paramlist=[]\n",
    "def cross_validate(X, T, parameters):\n",
    "    partitionedX = split_rain_df(X)\n",
    "    partitionedT = split_rain_df(T)\n",
    "    for test in range(5): \n",
    "        print(\"test\",test)\n",
    "        Xtest = partitionedX[test]\n",
    "        Ttest = partitionedT[test]\n",
    "        j = 0\n",
    "        \n",
    "        history_rmse=[]\n",
    "        params=[]\n",
    "        for val in range(5): \n",
    "            print(\"val\",val)\n",
    "            if test == val: continue\n",
    "            \n",
    "            Xval = partitionedX[val]\n",
    "            Tval = partitionedT[val]\n",
    "            \n",
    "            Xtrain = partitionedX[not test and not val]\n",
    "            Ttrain = partitionedT[not test and not val]\n",
    "            \n",
    "            i = 0\n",
    "            flist=[]\n",
    "            paramlist=[]\n",
    "            for param in parameters:\n",
    "                \n",
    "                model = NeuralNetLogReg(param)\n",
    "                model.train(Xtrain, Ttrain)\n",
    "                prob,pred = model.use(Xval)\n",
    "                Tval1=Tval[:,0]\n",
    "                Tval1=np.where(Tval1==0,1,0)\n",
    "                valAcc = f1_score(Tval1, pred)\n",
    "                flist.append(valAcc)\n",
    "                paramlist.append(param)\n",
    "            print(flist)\n",
    "            print(paramlist)\n",
    "            #avg=sum(rmselist)/len(rmselist)\n",
    "            #history_rmse.append(avg)\n",
    "            print(max(flist))\n",
    "            print(paramlist[np.argmax(flist)])\n",
    "            history_rmse.append(max(flist))\n",
    "            params.append(paramlist[np.argmax(flist)])\n",
    "        print(\"history_rmse\",history_rmse)\n",
    "        print(\"params\",params)\n",
    "        #print(rmselist)\n",
    "        print(history_rmse)\n",
    "        print(params)\n",
    "        bestParam = params[np.argmax(history_rmse)]\n",
    "        print(bestParam)\n",
    "        bestModel = NeuralNetLogReg(bestParam)\n",
    "        \n",
    "        Xtrain = partitionedX[not test]\n",
    "        Ttrain = partitionedT[not test]\n",
    "        bestModel.train(Xtrain, Ttrain)\n",
    "\n",
    "        prob1,finalPred = bestModel.use(Xtest)\n",
    "        Ttest1=Ttest[:,0]\n",
    "        Ttest1=np.where(Ttest1==0,1,0)\n",
    "        myf1 = f1_score(Ttest1, finalPred)\n",
    "        final_list.append(myf1)\n",
    "        best_paramlist.append(bestParam)\n",
    "\n",
    "    return final_list,best_paramlist"
   ]
  },
  {
   "cell_type": "code",
   "execution_count": 270,
   "metadata": {},
   "outputs": [
    {
     "name": "stdout",
     "output_type": "stream",
     "text": [
      "test 0\n",
      "val 0\n",
      "val 1\n"
     ]
    },
    {
     "name": "stderr",
     "output_type": "stream",
     "text": [
      "C:\\Users\\LENOVO\\Anaconda3\\lib\\site-packages\\ipykernel_launcher.py:14: RuntimeWarning: invalid value encountered in true_divide\n",
      "  \n"
     ]
    },
    {
     "name": "stdout",
     "output_type": "stream",
     "text": [
      "[0.0, 0.0, 0.0, 0.0, 0.0]\n",
      "[[16, 3, 1], [16, 5, 1], [16, 7, 1], [16, 10, 1], [16, 12, 1]]\n",
      "0.0\n",
      "[16, 3, 1]\n",
      "val 2\n",
      "[0.0, 0.0, 0.0, 0.0, 0.0]\n",
      "[[16, 3, 1], [16, 5, 1], [16, 7, 1], [16, 10, 1], [16, 12, 1]]\n",
      "0.0\n",
      "[16, 3, 1]\n",
      "val 3\n",
      "[0.0, 0.0, 0.0, 0.0, 0.0]\n",
      "[[16, 3, 1], [16, 5, 1], [16, 7, 1], [16, 10, 1], [16, 12, 1]]\n",
      "0.0\n",
      "[16, 3, 1]\n",
      "val 4\n",
      "[0.0, 0.0, 0.0, 0.0, 0.0]\n",
      "[[16, 3, 1], [16, 5, 1], [16, 7, 1], [16, 10, 1], [16, 12, 1]]\n",
      "0.0\n",
      "[16, 3, 1]\n",
      "history_rmse [0.0, 0.0, 0.0, 0.0]\n",
      "params [[16, 3, 1], [16, 3, 1], [16, 3, 1], [16, 3, 1]]\n",
      "[0.0, 0.0, 0.0, 0.0]\n",
      "[[16, 3, 1], [16, 3, 1], [16, 3, 1], [16, 3, 1]]\n",
      "[16, 3, 1]\n",
      "test 1\n",
      "val 0\n",
      "[0.0, 0.0, 0.0, 0.0, 0.0]\n",
      "[[16, 3, 1], [16, 5, 1], [16, 7, 1], [16, 10, 1], [16, 12, 1]]\n",
      "0.0\n",
      "[16, 3, 1]\n",
      "val 1\n",
      "val 2\n",
      "[0.0, 0.0, 0.0, 0.0, 0.0]\n",
      "[[16, 3, 1], [16, 5, 1], [16, 7, 1], [16, 10, 1], [16, 12, 1]]\n",
      "0.0\n",
      "[16, 3, 1]\n",
      "val 3\n",
      "[0.0, 0.0, 0.0, 0.0, 0.0]\n",
      "[[16, 3, 1], [16, 5, 1], [16, 7, 1], [16, 10, 1], [16, 12, 1]]\n",
      "0.0\n",
      "[16, 3, 1]\n",
      "val 4\n",
      "[0.0, 0.0, 0.0, 0.0, 0.0]\n",
      "[[16, 3, 1], [16, 5, 1], [16, 7, 1], [16, 10, 1], [16, 12, 1]]\n",
      "0.0\n",
      "[16, 3, 1]\n",
      "history_rmse [0.0, 0.0, 0.0, 0.0]\n",
      "params [[16, 3, 1], [16, 3, 1], [16, 3, 1], [16, 3, 1]]\n",
      "[0.0, 0.0, 0.0, 0.0]\n",
      "[[16, 3, 1], [16, 3, 1], [16, 3, 1], [16, 3, 1]]\n",
      "[16, 3, 1]\n",
      "test 2\n",
      "val 0\n",
      "[0.0, 0.0, 0.0, 0.0, 0.0]\n",
      "[[16, 3, 1], [16, 5, 1], [16, 7, 1], [16, 10, 1], [16, 12, 1]]\n",
      "0.0\n",
      "[16, 3, 1]\n",
      "val 1\n",
      "[0.0, 0.0, 0.0, 0.0, 0.0]\n",
      "[[16, 3, 1], [16, 5, 1], [16, 7, 1], [16, 10, 1], [16, 12, 1]]\n",
      "0.0\n",
      "[16, 3, 1]\n",
      "val 2\n",
      "val 3\n",
      "[0.0, 0.0, 0.0, 0.0, 0.0]\n",
      "[[16, 3, 1], [16, 5, 1], [16, 7, 1], [16, 10, 1], [16, 12, 1]]\n",
      "0.0\n",
      "[16, 3, 1]\n",
      "val 4\n",
      "[0.0, 0.0, 0.0, 0.0, 0.0]\n",
      "[[16, 3, 1], [16, 5, 1], [16, 7, 1], [16, 10, 1], [16, 12, 1]]\n",
      "0.0\n",
      "[16, 3, 1]\n",
      "history_rmse [0.0, 0.0, 0.0, 0.0]\n",
      "params [[16, 3, 1], [16, 3, 1], [16, 3, 1], [16, 3, 1]]\n",
      "[0.0, 0.0, 0.0, 0.0]\n",
      "[[16, 3, 1], [16, 3, 1], [16, 3, 1], [16, 3, 1]]\n",
      "[16, 3, 1]\n",
      "test 3\n",
      "val 0\n",
      "[0.0, 0.0, 0.0, 0.0, 0.0]\n",
      "[[16, 3, 1], [16, 5, 1], [16, 7, 1], [16, 10, 1], [16, 12, 1]]\n",
      "0.0\n",
      "[16, 3, 1]\n",
      "val 1\n",
      "[0.0, 0.0, 0.0, 0.0, 0.0]\n",
      "[[16, 3, 1], [16, 5, 1], [16, 7, 1], [16, 10, 1], [16, 12, 1]]\n",
      "0.0\n",
      "[16, 3, 1]\n",
      "val 2\n",
      "[0.0, 0.0, 0.0, 0.0, 0.0]\n",
      "[[16, 3, 1], [16, 5, 1], [16, 7, 1], [16, 10, 1], [16, 12, 1]]\n",
      "0.0\n",
      "[16, 3, 1]\n",
      "val 3\n",
      "val 4\n",
      "[0.0, 0.0, 0.0, 0.0, 0.0]\n",
      "[[16, 3, 1], [16, 5, 1], [16, 7, 1], [16, 10, 1], [16, 12, 1]]\n",
      "0.0\n",
      "[16, 3, 1]\n",
      "history_rmse [0.0, 0.0, 0.0, 0.0]\n",
      "params [[16, 3, 1], [16, 3, 1], [16, 3, 1], [16, 3, 1]]\n",
      "[0.0, 0.0, 0.0, 0.0]\n",
      "[[16, 3, 1], [16, 3, 1], [16, 3, 1], [16, 3, 1]]\n",
      "[16, 3, 1]\n",
      "test 4\n",
      "val 0\n",
      "[0.0, 0.0, 0.0, 0.0, 0.0]\n",
      "[[16, 3, 1], [16, 5, 1], [16, 7, 1], [16, 10, 1], [16, 12, 1]]\n",
      "0.0\n",
      "[16, 3, 1]\n",
      "val 1\n",
      "[0.0, 0.0, 0.0, 0.0, 0.0]\n",
      "[[16, 3, 1], [16, 5, 1], [16, 7, 1], [16, 10, 1], [16, 12, 1]]\n",
      "0.0\n",
      "[16, 3, 1]\n",
      "val 2\n",
      "[0.0, 0.0, 0.0, 0.0, 0.0]\n",
      "[[16, 3, 1], [16, 5, 1], [16, 7, 1], [16, 10, 1], [16, 12, 1]]\n",
      "0.0\n",
      "[16, 3, 1]\n",
      "val 3\n",
      "[0.0, 0.0, 0.0, 0.0, 0.0]\n",
      "[[16, 3, 1], [16, 5, 1], [16, 7, 1], [16, 10, 1], [16, 12, 1]]\n",
      "0.0\n",
      "[16, 3, 1]\n",
      "val 4\n",
      "history_rmse [0.0, 0.0, 0.0, 0.0]\n",
      "params [[16, 3, 1], [16, 3, 1], [16, 3, 1], [16, 3, 1]]\n",
      "[0.0, 0.0, 0.0, 0.0]\n",
      "[[16, 3, 1], [16, 3, 1], [16, 3, 1], [16, 3, 1]]\n",
      "[16, 3, 1]\n"
     ]
    }
   ],
   "source": [
    "models = [[16,3,1],[16,5,1],[16,7,1], [16,10,1], [16,12,1]]\n",
    "\n",
    "bestAccuracy,bestParam = cross_validate(np.array(rain_df_temp_x), np.array(tanh_rain_df_target), models)"
   ]
  },
  {
   "cell_type": "code",
   "execution_count": 272,
   "metadata": {},
   "outputs": [],
   "source": [
    "X_train,X_test,y_train,y_test = model_selection.train_test_split(np.array(rain_df_temp_x),np.array(tanh_rain_df_target),test_size=0.30,random_state=40)"
   ]
  },
  {
   "cell_type": "code",
   "execution_count": 273,
   "metadata": {},
   "outputs": [
    {
     "name": "stderr",
     "output_type": "stream",
     "text": [
      "C:\\Users\\LENOVO\\Anaconda3\\lib\\site-packages\\ipykernel_launcher.py:95: FutureWarning: arrays to stack must be passed as a \"sequence\" type such as list or tuple. Support for non-sequence iterables such as generators is deprecated as of NumPy 1.16 and will raise an error in the future.\n"
     ]
    },
    {
     "data": {
      "text/plain": [
       "{'w': array([-2.61439577, -0.69028362, -3.01140172,  0.46581627, -0.3587454 ,\n",
       "        -0.34959044,  0.80847128, -0.17020696, -0.03642974,  0.01842952,\n",
       "         0.051707  , -6.01476628,  0.07356875,  0.04126497,  0.09505716,\n",
       "        -0.03578639, -0.2376751 ,  0.12772169,  0.18445557,  0.47692398,\n",
       "         0.21190189, -0.14804346, -0.05352951, -0.06818105, -0.18351364,\n",
       "        -0.07625264,  0.19119379, -1.20671203,  0.28164925,  0.4670469 ,\n",
       "         2.17693637,  0.40009615,  0.12981777,  0.6071842 ,  0.66631956,\n",
       "         0.50244822, -0.58715679, -0.83169742, -0.28495039, -0.16984127,\n",
       "         0.03929889,  0.18287093,  0.27842417,  0.12226693,  0.06377065,\n",
       "        -0.68576773,  0.4491301 ,  0.58629953, -0.76982233,  0.09789098,\n",
       "        -0.18994903,  0.17952214,  0.35464689,  0.98793107, -0.63644553]),\n",
       " 'f': 0.2972243595682991,\n",
       " 'reason': 'reached limit of nIterations',\n",
       " 'wtrace': None,\n",
       " 'ftrace': None}"
      ]
     },
     "execution_count": 273,
     "metadata": {},
     "output_type": "execute_result"
    }
   ],
   "source": [
    "model=NeuralNet([16,3,1])  \n",
    "\n",
    "model.train(X_train,y_train,niter=1000)"
   ]
  },
  {
   "cell_type": "code",
   "execution_count": 274,
   "metadata": {},
   "outputs": [],
   "source": [
    "y_pred=model.use(X_test)"
   ]
  },
  {
   "cell_type": "code",
   "execution_count": 275,
   "metadata": {},
   "outputs": [
    {
     "name": "stdout",
     "output_type": "stream",
     "text": [
      "RMSE: 0.31941560920883777\n",
      "R squared value: 0.401185064092905\n"
     ]
    }
   ],
   "source": [
    "from sklearn.metrics import r2_score\n",
    "print('RMSE:', np.sqrt(mean_squared_error(y_test, y_pred)))\n",
    "print('R squared value:', r2_score(y_test, y_pred))"
   ]
  },
  {
   "cell_type": "markdown",
   "metadata": {},
   "source": [
    "## ReLU"
   ]
  },
  {
   "cell_type": "code",
   "execution_count": null,
   "metadata": {},
   "outputs": [],
   "source": [
    "from grad import scg, steepest\n",
    "from copy import copy\n",
    "\n",
    "\n",
    "class NeuralNet:\n",
    "    \"\"\" neural network class for regression\n",
    "        \n",
    "        Parameters\n",
    "        ----------\n",
    "        nunits: list\n",
    "            the number of inputs, hidden units, and outputs\n",
    "\n",
    "        Methods\n",
    "        -------\n",
    "        set_hunit    \n",
    "            update/initiate weights\n",
    "\n",
    "        pack \n",
    "            pack multiple weights of each layer into one vector\n",
    "\n",
    "        forward\n",
    "            forward processing of neural network\n",
    "\n",
    "        backward\n",
    "            back-propagation of neural network\n",
    "\n",
    "        train\n",
    "            train the neural network\n",
    "\n",
    "        use\n",
    "            appply the trained network for prediction\n",
    "\n",
    "        Attributes\n",
    "        ----------\n",
    "        _nLayers\n",
    "            the number of hidden unit layers \n",
    "\n",
    "        rho\n",
    "            learning rate\n",
    "\n",
    "        _W\n",
    "            weights\n",
    "        _weights\n",
    "            weights in one dimension (_W is referencing _weight)\n",
    "\n",
    "        stdX\n",
    "            standardization class for data\n",
    "        stdT\n",
    "            standardization class for target\n",
    "\n",
    "        Notes\n",
    "        -----\n",
    "        \n",
    "    \"\"\"\n",
    "\n",
    "    def __init__(self, nunits):\n",
    "        self._nLayers=len(nunits)-1\n",
    "        self.rho = [1] * self._nLayers\n",
    "        self._W = []\n",
    "        wdims = []\n",
    "        lenweights = 0\n",
    "        for i in range(self._nLayers):\n",
    "            nwr = nunits[i] + 1\n",
    "            nwc = nunits[i+1]\n",
    "            wdims.append((nwr, nwc))\n",
    "            lenweights = lenweights + nwr * nwc\n",
    "\n",
    "        self._weights = np.random.uniform(-0.1,0.1, lenweights) \n",
    "        start = 0  # fixed index error 20110107\n",
    "        for i in range(self._nLayers):\n",
    "            end = start + wdims[i][0] * wdims[i][1] \n",
    "            self._W.append(self._weights[start:end])\n",
    "            self._W[i].resize(wdims[i])\n",
    "            start = end\n",
    "\n",
    "        self.stdX = None\n",
    "        self.stdT = None\n",
    "        self.stdTarget = True\n",
    "\n",
    "    def add_ones(self, w):\n",
    "        return np.hstack((np.ones((w.shape[0], 1)), w))\n",
    "\n",
    "    def get_nlayers(self):\n",
    "        return self._nLayers\n",
    "\n",
    "    def set_hunit(self, w):\n",
    "        for i in range(self._nLayers-1):\n",
    "            if w[i].shape != self._W[i].shape:\n",
    "                print(\"set_hunit: shapes do not match!\")\n",
    "                break\n",
    "            else:\n",
    "                self._W[i][:] = w[i][:]\n",
    "\n",
    "    def pack(self, w):\n",
    "        return np.hstack(map(np.ravel, w))\n",
    "\n",
    "    def unpack(self, weights):\n",
    "        self._weights[:] = weights[:]  # unpack\n",
    "\n",
    "    def cp_weight(self):\n",
    "        return copy(self._weights)\n",
    "\n",
    "    def RBF(self, X, m=None,s=None):\n",
    "        if m is None: m = np.mean(X)\n",
    "        if s is None: s = 2 #np.std(X)\n",
    "        r = 1. / (np.sqrt(2*np.pi)* s)  \n",
    "        return r * np.exp(-(X - m) ** 2 / (2 * s ** 2))\n",
    "    \n",
    "    def Sigma(self, X):\n",
    "        return (1/(1+(np.exp(-(X)))))\n",
    "    \n",
    "    def dSigma(self, X):\n",
    "        return ((np.exp(-x))/(1+(np.exp(-x)))^2)\n",
    "    \n",
    "    def ReLU(self, x):\n",
    "        return x * (x > 0)\n",
    "\n",
    "    def dReLU(self, x):\n",
    "        return 1. * (x > 0)\n",
    "\n",
    "    def forward(self,X):\n",
    "        t = X \n",
    "        Z = []\n",
    "\n",
    "        for i in range(self._nLayers):\n",
    "            Z.append(t) \n",
    "            if i == self._nLayers - 1:\n",
    "                t = np.dot(self.add_ones(t), self._W[i])\n",
    "            else:\n",
    "                t = self.ReLU(np.dot(self.add_ones(t), self._W[i]))\n",
    "                \n",
    "        return (t, Z)\n",
    "        \n",
    "    def backward(self, error, Z, T, lmb=0):\n",
    "        delta = error\n",
    "        N = T.size\n",
    "        dws = []\n",
    "        for i in range(self._nLayers - 1, -1, -1):\n",
    "            rh = float(self.rho[i]) / N\n",
    "            if i==0:\n",
    "                lmbterm = 0\n",
    "            else:\n",
    "                lmbterm = lmb * np.vstack((np.zeros((1, self._W[i].shape[1])),\n",
    "                            self._W[i][1:,]))\n",
    "                \n",
    "            #print(Z[i].T.shape)\n",
    "            dws.insert(0,(-rh * np.dot(self.add_ones(Z[i]).T, delta) + lmbterm))\n",
    "            if i != 0:\n",
    "                delta = np.dot(delta, self._W[i][1:, :].T) * (1. * Z[i])\n",
    "        return self.pack(dws)\n",
    "\n",
    "    def _errorf(self, T, Y):\n",
    "        return T - Y\n",
    "        \n",
    "    def _objectf(self, T, Y, wpenalty):\n",
    "        return 0.5 * np.mean(np.square(T - Y)) + wpenalty\n",
    "\n",
    "    def train(self, X, T, **params):\n",
    "\n",
    "        verbose = params.pop('verbose', False)\n",
    "        # training parameters\n",
    "        _lambda = params.pop('Lambda', 0.)\n",
    "\n",
    "        #parameters for scg\n",
    "        niter = params.pop('niter', 1000)\n",
    "        wprecision = params.pop('wprecision', 1e-10)\n",
    "        fprecision = params.pop('fprecision', 1e-10)\n",
    "        wtracep = params.pop('wtracep', False)\n",
    "        ftracep = params.pop('ftracep', False)\n",
    "\n",
    "        # optimization\n",
    "        optim = params.pop('optim', 'scg')\n",
    "\n",
    "        if self.stdX == None:\n",
    "            explore = params.pop('explore', False)\n",
    "            self.stdX = Standardizer(X, explore)\n",
    "        Xs = self.stdX.standardize(X)\n",
    "        if self.stdT == None and self.stdTarget:\n",
    "            self.stdT = Standardizer(T)\n",
    "            T = self.stdT.standardize(T)\n",
    "        \n",
    "        def gradientf(weights):\n",
    "            self.unpack(weights)\n",
    "            Y,Z = self.forward(Xs)\n",
    "            \n",
    "            error = self._errorf(T, Y)\n",
    "            return self.backward(error, Z, T, _lambda)\n",
    "            \n",
    "        def optimtargetf(weights):\n",
    "            \"\"\" optimization target function : MSE \n",
    "            \"\"\"\n",
    "            self.unpack(weights)\n",
    "            #self._weights[:] = weights[:]  # unpack\n",
    "            Y,_ = self.forward(Xs)\n",
    "            Wnb=np.array([])\n",
    "            for i in range(self._nLayers):\n",
    "                if len(Wnb)==0: Wnb=self._W[i][1:,].reshape(self._W[i].size-self._W[i][0,].size,1)\n",
    "                else: Wnb = np.vstack((Wnb,self._W[i][1:,].reshape(self._W[i].size-self._W[i][0,].size,1)))\n",
    "            wpenalty = _lambda * np.dot(Wnb.flat ,Wnb.flat)\n",
    "            return self._objectf(T, Y, wpenalty)\n",
    "\n",
    "        if optim == 'scg':\n",
    "            result = scg(self.cp_weight(), gradientf, optimtargetf,\n",
    "                                        wPrecision=wprecision, fPrecision=fprecision, \n",
    "                                        nIterations=niter,\n",
    "                                        wtracep=wtracep, ftracep=ftracep,\n",
    "                                        verbose=False)\n",
    "            self.unpack(result['w'][:])\n",
    "            self.f = result['f']\n",
    "        elif optim == 'steepest':\n",
    "            result = steepest(self.cp_weight(), gradientf, optimtargetf,\n",
    "                                nIterations=niter,\n",
    "                                xPrecision=wprecision, fPrecision=fprecision,\n",
    "                                xtracep=wtracep, ftracep=ftracep )\n",
    "            self.unpack(result['w'][:])\n",
    "        if ftracep:\n",
    "            self.ftrace = result['ftrace']\n",
    "        if 'reason' in result.keys() and verbose:\n",
    "            print(result['reason'])\n",
    "\n",
    "        return result\n",
    "\n",
    "    def use(self, X, retZ=False):\n",
    "        if self.stdX:\n",
    "            Xs = self.stdX.standardize(X)\n",
    "        else:\n",
    "            Xs = X\n",
    "        Y, Z = self.forward(Xs)\n",
    "        if self.stdT is not None:\n",
    "            Y = self.stdT.unstandardize(Y)\n",
    "        if retZ:\n",
    "            return Y, Z\n",
    "        return Y"
   ]
  },
  {
   "cell_type": "code",
   "execution_count": 276,
   "metadata": {},
   "outputs": [
    {
     "name": "stderr",
     "output_type": "stream",
     "text": [
      "C:\\Users\\LENOVO\\Anaconda3\\lib\\site-packages\\ipykernel_launcher.py:95: FutureWarning: arrays to stack must be passed as a \"sequence\" type such as list or tuple. Support for non-sequence iterables such as generators is deprecated as of NumPy 1.16 and will raise an error in the future.\n"
     ]
    },
    {
     "data": {
      "text/plain": [
       "{'w': array([-7.86876323e-01,  2.03432351e+00, -2.13185237e-01, -3.62511643e-01,\n",
       "        -1.80551441e-01,  1.92919622e-01, -2.46792202e-01, -3.88227489e-01,\n",
       "         9.63298226e-02,  1.12039929e-02, -1.14484270e-01, -6.16730484e+00,\n",
       "         3.94571689e-02, -4.95321514e-03,  4.12418945e-02, -3.82040939e-01,\n",
       "        -2.29195235e-02,  6.70147921e-01,  5.61622046e-01, -3.29242872e-01,\n",
       "        -5.38183277e-01, -2.33668818e-02,  1.59656274e-01,  1.66573176e-01,\n",
       "        -1.65485059e-01,  1.06099235e-01,  3.01289622e-01,  3.79253548e-01,\n",
       "         4.71588609e-01,  8.70119584e-01,  2.87562380e-01, -1.52496221e+00,\n",
       "        -1.60721475e+00,  7.69387094e-01,  8.10050358e-02, -3.22198920e+00,\n",
       "        -1.02559879e+00, -8.67190878e-03,  3.86557317e+00,  5.56421246e-02,\n",
       "         4.87139839e-02,  6.32959233e-01,  8.49947065e-02, -9.68787187e-02,\n",
       "        -8.45178135e-01,  6.48600205e-01,  5.29901588e-02,  1.30993288e+00,\n",
       "        -1.68511306e-02,  6.49681314e-01, -1.76240620e+00,  6.88356571e-01,\n",
       "         6.30734892e-01, -4.55802067e-01, -1.56594349e-01]),\n",
       " 'f': 0.2982690915107573,\n",
       " 'reason': 'reached limit of nIterations',\n",
       " 'wtrace': None,\n",
       " 'ftrace': None}"
      ]
     },
     "execution_count": 276,
     "metadata": {},
     "output_type": "execute_result"
    }
   ],
   "source": [
    "model=NeuralNet([16,3,1])  \n",
    "#choosing parameters which occured more number of times on the final parameter list\n",
    "#because those are the list with mininmum rmse\n",
    "model.train(X_train,y_train,niter=1000)"
   ]
  },
  {
   "cell_type": "code",
   "execution_count": 277,
   "metadata": {},
   "outputs": [
    {
     "name": "stdout",
     "output_type": "stream",
     "text": [
      "RMSE: 0.31953225969995874\n",
      "R squared value: 0.4007476101343279\n"
     ]
    }
   ],
   "source": [
    "y_pred=model.use(X_test)\n",
    "\n",
    "from sklearn.metrics import r2_score\n",
    "print('RMSE:', np.sqrt(mean_squared_error(y_test, y_pred)))\n",
    "print('R squared value:', r2_score(y_test, y_pred))"
   ]
  },
  {
   "cell_type": "markdown",
   "metadata": {},
   "source": [
    "## Sigmoid"
   ]
  },
  {
   "cell_type": "code",
   "execution_count": 278,
   "metadata": {},
   "outputs": [],
   "source": [
    "from grad import scg, steepest\n",
    "from copy import copy\n",
    "\n",
    "\n",
    "class NeuralNet:\n",
    "    \"\"\" neural network class for regression\n",
    "        \n",
    "        Parameters\n",
    "        ----------\n",
    "        nunits: list\n",
    "            the number of inputs, hidden units, and outputs\n",
    "\n",
    "        Methods\n",
    "        -------\n",
    "        set_hunit    \n",
    "            update/initiate weights\n",
    "\n",
    "        pack \n",
    "            pack multiple weights of each layer into one vector\n",
    "\n",
    "        forward\n",
    "            forward processing of neural network\n",
    "\n",
    "        backward\n",
    "            back-propagation of neural network\n",
    "\n",
    "        train\n",
    "            train the neural network\n",
    "\n",
    "        use\n",
    "            appply the trained network for prediction\n",
    "\n",
    "        Attributes\n",
    "        ----------\n",
    "        _nLayers\n",
    "            the number of hidden unit layers \n",
    "\n",
    "        rho\n",
    "            learning rate\n",
    "\n",
    "        _W\n",
    "            weights\n",
    "        _weights\n",
    "            weights in one dimension (_W is referencing _weight)\n",
    "\n",
    "        stdX\n",
    "            standardization class for data\n",
    "        stdT\n",
    "            standardization class for target\n",
    "\n",
    "        Notes\n",
    "        -----\n",
    "        \n",
    "    \"\"\"\n",
    "\n",
    "    def __init__(self, nunits):\n",
    "        self._nLayers=len(nunits)-1\n",
    "        self.rho = [1] * self._nLayers\n",
    "        self._W = []\n",
    "        wdims = []\n",
    "        lenweights = 0\n",
    "        for i in range(self._nLayers):\n",
    "            nwr = nunits[i] + 1\n",
    "            nwc = nunits[i+1]\n",
    "            wdims.append((nwr, nwc))\n",
    "            lenweights = lenweights + nwr * nwc\n",
    "\n",
    "        self._weights = np.random.uniform(-0.1,0.1, lenweights) \n",
    "        start = 0  # fixed index error 20110107\n",
    "        for i in range(self._nLayers):\n",
    "            end = start + wdims[i][0] * wdims[i][1] \n",
    "            self._W.append(self._weights[start:end])\n",
    "            self._W[i].resize(wdims[i])\n",
    "            start = end\n",
    "\n",
    "        self.stdX = None\n",
    "        self.stdT = None\n",
    "        self.stdTarget = True\n",
    "\n",
    "    def add_ones(self, w):\n",
    "        return np.hstack((np.ones((w.shape[0], 1)), w))\n",
    "\n",
    "    def get_nlayers(self):\n",
    "        return self._nLayers\n",
    "\n",
    "    def set_hunit(self, w):\n",
    "        for i in range(self._nLayers-1):\n",
    "            if w[i].shape != self._W[i].shape:\n",
    "                print(\"set_hunit: shapes do not match!\")\n",
    "                break\n",
    "            else:\n",
    "                self._W[i][:] = w[i][:]\n",
    "\n",
    "    def pack(self, w):\n",
    "        return np.hstack(map(np.ravel, w))\n",
    "\n",
    "    def unpack(self, weights):\n",
    "        self._weights[:] = weights[:]  # unpack\n",
    "\n",
    "    def cp_weight(self):\n",
    "        return copy(self._weights)\n",
    "\n",
    "    def RBF(self, X, m=None,s=None):\n",
    "        if m is None: m = np.mean(X)\n",
    "        if s is None: s = 2 #np.std(X)\n",
    "        r = 1. / (np.sqrt(2*np.pi)* s)  \n",
    "        return r * np.exp(-(X - m) ** 2 / (2 * s ** 2))\n",
    "    \n",
    "    def Sigma(self, X):\n",
    "        return (1/(1+(np.exp(-(X)))))\n",
    "    \n",
    "    def dSigma(self, X):\n",
    "        return ((np.exp(-x))/(1+(np.exp(-x)))^2)\n",
    "\n",
    "    def forward(self,X):\n",
    "        t = X \n",
    "        Z = []\n",
    "\n",
    "        for i in range(self._nLayers):\n",
    "            Z.append(t) \n",
    "            if i == self._nLayers - 1:\n",
    "                t = np.dot(self.add_ones(t), self._W[i])\n",
    "            else:\n",
    "                t = self.Sigma(np.dot(self.add_ones(t), self._W[i]))\n",
    "                \n",
    "        return (t, Z)\n",
    "        \n",
    "    def backward(self, error, Z, T, lmb=0):\n",
    "        delta = error\n",
    "        N = T.size\n",
    "        dws = []\n",
    "        for i in range(self._nLayers - 1, -1, -1):\n",
    "            rh = float(self.rho[i]) / N\n",
    "            if i==0:\n",
    "                lmbterm = 0\n",
    "            else:\n",
    "                lmbterm = lmb * np.vstack((np.zeros((1, self._W[i].shape[1])),\n",
    "                            self._W[i][1:,]))\n",
    "                \n",
    "            #print(Z[i].T.shape)\n",
    "            dws.insert(0,(-rh * np.dot(self.add_ones(Z[i]).T, delta) + lmbterm))\n",
    "            if i != 0:\n",
    "                delta = np.dot(delta, self._W[i][1:, :].T) * (np.exp(-Z[i])/(1+np.exp(-Z[i]))**2)\n",
    "        return self.pack(dws)\n",
    "\n",
    "    def _errorf(self, T, Y):\n",
    "        return T - Y\n",
    "        \n",
    "    def _objectf(self, T, Y, wpenalty):\n",
    "        return 0.5 * np.mean(np.square(T - Y)) + wpenalty\n",
    "\n",
    "    def train(self, X, T, **params):\n",
    "\n",
    "        verbose = params.pop('verbose', False)\n",
    "        # training parameters\n",
    "        _lambda = params.pop('Lambda', 0.)\n",
    "\n",
    "        #parameters for scg\n",
    "        niter = params.pop('niter', 1000)\n",
    "        wprecision = params.pop('wprecision', 1e-10)\n",
    "        fprecision = params.pop('fprecision', 1e-10)\n",
    "        wtracep = params.pop('wtracep', False)\n",
    "        ftracep = params.pop('ftracep', False)\n",
    "\n",
    "        # optimization\n",
    "        optim = params.pop('optim', 'scg')\n",
    "\n",
    "        if self.stdX == None:\n",
    "            explore = params.pop('explore', False)\n",
    "            self.stdX = Standardizer(X, explore)\n",
    "        Xs = self.stdX.standardize(X)\n",
    "        if self.stdT == None and self.stdTarget:\n",
    "            self.stdT = Standardizer(T)\n",
    "            T = self.stdT.standardize(T)\n",
    "        \n",
    "        def gradientf(weights):\n",
    "            self.unpack(weights)\n",
    "            Y,Z = self.forward(Xs)\n",
    "            \n",
    "            error = self._errorf(T, Y)\n",
    "            return self.backward(error, Z, T, _lambda)\n",
    "            \n",
    "        def optimtargetf(weights):\n",
    "            \"\"\" optimization target function : MSE \n",
    "            \"\"\"\n",
    "            self.unpack(weights)\n",
    "            #self._weights[:] = weights[:]  # unpack\n",
    "            Y,_ = self.forward(Xs)\n",
    "            Wnb=np.array([])\n",
    "            for i in range(self._nLayers):\n",
    "                if len(Wnb)==0: Wnb=self._W[i][1:,].reshape(self._W[i].size-self._W[i][0,].size,1)\n",
    "                else: Wnb = np.vstack((Wnb,self._W[i][1:,].reshape(self._W[i].size-self._W[i][0,].size,1)))\n",
    "            wpenalty = _lambda * np.dot(Wnb.flat ,Wnb.flat)\n",
    "            return self._objectf(T, Y, wpenalty)\n",
    "\n",
    "        if optim == 'scg':\n",
    "            result = scg(self.cp_weight(), gradientf, optimtargetf,\n",
    "                                        wPrecision=wprecision, fPrecision=fprecision, \n",
    "                                        nIterations=niter,\n",
    "                                        wtracep=wtracep, ftracep=ftracep,\n",
    "                                        verbose=False)\n",
    "            self.unpack(result['w'][:])\n",
    "            self.f = result['f']\n",
    "        elif optim == 'steepest':\n",
    "            result = steepest(self.cp_weight(), gradientf, optimtargetf,\n",
    "                                nIterations=niter,\n",
    "                                xPrecision=wprecision, fPrecision=fprecision,\n",
    "                                xtracep=wtracep, ftracep=ftracep )\n",
    "            self.unpack(result['w'][:])\n",
    "        if ftracep:\n",
    "            self.ftrace = result['ftrace']\n",
    "        if 'reason' in result.keys() and verbose:\n",
    "            print(result['reason'])\n",
    "\n",
    "        return result\n",
    "\n",
    "    def use(self, X, retZ=False):\n",
    "        if self.stdX:\n",
    "            Xs = self.stdX.standardize(X)\n",
    "        else:\n",
    "            Xs = X\n",
    "        Y, Z = self.forward(Xs)\n",
    "        if self.stdT is not None:\n",
    "            Y = self.stdT.unstandardize(Y)\n",
    "        if retZ:\n",
    "            return Y, Z\n",
    "        return Y"
   ]
  },
  {
   "cell_type": "code",
   "execution_count": 279,
   "metadata": {},
   "outputs": [
    {
     "name": "stderr",
     "output_type": "stream",
     "text": [
      "C:\\Users\\LENOVO\\Anaconda3\\lib\\site-packages\\ipykernel_launcher.py:95: FutureWarning: arrays to stack must be passed as a \"sequence\" type such as list or tuple. Support for non-sequence iterables such as generators is deprecated as of NumPy 1.16 and will raise an error in the future.\n"
     ]
    },
    {
     "data": {
      "text/plain": [
       "{'w': array([-4.20620937e-02,  1.65536966e-02,  8.51710119e-02,  1.43645816e-01,\n",
       "        -1.07365002e-01,  1.52548730e-01,  2.43761041e-02,  2.24265042e-01,\n",
       "        -1.69775580e-01, -5.60896926e-01,  7.58702859e-01, -5.83310677e-01,\n",
       "         4.92651860e-02,  1.62168066e-01,  7.52164649e-02,  5.97960513e-01,\n",
       "        -7.01634056e-01,  8.16605313e-01, -5.45366068e-01,  7.36932092e-01,\n",
       "        -8.18629424e-01,  7.28460256e-04, -2.54561635e-02,  1.33426408e-02,\n",
       "         1.90450932e-01, -4.98559873e-01,  2.86811638e-01, -7.03662617e-02,\n",
       "        -5.86113211e-02, -8.97418801e-02, -6.56337847e-01,  9.24368348e-01,\n",
       "        -1.03449923e+00,  1.15570895e-01,  6.05153832e-03,  1.98441975e-01,\n",
       "         3.50971781e-01, -4.86879622e-01,  3.72650495e-01,  4.27132812e-02,\n",
       "        -4.52290053e-01,  1.47994774e-01, -2.09220464e-01,  2.25440161e-02,\n",
       "        -2.67683669e-01, -8.82392839e-02,  5.42270881e-02, -8.13044215e-02,\n",
       "         4.50060237e-02, -6.47051217e-02,  7.05524832e-03,  2.21907717e-01,\n",
       "        -4.28352224e-01,  8.27777472e-01, -7.17831582e-01]),\n",
       " 'f': 0.3347745614964249,\n",
       " 'reason': 'reached limit of nIterations',\n",
       " 'wtrace': None,\n",
       " 'ftrace': None}"
      ]
     },
     "execution_count": 279,
     "metadata": {},
     "output_type": "execute_result"
    }
   ],
   "source": [
    "model=NeuralNet([16,3,1])  \n",
    "#choosing parameters which occured more number of times on the final parameter list\n",
    "#because those are the list with mininmum rmse\n",
    "model.train(X_train,y_train,niter=1000)"
   ]
  },
  {
   "cell_type": "code",
   "execution_count": 280,
   "metadata": {},
   "outputs": [
    {
     "name": "stdout",
     "output_type": "stream",
     "text": [
      "RMSE: 0.3380943423947726\n",
      "R squared value: 0.3291025206789575\n"
     ]
    }
   ],
   "source": [
    "y_pred=model.use(X_test)\n",
    "\n",
    "from sklearn.metrics import r2_score\n",
    "print('RMSE:', np.sqrt(mean_squared_error(y_test, y_pred)))\n",
    "print('R squared value:', r2_score(y_test, y_pred))"
   ]
  },
  {
   "cell_type": "markdown",
   "metadata": {},
   "source": [
    "### Extra credit conclusion\n",
    "\n",
    "The neural network is trained using three different activation functions (Sigmoid, ReLu and tanh). Each gave the different rmse error. Since the model configuration is kept same, we can easily compare the three different models."
   ]
  },
  {
   "cell_type": "markdown",
   "metadata": {},
   "source": [
    "# References\n",
    "\n",
    "1. \"Cross-Validation (Statistics)\". En.Wikipedia.Org, 2019, https://en.wikipedia.org/wiki/Cross-validation_%28statistics%29#cite_note-4\n",
    "\n",
    "2. Lecture Notes: https://nbviewer.jupyter.org/url/webpages.uncc.edu/mlee173/teach/itcs6156/notebooks/notes/Note-NonlinearLogReg.ipynb\n",
    "\n",
    "3. Lecture Notes: https://nbviewer.jupyter.org/url/webpages.uncc.edu/mlee173/teach/itcs6156/notebooks/notes/Note-Neural%20Networks.ipynb\n",
    "\n",
    "4. Lecture Notes: https://nbviewer.jupyter.org/url/webpages.uncc.edu/mlee173/teach/itcs6156/notebooks/notes/Note-ML%20Methodology.ipynb"
   ]
  },
  {
   "cell_type": "markdown",
   "metadata": {},
   "source": [
    "# How to start?\n",
    "\n",
    "* Download [a3.tgz](http://webpages.uncc.edu/mlee173/teach/itcs6156/notebooks/assign/a3.tgz). \n",
    "* Unzip the python files to current working directory.\n",
    "* Import the necessary classes or functions including NeuralNet."
   ]
  },
  {
   "cell_type": "markdown",
   "metadata": {},
   "source": [
    "## Grading\n",
    "\n",
    "DO NOT forget to submit your data! Your notebook is supposed to run fine after running your codes. \n",
    "\n",
    "** Note: this is a WRITING assignment. Proper writing is REQUIRED. Comments are not considered as writing. ** \n",
    "\n",
    "\n",
    "points | | description\n",
    "--|--|:--\n",
    "5 | Overview| states the objective and the appraoch \n",
    "10 | Data | \n",
    " | 2| Includes description of your data\n",
    " | 3| Plots to visualize data \n",
    " | 5| Reading and analyzing the plots \n",
    "40 | Methods | \n",
    " | 10| Summary of CV & correctness of implementation\n",
    " | 5| Summary of nonlinear regression \n",
    " | 5| Explanation of codes\n",
    " | 5| Summary of nonlinear logistic regression \n",
    " | 5| Explanation of codes\n",
    " |10| Examination of correct implementation (NonlinearLogReg) with toy data.\n",
    "40 | Results | Your Data\n",
    "| 10| Presentaion of CV results\n",
    "| 10| Discussions about parameter/network structure choice \n",
    "| 10| plots for results\n",
    "| 10| Discussion about the prediction results. Try to analyze what nonlinear regression model learned. \n",
    "5 | Conclusions \n"
   ]
  }
 ],
 "metadata": {
  "kernelspec": {
   "display_name": "Python 3",
   "language": "python",
   "name": "python3"
  },
  "language_info": {
   "codemirror_mode": {
    "name": "ipython",
    "version": 3
   },
   "file_extension": ".py",
   "mimetype": "text/x-python",
   "name": "python",
   "nbconvert_exporter": "python",
   "pygments_lexer": "ipython3",
   "version": "3.7.3"
  }
 },
 "nbformat": 4,
 "nbformat_minor": 2
}
